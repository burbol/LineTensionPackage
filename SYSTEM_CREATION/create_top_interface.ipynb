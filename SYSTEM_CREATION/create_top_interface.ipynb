{
 "cells": [
  {
   "cell_type": "code",
   "execution_count": 3,
   "metadata": {
    "collapsed": true
   },
   "outputs": [],
   "source": [
    "# CREATE GROMACS version 5 .gro FILE of SAM CONSITING OF \n",
    "# CARBON CHAINS WITH  CH3- AND OH- HEAD GROUPS\n",
    "# C1 AND O1 AT THE SAME z-LEVEL\n",
    "# CH2 and CH3 TREATED AS SINGLE MOLECULES (GROUP COORDINATES)"
   ]
  },
  {
   "cell_type": "code",
   "execution_count": 4,
   "metadata": {
    "collapsed": false
   },
   "outputs": [
    {
     "name": "stdout",
     "output_type": "stream",
     "text": [
      "Populating the interactive namespace from numpy and matplotlib\n"
     ]
    }
   ],
   "source": [
    "%pylab inline"
   ]
  },
  {
   "cell_type": "code",
   "execution_count": 5,
   "metadata": {
    "collapsed": true
   },
   "outputs": [],
   "source": [
    "#!/usr/bin/env python\n",
    "\n",
    "import numpy as np\n",
    "import math\n",
    "import matplotlib.pyplot as plt\n",
    "import sys"
   ]
  },
  {
   "cell_type": "code",
   "execution_count": 6,
   "metadata": {
    "collapsed": true
   },
   "outputs": [],
   "source": [
    "xcopies = 1\n",
    "ycopies = 1\n",
    "\n",
    "Nx = 10 # number of gridpoints in x-direction (carbons)\n",
    "Ny = 10 # number of gridpoints in y-direction (carbons)\n",
    "\n",
    "Nx = Nx*xcopies # number of gridpoints in x-direction (carbons)\n",
    "Ny = Ny*ycopies # number of gridpoints in y-direction (carbons)\n",
    "\n",
    "a0 = 5.0\n",
    "zPos = 21.680\n",
    "\n",
    "xinterval = 2\n",
    "yinterval = 2"
   ]
  },
  {
   "cell_type": "code",
   "execution_count": 7,
   "metadata": {
    "collapsed": false
   },
   "outputs": [
    {
     "name": "stdout",
     "output_type": "stream",
     "text": [
      "oxygens 25\n",
      "carbons 100\n",
      "pc=  25\n"
     ]
    },
    {
     "data": {
      "image/png": "[encoded data removed]",
      "text/plain": [
       "<matplotlib.figure.Figure at 0x10de18490>"
      ]
     },
     "metadata": {},
     "output_type": "display_data"
    }
   ],
   "source": [
    "pType = np.zeros([Nx,Ny],dtype=str) # particle type\n",
    "\n",
    "# set standard particle type as Carbon\n",
    "for i in range(Nx):\n",
    "  for j in range(Ny):\n",
    "    pType[i,j] = 'C' \n",
    "\n",
    "# exchange Carbons with oxygens\n",
    "n = 0\n",
    "for l in range(0,Ny,yinterval):\n",
    "    for k in range(0,Nx,xinterval):\n",
    "        pType[k,l] = 'O' \n",
    "        n = n+1\n",
    "        \n",
    "print \"oxygens\",n\n",
    "print \"carbons\", Nx*Ny\n",
    "pc = n/(float(Nx)*float(Ny))\n",
    "print \"pc= \", int(pc*100)\n",
    "\n",
    "\n",
    "################################## PLOT HEAT MAP  ######################################\n",
    "# create array with 0s where there is Oxygen (O) and ones where there is Carbon (C):\n",
    "Z = np.zeros([Nx,Ny],dtype=int)\n",
    "for i in range(Nx):\n",
    "  for j in range(Ny):\n",
    "    if pType[i,j] == 'C':\n",
    "      Z[i,j] = 1\n",
    "      \n",
    "# PLOT\n",
    "fig, ax = plt.subplots()\n",
    "ax.imshow(Z, cmap=plt.cm.winter, interpolation='nearest')\n",
    "ax.grid()\n",
    "plt.show()\n",
    "#fig.savefig('output_' + str(Percentage) + '_heatmap.pdf',format='pdf')"
   ]
  },
  {
   "cell_type": "code",
   "execution_count": 9,
   "metadata": {
    "collapsed": false
   },
   "outputs": [
    {
     "name": "stdout",
     "output_type": "stream",
     "text": [
      "oxygens 25\n",
      "carbons 100\n",
      "pc=  25\n"
     ]
    },
    {
     "data": {
      "image/png": "[encoded data removed]",
      "text/plain": [
       "<matplotlib.figure.Figure at 0x10e4fffd0>"
      ]
     },
     "metadata": {},
     "output_type": "display_data"
    }
   ],
   "source": [
    "# First basis vector V = (Vx,Vy)\n",
    "Vx = a0\n",
    "Vy = 0\n",
    "# Second basis vector W = (Wx,Wy) \n",
    "Wx = a0*np.sin(np.pi/6)\n",
    "Wy = a0*np.cos(np.pi/6)\n",
    "\n",
    "# create arrays that hold particle positions\n",
    "xPos = np.zeros([Nx,Ny],dtype=float) # x positions of particles\n",
    "yPos = np.zeros([Nx,Ny],dtype=float) # y positions of particles\n",
    "zlastPos = np.zeros([Nx,Ny],dtype=float) # zlastPos ONLY will serve to calculate the box height (z)\n",
    "\n",
    "# set particle x- and y- coordinates\n",
    "counter = 0\n",
    "for j in range(Ny):\n",
    "    x_shift = j - counter\n",
    "    for i in range(Nx):\n",
    "        xPos[i,j] = i*Vx + j*Wx\n",
    "        yPos[i,j] = i*Vy + j*Wy\n",
    "\n",
    "n=0\n",
    "for k in range(0,Nx,yinterval):\n",
    "    for l in range(0,Ny,xinterval):\n",
    "        pType[k,l] = 'O' \n",
    "        n = n+1\n",
    "for k in range(yinterval,Nx,xinterval*2):\n",
    "    for l in range(xinterval,Ny,xinterval*2):\n",
    "        if pType[k,l] != 'O':\n",
    "            pType[k,l] = 'O' \n",
    "            n = n+1\n",
    "\n",
    "print \"oxygens\",n\n",
    "print \"carbons\", Nx*Ny\n",
    "pc = n/(float(Nx)*float(Ny))\n",
    "print \"pc= \", int(pc*100)\n",
    "\n",
    "# move last atoms of every row (except lowest) to the left to get a rectangular shape\n",
    "for j in range(Ny):\n",
    "    for i in range(Nx):\n",
    "        if xPos[i,j]>xPos[-1,1]:\n",
    "           xPos[i,j] = xPos[(i-Nx+1),j-2]\n",
    "        \n",
    "\n",
    "################################## PLOT GRID  ######################################\n",
    "SizeOfDots = 8\n",
    "fig, ax = plt.subplots()\n",
    "for i in range(Nx):\n",
    "  for j in range(Ny):\n",
    "    if pType[i,j] == 'O':\n",
    "      ax.plot([xPos[i,j]],[yPos[i,j]],marker='o',markersize=SizeOfDots,color='blue')\n",
    "    else:\n",
    "      ax.plot([xPos[i,j]],[yPos[i,j]],marker='o',markersize=SizeOfDots,color='green')\n",
    "text = ', Grid '+ str(Nx)+'x'+str(Ny)    \n",
    "plt.title(\"Percentage = \" + str(int(pc*100))+text, fontsize= 14)\n",
    "plt.grid()\n",
    "plt.show()\n",
    "#fig.savefig('output_' + str(Percentage) + '_positions.pdf',format='pdf')"
   ]
  },
  {
   "cell_type": "code",
   "execution_count": 18,
   "metadata": {
    "collapsed": false
   },
   "outputs": [
    {
     "data": {
      "image/png": "[encoded data removed]",
      "text/plain": [
       "<matplotlib.figure.Figure at 0x10e523190>"
      ]
     },
     "metadata": {},
     "output_type": "display_data"
    }
   ],
   "source": [
    "# set particle x- and y- coordinates\n",
    "counter = 0\n",
    "for j in range(Ny):\n",
    "    x_shift = j - counter\n",
    "    for i in range(Nx):\n",
    "        xPos[i,j] = i*Vx + j*Wx - x_shift*Vx\n",
    "        yPos[i,j] = i*Vy + j*Wy\n",
    "        n = n + 1\n",
    "    if (j%2):\n",
    "        counter = counter + 1\n",
    "\n",
    "################################## PLOT GRID  ######################################\n",
    "SizeOfDots = 8\n",
    "fig, ax = plt.subplots()\n",
    "for i in range(Nx):\n",
    "  for j in range(Ny):\n",
    "    if pType[i,j] == 'O':\n",
    "      ax.plot([xPos[i,j]],[yPos[i,j]],marker='o',markersize=SizeOfDots,color='blue')\n",
    "    else:\n",
    "      ax.plot([xPos[i,j]],[yPos[i,j]],marker='o',markersize=SizeOfDots,color='green')\n",
    "text = ', Grid '+ str(Nx)+'x'+str(Ny)    \n",
    "plt.title(\"Percentage = \" + str(int(pc*100))+text, fontsize= 14)\n",
    "plt.grid()\n",
    "plt.show()\n",
    "#fig.savefig('output_' + str(Percentage) + '_positions.pdf',format='pdf')"
   ]
  },
  {
   "cell_type": "code",
   "execution_count": 16,
   "metadata": {
    "collapsed": false
   },
   "outputs": [
    {
     "data": {
      "image/png": "[encoded data removed]",
      "text/plain": [
       "<matplotlib.figure.Figure at 0x10f64c150>"
      ]
     },
     "metadata": {},
     "output_type": "display_data"
    }
   ],
   "source": [
    "# set particle x- and y- coordinates\n",
    "for j in range(Ny):\n",
    "    for i in range(Nx):\n",
    "        xPos[i,j] = i*Vx + j*Wx\n",
    "        yPos[i,j] = i*Vy + j*Wy \n",
    "\n",
    "for j in range(1,Ny):\n",
    "    for i in range(Nx):  # Here we move the last particles of almost each line to get a more rectangular surface shape\n",
    "        if xPos[i,j]>xPos[-1,1]:\n",
    "           xPos[i,j] = xPos[i-Nx+1,j-2]\n",
    "\n",
    "################################## PLOT GRID  ######################################\n",
    "SizeOfDots = 8\n",
    "fig, ax = plt.subplots()\n",
    "for i in range(Nx):\n",
    "  for j in range(Ny):\n",
    "    if pType[i,j] == 'O':\n",
    "      ax.plot([xPos[i,j]],[yPos[i,j]],marker='o',markersize=SizeOfDots,color='blue')\n",
    "    else:\n",
    "      ax.plot([xPos[i,j]],[yPos[i,j]],marker='o',markersize=SizeOfDots,color='green')\n",
    "text = ', Grid '+ str(Nx)+'x'+str(Ny)    \n",
    "plt.title(\"Percentage = \" + str(int(pc*100))+text, fontsize= 14)\n",
    "plt.grid()\n",
    "plt.show()\n",
    "#fig.savefig('output_' + str(Percentage) + '_positions.pdf',format='pdf')"
   ]
  },
  {
   "cell_type": "code",
   "execution_count": null,
   "metadata": {
    "collapsed": false
   },
   "outputs": [],
   "source": [
    "# WARNING!!!! THIS CELL HAS TO RUN 2 TIMES TO GET THE CORRECT VALUES (see comment of zbox)\n",
    "\n",
    "%cd /Users/burbol2/Desktop/\n",
    "#############################################  PDB FILE WRITTING    ###################################################\n",
    "xbox = round(xPos.max()-xPos.min()+(a0*0.5),3)\n",
    "ybox = round(yPos.max()-yPos.min()+Wy,3)\n",
    "zbox = round(zPos,3)-zlastPos.min() #zlastPos doesn't get a value until the end of this cell => run 2 times!\n",
    "title = 'sam ' + str(int(pc*100)) + '% OH-coverage'\n",
    "f = open('start' + str(int(pc*100)) + '.pdb','w')\n",
    "# save the particle types and positions\n",
    "f.write('TITLE     ' + title + '\\n')\n",
    "f.write('REMARK    THIS IS A SIMULATION BOX' + '\\n')\n",
    "f.write(\"CRYST1  %3.3f  %3.3f  %3.3f  90.00  90.00  90.00 P 1           1\"%(xbox,ybox,zbox) + '\\n')\n",
    "f.write('MODEL        1' + '\\n')\n",
    "\n",
    "# We start all the counters\n",
    "chainlength = 65\n",
    "totalpos=1\n",
    "chainNum = 0\n",
    "\n",
    "# First we write the top Head Group\n",
    "for i in range(Nx):\n",
    "    for j in range(Ny):   \n",
    "        chainNum = chainNum +1\n",
    "        xoldC= round(xPos[i,j],3)\n",
    "        yoldC= round(yPos[i,j],3)\n",
    "        zoldC= zPos\n",
    "        atomtype = pType[i,j]\n",
    "        indexC = 1\n",
    "        indexO = 1        \n",
    "        indexH = 1\n",
    "        if atomtype == 'O':    #OXYGEN CHAIN\n",
    "            chainlength = 63\n",
    "            chaintype='OAM' \n",
    "            xnew,ynew,znew,totalpos,indexO,indexH = writeOH(chaintype,chainNum,xoldC,yoldC,zoldC-zLengthCO,totalpos,indexO,indexH)\n",
    "            \n",
    "        elif atomtype == 'C':    #CARBON CHAIN parameters\n",
    "        #Third H atom (H3)\n",
    "            chainlength = 65\n",
    "            chaintype='SAM'\n",
    "            xnew,ynew,znew,totalpos,indexC,indexH = writeCHTOP(chaintype,chainNum,xoldC,yoldC,zoldC-zLengthCCb,totalpos,indexC,indexH)\n",
    "            \n",
    "        #here comes the \"body\" of the chain\n",
    "        for d in range(9):\n",
    " \n",
    "            ######### CHb #######\n",
    "            xnew,ynew,znew,totalpos,indexC,indexH = writeCHb(chaintype,chainNum,xnew,ynew,znew,totalpos,indexC,indexH)\n",
    "\n",
    "            ######### CHa #######\n",
    "            xnew,ynew,znew,totalpos,indexC,indexH = writeCHa(chaintype,chainNum,xnew,ynew,znew,totalpos,indexC,indexH)\n",
    "\n",
    "        # At the end of each chain we also write a last CH2 + the Head Group (BOTTOM)\n",
    "        ######### CHb #######\n",
    "        xnew,ynew,znew,totalpos,indexC,indexH = writeCHb(chaintype,chainNum,xnew,ynew,znew,totalpos,indexC,indexH)\n",
    "        \n",
    "        ######### CHBottom #######\n",
    "        xnew,ynew,znew,totalpos,indexC,indexH = writeCHBOTTOM(chaintype,chainNum,xnew,ynew,znew,totalpos,indexC,indexH)\n",
    "\n"
   ]
  },
  {
   "cell_type": "code",
   "execution_count": null,
   "metadata": {
    "collapsed": true
   },
   "outputs": [],
   "source": []
  }
 ],
 "metadata": {
  "kernelspec": {
   "display_name": "Python 2",
   "language": "python",
   "name": "python2"
  },
  "language_info": {
   "codemirror_mode": {
    "name": "ipython",
    "version": 2
   },
   "file_extension": ".py",
   "mimetype": "text/x-python",
   "name": "python",
   "nbconvert_exporter": "python",
   "pygments_lexer": "ipython2",
   "version": "2.7.6"
  }
 },
 "nbformat": 4,
 "nbformat_minor": 0
}
