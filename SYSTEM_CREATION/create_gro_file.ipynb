{
 "cells": [
  {
   "cell_type": "code",
   "execution_count": 1,
   "metadata": {
    "collapsed": true
   },
   "outputs": [],
   "source": [
    "# CREATE GROMACS version 5 .gro FILE of SAM CONSITING OF \n",
    "# CARBON CHAINS WITH  CH3- AND OH- HEAD GROUPS\n",
    "# C1 AND O1 AT THE SAME z-LEVEL\n",
    "# CH2 and CH3 TREATED AS SINGLE MOLECULES (GROUP COORDINATES)"
   ]
  },
  {
   "cell_type": "code",
   "execution_count": 2,
   "metadata": {
    "collapsed": false
   },
   "outputs": [
    {
     "name": "stdout",
     "output_type": "stream",
     "text": [
      "Populating the interactive namespace from numpy and matplotlib\n"
     ]
    }
   ],
   "source": [
    "%pylab inline"
   ]
  },
  {
   "cell_type": "code",
   "execution_count": 3,
   "metadata": {
    "collapsed": true
   },
   "outputs": [],
   "source": [
    "#!/usr/bin/env python\n",
    "\n",
    "import numpy as np\n",
    "import math\n",
    "import matplotlib.pyplot as plt\n",
    "import sys"
   ]
  },
  {
   "cell_type": "code",
   "execution_count": 19,
   "metadata": {
    "collapsed": true
   },
   "outputs": [],
   "source": [
    "Ncopies = 1 #number of unit cells\n",
    "\n",
    "#next 4 lines were used to produce 25%\"\n",
    "Nx = 10 # number of gridpoints in x-direction (carbons)\n",
    "Ny = 10 # number of gridpoints in y-direction (carbons)\n",
    "\n",
    "Nxoxy = 2 # number of oxygens in x-direction \n",
    "Nyoxy = 2 # number of oxygens in y-direction \n",
    "\n",
    "# z coordinate of first layer molecules\n",
    "zPos = 21.680\n",
    "\n",
    "# set lattice vector length\n",
    "a0 = 5.0"
   ]
  },
  {
   "cell_type": "code",
   "execution_count": 20,
   "metadata": {
    "collapsed": false
   },
   "outputs": [
    {
     "name": "stdout",
     "output_type": "stream",
     "text": [
      "Percentage wanted is 4\n"
     ]
    }
   ],
   "source": [
    "# Check percentage\n",
    "Percentage = int(100*Nxoxy*Nyoxy/(float(Nx*Ny)))\n",
    "print \"Percentage wanted is\", Percentage"
   ]
  },
  {
   "cell_type": "code",
   "execution_count": 21,
   "metadata": {
    "collapsed": false
   },
   "outputs": [
    {
     "name": "stdout",
     "output_type": "stream",
     "text": [
      "Vx= 5.0 Vy= 0\n",
      "Wx= 2.5 Wy= 4.33012701892\n",
      "xincrement=  5 yincrement=  5\n",
      "Checking output...\n",
      "number of oxygens 4\n",
      "number of carbons 100\n",
      "Percentage of output=  4\n"
     ]
    },
    {
     "data": {
      "image/png": "[encoded data removed]",
      "text/plain": [
       "<matplotlib.figure.Figure at 0x10e07fed0>"
      ]
     },
     "metadata": {},
     "output_type": "display_data"
    },
    {
     "data": {
      "image/png": "[encoded data removed]",
      "text/plain": [
       "<matplotlib.figure.Figure at 0x10e7ad6d0>"
      ]
     },
     "metadata": {},
     "output_type": "display_data"
    }
   ],
   "source": [
    "# make N copies of unit cell\n",
    "Nx = Nx*Ncopies \n",
    "Ny = Ny*Ncopies \n",
    "Nxoxy = Nxoxy*Ncopies \n",
    "Nyoxy = Nyoxy*Ncopies \n",
    "\n",
    "# first basis vector V = (Vx,Vy) \n",
    "Vx = a0\n",
    "Vy = 0\n",
    "print \"Vx=\",Vx, \"Vy=\", Vy\n",
    "\n",
    "# second basis vector W = (Wx,Wy)\n",
    "Wx = a0*np.sin(np.pi/6)\n",
    "Wy = a0*np.cos(np.pi/6)\n",
    "print \"Wx=\",Wx, \"Wy=\", Wy\n",
    "\n",
    "\n",
    "# create arrays to hold particle positions and types\n",
    "xPos = np.zeros([Nx,Ny],dtype=float) # x positions of particles\n",
    "yPos = np.zeros([Nx,Ny],dtype=float) # y positions of particles\n",
    "pType = np.zeros([Nx,Ny],dtype=str) # particle type\n",
    "zlastPos = np.zeros([Nx,Ny],dtype=float) # zlastPos ONLY will serve to calculate the box height (z)\n",
    "\n",
    "\n",
    "# set all particle types to 'C' (carbon)\n",
    "for i in range(Nx):\n",
    "  for j in range(Ny):\n",
    "    pType[i,j] = 'C' \n",
    "\n",
    "\n",
    "# set particle x- and y- coordinates\n",
    "for j in range(Ny):\n",
    "    for i in range(Nx):\n",
    "        xPos[i,j] = i*Vx + j*Wx +12.68\n",
    "        yPos[i,j] = i*Vy + j*Wy \n",
    "for j in range(Ny):\n",
    "    for i in range(Nx):  # Here we move the last particles of almost each line to get a more rectangular surface shape\n",
    "        if xPos[i,j]>xPos[-1,1]:\n",
    "           xPos[i,j] = xPos[i-Nx+1,j-2]\n",
    "            \n",
    "            \n",
    "# exchange particles (oxygens for carbons)\n",
    "#    Get indices of particles to replace:\n",
    "xincrement = Nx/Nxoxy\n",
    "yincrement = Ny/Nyoxy\n",
    "print \"xincrement= \", xincrement, \"yincrement= \", yincrement\n",
    "pType_boolean = np.ones([Nx,Ny],dtype=int) # array with 0 for oxygen and 1 for carbon (for plotting)\n",
    "n=0\n",
    "for k in range(0,Nx,xincrement):\n",
    "    for l in range(0,Ny,yincrement):\n",
    "        pType[k,l] = 'O'\n",
    "        pType_boolean[k,l] = 0\n",
    "        n = n+1\n",
    "        \n",
    "# Checking output\n",
    "print \"Checking output...\"\n",
    "print \"number of oxygens\",n\n",
    "print \"number of carbons\", Nx*Ny\n",
    "pc = n/(float(Nx)*float(Ny))\n",
    "print \"Percentage of output= \", int(pc*100)\n",
    "\n",
    "\n",
    "\n",
    "\n",
    "#Z = np.zeros([Nx,Ny],dtype=int)\n",
    "#for i in range(Nx):\n",
    "#  for j in range(Ny):\n",
    "#    if pType[i,j] == 'C':\n",
    "#      Z[i,j] = 1\n",
    "\n",
    "#   plot\n",
    "#    first we plot the heatmap\n",
    "fig, ax = plt.subplots()\n",
    "ax.imshow(pType_boolean, cmap=plt.cm.winter, interpolation='nearest')\n",
    "#fig.savefig('output_' + str(Percentage) + '_heatmap.pdf',format='pdf')\n",
    "\n",
    "#    then we plot the actual positions\n",
    "SizeOfDots = 8\n",
    "fig, ax = plt.subplots()\n",
    "for i in range(Nx):\n",
    "  for j in range(Ny):\n",
    "    if pType[i,j] == 'O':\n",
    "      ax.plot([xPos[i,j]],[yPos[i,j]],marker='o',markersize=SizeOfDots,color='blue')\n",
    "    else:\n",
    "      ax.plot([xPos[i,j]],[yPos[i,j]],marker='o',markersize=SizeOfDots,color='green')\n",
    "#ax.set_xlim(xPos[0,0]-0.5,xPos[-1,-1]+0.5)\n",
    "#ax.set_ylim(yPos[0,0]-0.5,yPos[-1,-1]+0.5)\n",
    "plt.show()\n",
    "#fig.savefig('output_' + str(Percentage) + '_positions.pdf',format='pdf')"
   ]
  },
  {
   "cell_type": "code",
   "execution_count": null,
   "metadata": {
    "collapsed": true
   },
   "outputs": [],
   "source": []
  }
 ],
 "metadata": {
  "kernelspec": {
   "display_name": "Python 2",
   "language": "python",
   "name": "python2"
  },
  "language_info": {
   "codemirror_mode": {
    "name": "ipython",
    "version": 2
   },
   "file_extension": ".py",
   "mimetype": "text/x-python",
   "name": "python",
   "nbconvert_exporter": "python",
   "pygments_lexer": "ipython2",
   "version": "2.7.6"
  }
 },
 "nbformat": 4,
 "nbformat_minor": 0
}
