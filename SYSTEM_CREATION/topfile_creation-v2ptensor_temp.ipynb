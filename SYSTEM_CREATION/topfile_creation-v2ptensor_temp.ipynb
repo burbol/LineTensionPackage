{
 "cells": [
  {
   "cell_type": "code",
   "execution_count": 1,
   "metadata": {
    "collapsed": false
   },
   "outputs": [],
   "source": [
    "import os"
   ]
  },
  {
   "cell_type": "code",
   "execution_count": 2,
   "metadata": {
    "collapsed": false
   },
   "outputs": [],
   "source": [
    "first_text = '; Include forcefield parameters'+ '\\n' \\\n",
    "'#include \"gromos53a6.ff/forcefield.itp\"'+ '\\n' + '\\n' \\\n",
    "'; Include atomtype parameters (old T1.itp)'+ '\\n' \\\n",
    "'#include \"repelOH.itp\"'+ '\\n' + '\\n' \\\n",
    "'; Include molecule parameters'+ '\\n' \\\n",
    "'#include \"c10-oh.itp\"'+ '\\n' \\\n",
    "'#include \"c10-ch3.itp\"'+ '\\n' + '\\n' \\\n",
    "'; Include water topology'+ '\\n' \\\n",
    "'#include \"gromos53a6.ff/spce.itp\"'+ '\\n' + '\\n' \\\n",
    "'; Position restraint for each water oxygen'+ '\\n' \\\n",
    "'#ifdef POSRES_WATER'+ '\\n' \\\n",
    "'[ position_restraints ]'+ '\\n' \\\n",
    "';  i funct       fcx        fcy        fcz'+ '\\n' \\\n",
    "'   1    1       1000       1000       1000'+ '\\n' \\\n",
    "'#endif'+ '\\n' + '\\n' \\\n",
    "'[ system ]'+ '\\n' \\\n",
    "'Decanol SAM in water'+ '\\n' + '\\n' \\\n",
    "'[molecules]'+ '\\n' "
   ]
  },
  {
   "cell_type": "code",
   "execution_count": 3,
   "metadata": {
    "collapsed": false
   },
   "outputs": [
    {
     "name": "stdout",
     "output_type": "stream",
     "text": [
      "; Include forcefield parameters\n",
      "#include \"gromos53a6.ff/forcefield.itp\"\n",
      "\n",
      "; Include atomtype parameters (old T1.itp)\n",
      "#include \"repelOH.itp\"\n",
      "\n",
      "; Include molecule parameters\n",
      "#include \"c10-oh.itp\"\n",
      "#include \"c10-ch3.itp\"\n",
      "\n",
      "; Include water topology\n",
      "#include \"gromos53a6.ff/spce.itp\"\n",
      "\n",
      "; Position restraint for each water oxygen\n",
      "#ifdef POSRES_WATER\n",
      "[ position_restraints ]\n",
      ";  i funct       fcx        fcy        fcz\n",
      "   1    1       1000       1000       1000\n",
      "#endif\n",
      "\n",
      "[ system ]\n",
      "Decanol SAM in water\n",
      "\n",
      "[molecules]\n",
      "\n"
     ]
    }
   ],
   "source": [
    "print first_text"
   ]
  },
  {
   "cell_type": "code",
   "execution_count": 4,
   "metadata": {
    "collapsed": true
   },
   "outputs": [],
   "source": [
    "# New version using variable first_text (instead of copying from benchfile)\n",
    "#### copy bench top file to the working folder!!! ####\n",
    "\n",
    "#path to .gro files\n",
    "\n",
    "# At home\n",
    "#samsfolder = \"/Users/burbol/GitHub/LineTensionPackage/SYSTEM_CREATION/gromacs_files/SAM_startfiles_v2_12x12/\"\n",
    "\n",
    "# In the university:\n",
    "samsfolder = \"/Users/eixeres/Dropbox/GitHub/LineTensionPackage/SYSTEM_CREATION/gromacs_files/SAM_startfiles_v2_12x12/\"\n",
    "\n",
    "# All systems\n",
    "pc = [0, 11,22,33, 37, 44, 50]\n",
    "\n",
    "# Single system for testing\n",
    "#pc = [0]"
   ]
  },
  {
   "cell_type": "code",
   "execution_count": 30,
   "metadata": {
    "collapsed": false
   },
   "outputs": [
    {
     "name": "stdout",
     "output_type": "stream",
     "text": [
      "totalSAM= 1296 totalXOH= 0 totalSOL= 7001\n",
      "lastcount: 1296 0 7001\n",
      "just created  0pc_7000.top\n",
      "totalSAM= 1152 totalXOH= 144 totalSOL= 7001\n",
      "lastcount: 1152 144 7001\n",
      "just created  11pc_7000.top\n",
      "totalSAM= 1008 totalXOH= 288 totalSOL= 7001\n",
      "lastcount: 1008 288 7001\n",
      "just created  22pc_7000.top\n",
      "totalSAM= 864 totalXOH= 432 totalSOL= 7001\n",
      "lastcount: 864 432 7001\n",
      "just created  33pc_7000.top\n",
      "totalSAM= 810 totalXOH= 486 totalSOL= 7001\n",
      "lastcount: 810 486 7001\n",
      "just created  37pc_7000.top\n",
      "totalSAM= 720 totalXOH= 576 totalSOL= 7001\n",
      "lastcount: 720 576 7001\n",
      "just created  44pc_7000.top\n",
      "totalSAM= 648 totalXOH= 648 totalSOL= 7001\n",
      "lastcount: 648 648 7001\n",
      "just created  50pc_7000.top\n"
     ]
    }
   ],
   "source": [
    "# VERSION 1 of the new sams 21% & 25% ==> #chain length of the rest:  CH3len2= 62, OHlen2= 63\n",
    "\n",
    "newCH3itp='c10-ch3.itp'\n",
    "newOHitp='c10-oh.itp'\n",
    "\n",
    "#chain length\n",
    "CH3len= 11     #length of chain with CH3-head groups\n",
    "OHlen= 12      #length of chain with OH-head groups\n",
    "\n",
    "\n",
    "# From here everything runs automatically...\n",
    "\n",
    "for i in pc:\n",
    "        \n",
    "    os.chdir(samsfolder)\n",
    "    \n",
    "    # work in a different folder for each system\n",
    "    separatedfolder='s'+str(i)\n",
    "    \n",
    "    # if folder does not exists, create it\n",
    "    if not os.path.isdir(separatedfolder):\n",
    "        os.mkdir(separatedfolder)\n",
    "        \n",
    "    os.chdir(separatedfolder)\n",
    "\n",
    "    #name of .gro files (input)\n",
    "    grofile='sam'+str(i)+'.gro'\n",
    "\n",
    "    #name of new .top file (output)\n",
    "    newtop= str(i)+'pc_'+'.top'\n",
    "\n",
    "    # we create the new file by openning and closing it\n",
    "    #creating = open(newtop, 'w+')\n",
    "    #creating.close()\n",
    "\n",
    "    # count number of atoms in c10-Ch3 and c10-oh chains, and number of solvent atoms\n",
    "    f = open(samsfolder + grofile)\n",
    "    totalSAM = 0\n",
    "    totalXOH = 0\n",
    "    totalSOL = 0\n",
    "    for line in f:\n",
    "        if \"SAM\" in line:\n",
    "            totalSAM += 1\n",
    "        elif \"XOH\" in line:\n",
    "            totalXOH += 1\n",
    "        elif \"SOL\" in line:\n",
    "            totalSOL += 1\n",
    "    f.close()\n",
    "\n",
    "    # determine number of chains\n",
    "    totalSAM = int(totalSAM/CH3len)\n",
    "    totalXOH = int(totalXOH/OHlen)\n",
    "\n",
    "    # determine number of solvent molecules\n",
    "    totalSOL = int(totalSOL/3)\n",
    "\n",
    "    # print out calculated numbers\n",
    "    print \"totalSAM=\",totalSAM,\"totalXOH=\",totalXOH,\"totalSOL=\",totalSOL\n",
    "\n",
    "    # create new .top file\n",
    "    with open(newtop, 'w') as f1:\n",
    "        \n",
    "        k = 0\n",
    "        m = 0\n",
    "        f1.write(first_text)\n",
    "\n",
    "        # write into new .top file\n",
    "        with open(samsfolder + grofile, 'r') as h:\n",
    "            \n",
    "            # set counters to zero\n",
    "            lastcountsam=0\n",
    "            lastcountXOH=0\n",
    "            \n",
    "            # write one line for each carbon chain\n",
    "            for line2 in h:\n",
    "                # write one line for each chain with CH3-head group\n",
    "                if \"SAM\" in line2:\n",
    "                    k = k + 1\n",
    "                    if k in range(2,(totalSAM*CH3len)+1,CH3len):\n",
    "                        #print k\n",
    "                        #print line2\n",
    "                        f1.write(\"SAM\t1\\n\")\n",
    "                        lastcountsam += 1\n",
    "                # write one line for each chain with OH-head group\n",
    "                elif \"XOH\" in line2:\n",
    "                    m = m + 1\n",
    "                    if m in range(1,(totalXOH*OHlen)+1,OHlen):\n",
    "                        #print m\n",
    "                        #print line2\n",
    "                        f1.write(\"XOH\t1\\n\")\n",
    "                        lastcountXOH += 1\n",
    "            \n",
    "        # write number of water molecules at the end of file\n",
    "        f1.write(\"SOL\t\"+str(totalSOL)+\"\\n\")\n",
    "\n",
    "        # check number of chains and water molecules\n",
    "        print \"lastcount:\",lastcountsam,lastcountXOH,totalSOL\n",
    "        print \"just created \", newtop"
   ]
  },
  {
   "cell_type": "code",
   "execution_count": 34,
   "metadata": {
    "collapsed": false
   },
   "outputs": [],
   "source": [
    "# Move .gro files to separatedfolder (1 folder for each system)\n",
    "import shutil\n",
    "\n",
    "os.chdir(samsfolder)\n",
    "\n",
    "for i in pc:\n",
    "    for j in molec:\n",
    "        \n",
    "        grofile='sam'+str(i)+'_water'+str(j)+'.gro'\n",
    "        separatedfolder='s'+str(i)+'_w'+str(j)\n",
    "        \n",
    "        shutil.move(grofile, separatedfolder + '/' + grofile)"
   ]
  },
  {
   "cell_type": "code",
   "execution_count": 37,
   "metadata": {
    "collapsed": false
   },
   "outputs": [],
   "source": [
    "# Copy .itp files to separatedfolder\n",
    "\n",
    "gromacsfolder = \"/Users/eixeres/Dropbox/GitHub/LineTensionPackage/SYSTEM_CREATION/gromacs_files/\"\n",
    "os.chdir(gromacsfolder)\n",
    "\n",
    "for i in pc:\n",
    "    for j in molec:\n",
    "        separatedfolder='s'+str(i)+'_w'+str(j)\n",
    "        shutil.copy2('c10-oh.itp', samsfolder+separatedfolder + '/' )\n",
    "        shutil.copy2('c10-ch3.itp', samsfolder+separatedfolder + '/' )\n",
    "        shutil.copy2('repelOH.itp', samsfolder+separatedfolder + '/' )"
   ]
  },
  {
   "cell_type": "code",
   "execution_count": null,
   "metadata": {
    "collapsed": true
   },
   "outputs": [],
   "source": []
  }
 ],
 "metadata": {
  "kernelspec": {
   "display_name": "Python 2",
   "language": "python",
   "name": "python2"
  },
  "language_info": {
   "codemirror_mode": {
    "name": "ipython",
    "version": 2
   },
   "file_extension": ".py",
   "mimetype": "text/x-python",
   "name": "python",
   "nbconvert_exporter": "python",
   "pygments_lexer": "ipython2",
   "version": "2.7.11"
  }
 },
 "nbformat": 4,
 "nbformat_minor": 0
}
