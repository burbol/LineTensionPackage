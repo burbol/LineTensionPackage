{
 "cells": [
  {
   "cell_type": "code",
   "execution_count": 1,
   "metadata": {
    "collapsed": false
   },
   "outputs": [],
   "source": [
    "# Testing configuration of upper interface of SAMs with different OH- headgroups percentages\n",
    "# (polarities). The surface is configured as a grid of atoms (C and O)\n",
    "import numpy as np\n",
    "import math\n",
    "import matplotlib.pyplot as plt\n",
    "import sys\n",
    "import os\n",
    "import pdbfile_v2 as pdb"
   ]
  },
  {
   "cell_type": "code",
   "execution_count": 2,
   "metadata": {
    "collapsed": false
   },
   "outputs": [
    {
     "name": "stdout",
     "output_type": "stream",
     "text": [
      "Populating the interactive namespace from numpy and matplotlib\n"
     ]
    }
   ],
   "source": [
    "%pylab inline"
   ]
  },
  {
   "cell_type": "code",
   "execution_count": 11,
   "metadata": {
    "collapsed": true
   },
   "outputs": [],
   "source": [
    "########################### SET PARAMETERS FOR THE SIZE ###############################\n",
    "xcopies = 1\n",
    "ycopies = 1\n",
    "\n",
    "Nx = 3 # number of gridpoints in x-direction (carbons)\n",
    "Ny = 3 # number of gridpoints in y-direction (carbons)\n",
    "\n",
    "Nx = Nx*xcopies # number of gridpoints in x-direction (carbons)\n",
    "Ny = Ny*ycopies # number of gridpoints in y-direction (carbons)\n",
    "\n",
    "a0 = 5.0 # set lattice vector length"
   ]
  },
  {
   "cell_type": "code",
   "execution_count": 4,
   "metadata": {
    "collapsed": false
   },
   "outputs": [
    {
     "name": "stdout",
     "output_type": "stream",
     "text": [
      "13.9805157135\n"
     ]
    }
   ],
   "source": [
    "# Approximate position of head groups on top of the surface so that the bottom ones are approx. at z=0\n",
    "CCbondangle = 109.5\n",
    "CCbondlength = 1.54\n",
    "N_carbons = 11\n",
    "zlast = N_carbons*CCbondlength*sin(radians(CCbondangle/2))*cos(np.pi/6) #vertical length of the chain without upper head group\n",
    "zlast = zlast + 2.0 # add approx. the bond lengths of C-O and H-O (upper head group)\n",
    "print zlast"
   ]
  },
  {
   "cell_type": "code",
   "execution_count": 5,
   "metadata": {
    "collapsed": false
   },
   "outputs": [],
   "source": [
    "################################## FUNCTION TO PLOT HEAT MAP  ######################################\n",
    "def plotheat(pType, pc, Nx, Ny, loop):\n",
    "    # HEATMAP\n",
    "    #   create array with 0s where there is O\n",
    "    #   and ones where there is C:\n",
    "    Z = np.zeros([Nx,Ny],dtype=int)\n",
    "    for i in range(Nx):\n",
    "        for j in range(Ny):\n",
    "            if pType[i,j] == 'C':\n",
    "                Z[i,j] = 1\n",
    "    \n",
    "    # plot the heatmap\n",
    "    fig, ax = plt.subplots()\n",
    "    ax.imshow(Z, cmap=plt.cm.winter, interpolation='nearest')\n",
    "              \n",
    "    myfile = 'pc' + str(int(pc*100)) + '_heat_'+ str(loop) +'.pdf'\n",
    "    n = 1\n",
    "    while os.path.isfile(myfile): # If file exists, change file name\n",
    "        myfile = 'pc' + str(int(pc*100)) + '_heat_'+ str(loop) +'_'+ str(n) + '.pdf'\n",
    "        n = n + 1\n",
    "    fig.savefig(myfile ,format='pdf')"
   ]
  },
  {
   "cell_type": "code",
   "execution_count": 6,
   "metadata": {
    "collapsed": true
   },
   "outputs": [],
   "source": [
    "################################## FUNCTION TO PLOT GRID  ######################################\n",
    "def plotgrid(pType, a0, pc, Nx, Ny, text, loop):\n",
    "    \n",
    "    xPos, yPos = pdb.creategrid(a0, Nx, Ny)\n",
    "    \n",
    "    SizeOfDots = 8\n",
    "    fig, ax = plt.subplots()\n",
    "    for i in range(Nx):\n",
    "        for j in range(Ny):\n",
    "            if pType[i,j] == 'O':\n",
    "                ax.plot([xPos[i,j]],[yPos[i,j]],marker='o',markersize=SizeOfDots,color='blue')\n",
    "            else:\n",
    "                ax.plot([xPos[i,j]],[yPos[i,j]],marker='o',markersize=SizeOfDots,color='yellow')\n",
    "                \n",
    "    plt.title(\"Pc = \" + str(int(pc*100)) + text, fontsize= 14)\n",
    "    plt.grid()\n",
    "    plt.show()\n",
    "    myfile = 'pc' + str(int(pc*100)) + '_grid_'+ str(loop) +'.pdf'\n",
    "    n = 1\n",
    "    while os.path.isfile(myfile): # If file exists, change file name\n",
    "        myfile = 'pc' + str(int(pc*100)) + '_grid_'+ str(loop) +'_'+ str(n) + '.pdf'\n",
    "        n = n + 1\n",
    "    fig.savefig(myfile ,format='pdf')"
   ]
  },
  {
   "cell_type": "code",
   "execution_count": 7,
   "metadata": {
    "collapsed": true
   },
   "outputs": [],
   "source": [
    "\n",
    "########################### EXCHANGE CARBONS WITH OXYGENS #############################"
   ]
  },
  {
   "cell_type": "code",
   "execution_count": 8,
   "metadata": {
    "collapsed": true
   },
   "outputs": [],
   "source": [
    "path = \"/Users/eixeres/Desktop/Plots_small_grids/\"\n",
    "os.chdir(path)"
   ]
  },
  {
   "cell_type": "code",
   "execution_count": 14,
   "metadata": {
    "collapsed": false
   },
   "outputs": [
    {
     "name": "stdout",
     "output_type": "stream",
     "text": [
      "[['C' 'C' 'C']\n",
      " ['C' 'C' 'C']\n",
      " ['C' 'C' 'C']]\n"
     ]
    },
    {
     "data": {
      "image/png": "[encoded data removed]",
      "text/plain": [
       "<matplotlib.figure.Figure at 0x10ef33b90>"
      ]
     },
     "metadata": {},
     "output_type": "display_data"
    }
   ],
   "source": [
    "\"\"\"\n",
    "########################### Print empty grid #############################################\n",
    "\n",
    "loop = 'Empty_'+ str(Nx) + 'x' +str(Ny)\n",
    "pType = pdb.C_restart(Nx,Ny)\n",
    "pc = 0\n",
    "mytext = ', Empty Grid ' + str(Nx) + 'x' +str(Ny)\n",
    "print pType.T\n",
    "plotgrid(pType.T, a0, pc, Nx, Ny, mytext, loop)\n",
    "\"\"\""
   ]
  },
  {
   "cell_type": "code",
   "execution_count": 15,
   "metadata": {
    "collapsed": false
   },
   "outputs": [
    {
     "data": {
      "image/png": "[encoded data removed]",
      "text/plain": [
       "<matplotlib.figure.Figure at 0x10ec3db90>"
      ]
     },
     "metadata": {},
     "output_type": "display_data"
    },
    {
     "data": {
      "image/png": "[encoded data removed]",
      "text/plain": [
       "<matplotlib.figure.Figure at 0x10ec3d250>"
      ]
     },
     "metadata": {},
     "output_type": "display_data"
    }
   ],
   "source": [
    "pType = pdb.C_restart(Nx,Ny)\n",
    "loop = 'Manual_small'\n",
    "mytext = ' '\n",
    "pType[1,1] = 'O'\n",
    "n_oxys = 1\n",
    "pc = float(n_oxys)/float(Nx*Ny)\n",
    "plotgrid(pType, a0, pc, Nx, Ny, mytext, loop)\n",
    "plotheat(pType, pc, Nx, Ny, loop)"
   ]
  },
  {
   "cell_type": "code",
   "execution_count": 17,
   "metadata": {
    "collapsed": false
   },
   "outputs": [
    {
     "data": {
      "image/png": "[encoded data removed]",
      "text/plain": [
       "<matplotlib.figure.Figure at 0x10ea5ab50>"
      ]
     },
     "metadata": {},
     "output_type": "display_data"
    },
    {
     "data": {
      "image/png": "[encoded data removed]",
      "text/plain": [
       "<matplotlib.figure.Figure at 0x10e88ef90>"
      ]
     },
     "metadata": {},
     "output_type": "display_data"
    }
   ],
   "source": [
    "######################## Automactic Distance ###############################\n",
    "loop = 'Autom'\n",
    "\n",
    "Nxoxy = 6 # number of oxygens in x-direction \n",
    "Nyoxy = 3 # number of oxygens in y-direction \n",
    "\n",
    "# exchange particles (oxygens for carbons)\n",
    "#    Get indices of particles to replace:\n",
    "xincrement = Nx/Nxoxy\n",
    "yincrement = Ny/Nyoxy\n",
    "\n",
    "n_oxys =0\n",
    "pType = pdb.C_restart(Nx,Ny)\n",
    "for k in range(0,Nx,xincrement):\n",
    "    for l in range(0,Ny,yincrement):\n",
    "        if pType[k,l]=='C':\n",
    "                pType[k,l] = 'O' \n",
    "                n_oxys = n_oxys + 1\n",
    "pc = float(n_oxys)/float(Nx*Ny)\n",
    "mytext = ', Loop Automatic, Xint='+ str(xincrement)+', Yint='+str(yincrement)\n",
    "plotgrid(pType, a0, pc, Nx, Ny, mytext, loop)\n",
    "plotheat(pType, pc, Nx, Ny, loop)"
   ]
  },
  {
   "cell_type": "code",
   "execution_count": 26,
   "metadata": {
    "collapsed": false
   },
   "outputs": [
    {
     "data": {
      "text/plain": [
       "'\\nxPos, yPos = pdb.creategrid(a0, Nx, Ny)\\npdb.writepdb(pType,xPos,yPos,zlast,pc,a0,Nx,Ny)\\n'"
      ]
     },
     "execution_count": 26,
     "metadata": {},
     "output_type": "execute_result"
    }
   ],
   "source": [
    "\"\"\"\n",
    "xPos, yPos = pdb.creategrid(a0, Nx, Ny)\n",
    "pdb.writepdb(pType,xPos,yPos,zlast,pc,a0,Nx,Ny)\n",
    "\"\"\""
   ]
  },
  {
   "cell_type": "code",
   "execution_count": 35,
   "metadata": {
    "collapsed": true
   },
   "outputs": [],
   "source": [
    "################ NOW WE CREATE THE CHOSEN SURFACES (CHOSEN BY LOOKING AT OUTPUT PICTURES)   ################"
   ]
  },
  {
   "cell_type": "code",
   "execution_count": null,
   "metadata": {
    "collapsed": true
   },
   "outputs": [],
   "source": []
  }
 ],
 "metadata": {
  "kernelspec": {
   "display_name": "Python 2",
   "language": "python",
   "name": "python2"
  },
  "language_info": {
   "codemirror_mode": {
    "name": "ipython",
    "version": 2
   },
   "file_extension": ".py",
   "mimetype": "text/x-python",
   "name": "python",
   "nbconvert_exporter": "python",
   "pygments_lexer": "ipython2",
   "version": "2.7.11"
  }
 },
 "nbformat": 4,
 "nbformat_minor": 0
}
