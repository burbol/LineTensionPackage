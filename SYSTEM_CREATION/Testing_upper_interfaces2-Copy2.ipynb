{
 "cells": [
  {
   "cell_type": "code",
   "execution_count": 1,
   "metadata": {
    "collapsed": false
   },
   "outputs": [
    {
     "data": {
      "text/plain": [
       "'This notebook creates a hcp crystal by defining a small primitive cell, and then copying it periodically on a grid '"
      ]
     },
     "execution_count": 1,
     "metadata": {},
     "output_type": "execute_result"
    }
   ],
   "source": [
    "\"\"\"This notebook creates a hcp crystal by defining a small primitive cell, and then copying it periodically on a grid \"\"\""
   ]
  },
  {
   "cell_type": "code",
   "execution_count": 1,
   "metadata": {
    "collapsed": false
   },
   "outputs": [],
   "source": [
    "# Testing configuration of upper interface of SAMs with different OH- headgroups percentages\n",
    "# (polarities). The surface is configured as a grid of atoms (C and O)\n",
    "import numpy as np\n",
    "import math\n",
    "import matplotlib.pyplot as plt\n",
    "import sys\n",
    "import os\n",
    "import pdbfile_v2 as pdb"
   ]
  },
  {
   "cell_type": "code",
   "execution_count": 2,
   "metadata": {
    "collapsed": false
   },
   "outputs": [
    {
     "name": "stdout",
     "output_type": "stream",
     "text": [
      "Populating the interactive namespace from numpy and matplotlib\n"
     ]
    }
   ],
   "source": [
    "%pylab inline"
   ]
  },
  {
   "cell_type": "code",
   "execution_count": 3,
   "metadata": {
    "collapsed": false
   },
   "outputs": [],
   "source": [
    "path = \"/Users/burbol2/Desktop/Plots_grid_12x12/\"\n",
    "#path = \"/Users/eixeres/Desktop/Plots_grid_36x36/\"\n",
    "#path = \"/Users/burbol2/Desktop/PlotsLoops/Copy2\"\n",
    "os.chdir(path)"
   ]
  },
  {
   "cell_type": "code",
   "execution_count": 16,
   "metadata": {
    "collapsed": true
   },
   "outputs": [],
   "source": [
    "########################### SET PARAMETERS FOR THE SIZE ###############################\n",
    "\n",
    "Nx = 4 # number of gridpoints in x-direction (carbons)\n",
    "Ny = 2 # number of gridpoints in y-direction (carbons)\n",
    "\n",
    "xcopies = 3\n",
    "ycopies = 6"
   ]
  },
  {
   "cell_type": "code",
   "execution_count": 5,
   "metadata": {
    "collapsed": false
   },
   "outputs": [
    {
     "name": "stdout",
     "output_type": "stream",
     "text": [
      "13.9805157135\n"
     ]
    }
   ],
   "source": [
    "\"\"\" This cell isn't needed anymore. zlast is directly calculated inside the function pdb.writepdb \"\"\"\n",
    "# Approximate position of head groups on top of the surface so that the bottom ones are approx. at z=0\n",
    "CCbondangle = 109.5\n",
    "CCbondlength = 1.54\n",
    "N_carbons = 11\n",
    "zlast = N_carbons*CCbondlength*sin(radians(CCbondangle/2))*cos(np.pi/6) #vertical length of the chain without upper head group\n",
    "zlast = zlast + 2.0 # add approx. the bond lengths of C-O and H-O (upper head group)\n",
    "print zlast"
   ]
  },
  {
   "cell_type": "code",
   "execution_count": 6,
   "metadata": {
    "collapsed": true
   },
   "outputs": [],
   "source": [
    "\"\"\"Copy unit cell \"\"\"\n",
    "\n",
    "def copycell(Nx, Ny, pType, xcopies, ycopies):\n",
    "    for j in range(ycopies):\n",
    "        for l in range(Ny):\n",
    "            for k in range(Nx):\n",
    "                for i in range(xcopies):\n",
    "                    #if (j!=0 and i!=0):\n",
    "                        #print '[' , k+(i*Nx) , ',' , l+(j*Ny) , '] = [', k ,',', l ,']', pType[k,l]\n",
    "                        pType[k+(i*Nx),l+(j*Ny)] = pType[k,l]\n",
    "    return pType"
   ]
  },
  {
   "cell_type": "code",
   "execution_count": 7,
   "metadata": {
    "collapsed": true
   },
   "outputs": [],
   "source": [
    "################################## FUNCTION TO PLOT HEAT MAP  ######################################\n",
    "def plotheat(pType, pc, Nx, Ny, loop):\n",
    "    # HEATMAP\n",
    "    #   create array with 0s where there is O\n",
    "    #   and ones where there is C:\n",
    "    Z = np.zeros([Nx,Ny],dtype=int)\n",
    "    for i in range(Nx):\n",
    "        for j in range(Ny):\n",
    "            if pType[i,j] == 'C':\n",
    "                Z[i,j] = 1\n",
    "    \n",
    "    # plot the heatmap\n",
    "    fig, ax = plt.subplots()\n",
    "    ax.imshow(Z, cmap=plt.cm.winter, interpolation='nearest')\n",
    "              \n",
    "    myfile = 'pc' + str(int(pc*100)) + '_heat_'+ str(loop) +'.pdf'\n",
    "    n = 1\n",
    "    while os.path.isfile(myfile): # If file exists, change file name\n",
    "        myfile = 'pc' + str(int(pc*100)) + '_heat_'+ str(loop) +'_'+ str(n) + '.pdf'\n",
    "        n = n + 1\n",
    "    #fig.savefig(myfile ,format='pdf')"
   ]
  },
  {
   "cell_type": "code",
   "execution_count": 8,
   "metadata": {
    "collapsed": true
   },
   "outputs": [],
   "source": [
    "################################## FUNCTION TO PLOT GRID  ######################################\n",
    "def plotgrid(pType, pc, Nx, Ny, text, loop):\n",
    "    \n",
    "    xPos, yPos = pdb.creategrid(Nx, Ny)\n",
    "    \n",
    "    SizeOfDots = 8\n",
    "    fig, ax = plt.subplots()\n",
    "    for i in range(Nx):\n",
    "        for j in range(Ny):\n",
    "            if pType[i,j] == 'O':\n",
    "                ax.plot([xPos[i,j]],[yPos[i,j]],marker='o',markersize=SizeOfDots,color='blue')\n",
    "            else:\n",
    "                ax.plot([xPos[i,j]],[yPos[i,j]],marker='o',markersize=SizeOfDots,color='yellow')\n",
    "                \n",
    "    plt.title(\"Pc = \" + str(int(pc*100)) + text, fontsize= 14)\n",
    "    plt.grid()\n",
    "    plt.show()\n",
    "    myfile = 'pc' + str(int(pc*100)) + '_grid_'+ str(loop) +'.pdf'\n",
    "    n = 1\n",
    "    while os.path.isfile(myfile): # If file exists, change file name\n",
    "        myfile = 'pc' + str(int(pc*100)) + '_grid_'+ str(loop) +'_'+ str(n) + '.pdf'\n",
    "        n = n + 1\n",
    "    #fig.savefig(myfile ,format='pdf')"
   ]
  },
  {
   "cell_type": "code",
   "execution_count": 9,
   "metadata": {
    "collapsed": true
   },
   "outputs": [],
   "source": [
    "########################### EXCHANGE CARBONS WITH OXYGENS #############################"
   ]
  },
  {
   "cell_type": "code",
   "execution_count": 10,
   "metadata": {
    "collapsed": false
   },
   "outputs": [
    {
     "data": {
      "image/png": "[encoded data removed]",
      "text/plain": [
       "<matplotlib.figure.Figure at 0x10c2fb650>"
      ]
     },
     "metadata": {},
     "output_type": "display_data"
    }
   ],
   "source": [
    "# Percentage 0%\n",
    "loop = '3x3' # end of file name\n",
    "pType = pdb.C_restart(Nx*xcopies,Ny*ycopies)\n",
    "n_oxys = 0\n",
    "pc = 0\n",
    "\n",
    "mytext = '' # Plot title\n",
    "pType = copycell(Nx, Ny, pType, xcopies, ycopies)\n",
    "plotgrid(pType, pc, Nx*xcopies, Ny*ycopies, mytext, loop)"
   ]
  },
  {
   "cell_type": "code",
   "execution_count": 11,
   "metadata": {
    "collapsed": false
   },
   "outputs": [
    {
     "name": "stdout",
     "output_type": "stream",
     "text": [
      "0.111111111111\n"
     ]
    },
    {
     "data": {
      "image/png": "[encoded data removed]",
      "text/plain": [
       "<matplotlib.figure.Figure at 0x112104850>"
      ]
     },
     "metadata": {},
     "output_type": "display_data"
    },
    {
     "data": {
      "image/png": "[encoded data removed]",
      "text/plain": [
       "<matplotlib.figure.Figure at 0x1121048d0>"
      ]
     },
     "metadata": {},
     "output_type": "display_data"
    }
   ],
   "source": [
    "# Percentage 11%\n",
    "# we are using Nx = 3, Ny = 3\n",
    "\n",
    "loop = '3x3' # end of file name\n",
    "pType = pdb.C_restart(Nx*xcopies,Ny*ycopies)\n",
    "n_oxys = 0\n",
    "pType[1,1] = 'O' \n",
    "n_oxys = n_oxys + 1\n",
    "pc = float(n_oxys)/float(Nx*Ny)\n",
    "print pc\n",
    "mytext = '' # Plot title\n",
    "pType = copycell(Nx, Ny, pType, xcopies, ycopies)\n",
    "plotgrid(pType, pc, Nx*xcopies, Ny*ycopies, mytext, loop)\n",
    "plotheat(pType, pc, Nx*xcopies, Ny*ycopies, loop)"
   ]
  },
  {
   "cell_type": "code",
   "execution_count": 12,
   "metadata": {
    "collapsed": false
   },
   "outputs": [
    {
     "name": "stdout",
     "output_type": "stream",
     "text": [
      "0.222222222222\n"
     ]
    },
    {
     "data": {
      "image/png": "[encoded data removed]",
      "text/plain": [
       "<matplotlib.figure.Figure at 0x112711450>"
      ]
     },
     "metadata": {},
     "output_type": "display_data"
    },
    {
     "data": {
      "image/png": "[encoded data removed]",
      "text/plain": [
       "<matplotlib.figure.Figure at 0x1129ce250>"
      ]
     },
     "metadata": {},
     "output_type": "display_data"
    }
   ],
   "source": [
    "# Percentage 22%\n",
    "# we are using Nx = 3, Ny = 3\n",
    "\n",
    "loop = '3x3' # end of file name\n",
    "pType = pdb.C_restart(Nx*xcopies,Ny*ycopies)\n",
    "n_oxys = 0\n",
    "\n",
    "# Type 0 -> Good!\n",
    "#pType[0,0] = 'O'\n",
    "#n_oxys = n_oxys + 1\n",
    "#pType[2,2] = 'O'\n",
    "#n_oxys = n_oxys + 1\n",
    "\n",
    "# Type 1\n",
    "#pType[0,2] = 'O'\n",
    "#n_oxys = n_oxys + 1\n",
    "#pType[2,0] = 'O'\n",
    "#n_oxys = n_oxys + 1\n",
    "\n",
    "# Type 2\n",
    "#pType[0,0] = 'O'\n",
    "#n_oxys = n_oxys + 1\n",
    "#pType[1,2] = 'O'\n",
    "#n_oxys = n_oxys + 1\n",
    "\n",
    "# Type 3 -> Good!\n",
    "#pType[2,0] = 'O'\n",
    "#n_oxys = n_oxys + 1\n",
    "#pType[1,2] = 'O'\n",
    "#n_oxys = n_oxys + 1\n",
    "\n",
    "# Type 4\n",
    "#pType[0,2] = 'O'\n",
    "#n_oxys = n_oxys + 1\n",
    "#pType[1,1] = 'O'\n",
    "#n_oxys = n_oxys + 1\n",
    "\n",
    "# Type 5\n",
    "#pType[0,1] = 'O'\n",
    "#n_oxys = n_oxys + 1\n",
    "#pType[2,2] = 'O'\n",
    "#n_oxys = n_oxys + 1\n",
    "\n",
    "# Type 6 -> Maybe Good??\n",
    "#pType[0,2] = 'O'\n",
    "#n_oxys = n_oxys + 1\n",
    "#pType[2,2] = 'O'\n",
    "#n_oxys = n_oxys + 1\n",
    "\n",
    "# Type 7\n",
    "#pType[2,0] = 'O'\n",
    "#n_oxys = n_oxys + 1\n",
    "#pType[2,2] = 'O'\n",
    "#n_oxys = n_oxys + 1\n",
    "\n",
    "# Type 8 -> Good!\n",
    "pType[0,0] = 'O'\n",
    "n_oxys = n_oxys + 1\n",
    "pType[1,1] = 'O'\n",
    "n_oxys = n_oxys + 1\n",
    "\n",
    "pc = float(n_oxys)/float(Nx*Ny)\n",
    "print pc\n",
    "mytext = ' Type 8' # Plot title\n",
    "pType = copycell(Nx, Ny, pType, xcopies, ycopies)\n",
    "plotgrid(pType, pc, Nx*xcopies, Ny*ycopies, mytext, loop)\n",
    "plotheat(pType, pc, Nx*xcopies, Ny*ycopies, loop)"
   ]
  },
  {
   "cell_type": "code",
   "execution_count": 13,
   "metadata": {
    "collapsed": false
   },
   "outputs": [
    {
     "name": "stdout",
     "output_type": "stream",
     "text": [
      "0.333333333333\n"
     ]
    },
    {
     "data": {
      "image/png": "[encoded data removed]",
      "text/plain": [
       "<matplotlib.figure.Figure at 0x11275e090>"
      ]
     },
     "metadata": {},
     "output_type": "display_data"
    },
    {
     "data": {
      "image/png": "[encoded data removed]",
      "text/plain": [
       "<matplotlib.figure.Figure at 0x11261b190>"
      ]
     },
     "metadata": {},
     "output_type": "display_data"
    }
   ],
   "source": [
    "# Percentage 33%\n",
    "# we are using Nx = 3, Ny = 3\n",
    "\n",
    "loop = '3x3' # end of file name\n",
    "pType = pdb.C_restart(Nx*xcopies,Ny*ycopies)\n",
    "n_oxys = 0\n",
    "\n",
    "# Type 0\n",
    "pType[2,0] = 'O'\n",
    "n_oxys = n_oxys + 1\n",
    "pType[0,1] = 'O'\n",
    "n_oxys = n_oxys + 1\n",
    "pType[1,2] = 'O'\n",
    "n_oxys = n_oxys + 1\n",
    "\n",
    "pc = float(n_oxys)/float(Nx*Ny)\n",
    "print pc\n",
    "mytext = '' # Plot title\n",
    "pType = copycell(Nx, Ny, pType, xcopies, ycopies)\n",
    "plotgrid(pType, pc, Nx*xcopies, Ny*ycopies, mytext, loop)\n",
    "plotheat(pType, pc, Nx*xcopies, Ny*ycopies, loop)"
   ]
  },
  {
   "cell_type": "code",
   "execution_count": 14,
   "metadata": {
    "collapsed": false
   },
   "outputs": [
    {
     "data": {
      "image/png": "[encoded data removed]",
      "text/plain": [
       "<matplotlib.figure.Figure at 0x11233df50>"
      ]
     },
     "metadata": {},
     "output_type": "display_data"
    },
    {
     "data": {
      "image/png": "[encoded data removed]",
      "text/plain": [
       "<matplotlib.figure.Figure at 0x11233df90>"
      ]
     },
     "metadata": {},
     "output_type": "display_data"
    }
   ],
   "source": [
    "# Percentage 44%\n",
    "# we are using Nx = 3, Ny = 3\n",
    "\n",
    "loop = '3x3' # end of file name\n",
    "pType = pdb.C_restart(Nx*xcopies,Ny*ycopies)\n",
    "n_oxys = 0\n",
    "\n",
    "\"\"\"\n",
    "# Type 0 -> Good!\n",
    "pType[1,0] = 'O'\n",
    "n_oxys = n_oxys + 1\n",
    "pType[0,1] = 'O'\n",
    "n_oxys = n_oxys + 1\n",
    "pType[2,1] = 'O'\n",
    "n_oxys = n_oxys + 1\n",
    "pType[1,2] = 'O'\n",
    "n_oxys = n_oxys + 1\n",
    "\n",
    "\n",
    "# Type 2\n",
    "pType[0,0] = 'O'\n",
    "n_oxys = n_oxys + 1\n",
    "pType[2,0] = 'O'\n",
    "n_oxys = n_oxys + 1\n",
    "pType[0,2] = 'O'\n",
    "n_oxys = n_oxys + 1\n",
    "pType[2,2] = 'O'\n",
    "n_oxys = n_oxys + 1\n",
    "\"\"\"\n",
    "\n",
    "# Type 3 -> Very Good!\n",
    "pType[0,0] = 'O'\n",
    "n_oxys = n_oxys + 1\n",
    "pType[2,2] = 'O'\n",
    "n_oxys = n_oxys + 1\n",
    "pType[0,2] = 'O'\n",
    "n_oxys = n_oxys + 1\n",
    "pType[1,1] = 'O'\n",
    "n_oxys = n_oxys + 1\n",
    "\n",
    "pc = float(n_oxys)/float(Nx*Ny)\n",
    "mytext = '' # Plot title\n",
    "pType = copycell(Nx, Ny, pType, xcopies, ycopies)\n",
    "plotgrid(pType, pc, Nx*xcopies, Ny*ycopies, mytext, loop)\n",
    "plotheat(pType, pc, Nx*xcopies, Ny*ycopies, loop)"
   ]
  },
  {
   "cell_type": "code",
   "execution_count": 17,
   "metadata": {
    "collapsed": false
   },
   "outputs": [
    {
     "data": {
      "image/png": "[encoded data removed]",
      "text/plain": [
       "<matplotlib.figure.Figure at 0x112b73690>"
      ]
     },
     "metadata": {},
     "output_type": "display_data"
    }
   ],
   "source": [
    "# Percentage 50%\n",
    "# we are using Nx = 4, Ny = 2\n",
    "\n",
    "\n",
    "loop = '12x12' # end of file name\n",
    "pType = pdb.C_restart(Nx*xcopies,Ny*ycopies)\n",
    "n_oxys = 0 \n",
    "\n",
    "# Type 0 => Good!\n",
    "pType[0,0] = 'O'\n",
    "n_oxys = n_oxys + 1\n",
    "pType[3,0] = 'O'\n",
    "n_oxys = n_oxys + 1\n",
    "pType[2,1] = 'O'\n",
    "n_oxys = n_oxys + 1\n",
    "pType[1,1] = 'O'\n",
    "n_oxys = n_oxys + 1\n",
    "\n",
    "# Type 1\n",
    "#pType[0,0] = 'O'\n",
    "#n_oxys = n_oxys + 1\n",
    "#pType[2,0] = 'O'\n",
    "#n_oxys = n_oxys + 1\n",
    "#pType[1,1] = 'O'\n",
    "#n_oxys = n_oxys + 1\n",
    "#pType[3,1] = 'O'\n",
    "#n_oxys = n_oxys + 1\n",
    "\n",
    "pc = float(n_oxys)/float(Nx*Ny)\n",
    "\n",
    "mytext = ' Type 0' # Plot title\n",
    "pType = copycell(Nx, Ny, pType, xcopies, ycopies)\n",
    "plotgrid(pType, pc, Nx*xcopies, Ny*ycopies, mytext, loop)"
   ]
  },
  {
   "cell_type": "code",
   "execution_count": 9,
   "metadata": {
    "collapsed": false
   },
   "outputs": [
    {
     "data": {
      "image/png": "[encoded data removed]",
      "text/plain": [
       "<matplotlib.figure.Figure at 0x10f533e10>"
      ]
     },
     "metadata": {},
     "output_type": "display_data"
    }
   ],
   "source": [
    "# Looking for Percentage 40% (if 44% shows complete wetting, we'll need a smaller pc between 33% and 44%)\n",
    "\n",
    "loop = '12x12' # end of file name\n",
    "pType = pdb.C_restart(Nx*xcopies,Ny*ycopies)\n",
    "n_oxys = 0 \n",
    "\n",
    "# Type 0: using Nx = 4, Ny = 4 \n",
    "#pType[2,0] = 'O'\n",
    "#n_oxys = n_oxys + 1\n",
    "#pType[1,1] = 'O'\n",
    "#n_oxys = n_oxys + 1\n",
    "#pType[3,1] = 'O'\n",
    "#n_oxys = n_oxys + 1\n",
    "#pType[2,2] = 'O'\n",
    "#n_oxys = n_oxys + 1\n",
    "#pType[0,3] = 'O'\n",
    "#n_oxys = n_oxys + 1\n",
    "#pType[2,3] = 'O'\n",
    "#n_oxys = n_oxys + 1\n",
    "\n",
    "# Type 1: using Nx = 4, Ny = 4 \n",
    "#pType[0,0] = 'O'\n",
    "#n_oxys = n_oxys + 1\n",
    "#pType[2,0] = 'O'\n",
    "#n_oxys = n_oxys + 1\n",
    "#pType[1,1] = 'O'\n",
    "#n_oxys = n_oxys + 1\n",
    "#pType[3,1] = 'O'\n",
    "#n_oxys = n_oxys + 1\n",
    "#pType[2,1] = 'O'\n",
    "#n_oxys = n_oxys + 1\n",
    "#pType[1,1] = 'O'\n",
    "#n_oxys = n_oxys + 1\n",
    "\n",
    "# Type 2: using Nx = 4, Ny = 2 \n",
    "#pType[0,0] = 'O'\n",
    "#n_oxys = n_oxys + 1\n",
    "#pType[3,0] = 'O'\n",
    "#n_oxys = n_oxys + 1\n",
    "#pType[1,1] = 'O'\n",
    "#n_oxys = n_oxys + 1\n",
    "\n",
    "# Type 3: using Nx = 4, Ny = 2 \n",
    "#pType[0,0] = 'O'\n",
    "#n_oxys = n_oxys + 1\n",
    "#pType[2,0] = 'O'\n",
    "#n_oxys = n_oxys + 1\n",
    "#pType[1,1] = 'O'\n",
    "#n_oxys = n_oxys + 1\n",
    "\n",
    "# Type 4: using Nx = 4, Ny = 4 => Good (maybe could be better)\n",
    "pType[2,0] = 'O'\n",
    "n_oxys = n_oxys + 1\n",
    "pType[0,1] = 'O'\n",
    "n_oxys = n_oxys + 1\n",
    "pType[3,1] = 'O'\n",
    "n_oxys = n_oxys + 1\n",
    "pType[1,2] = 'O'\n",
    "n_oxys = n_oxys + 1\n",
    "pType[0,3] = 'O'\n",
    "n_oxys = n_oxys + 1\n",
    "pType[2,3] = 'O'\n",
    "n_oxys = n_oxys + 1\n",
    "\n",
    "pc = float(n_oxys)/float(Nx*Ny)\n",
    "\n",
    "mytext = ' Type 4' # Plot title\n",
    "pType = copycell(Nx, Ny, pType, xcopies, ycopies)\n",
    "plotgrid(pType, pc, Nx*xcopies, Ny*ycopies, mytext, loop)"
   ]
  },
  {
   "cell_type": "code",
   "execution_count": 37,
   "metadata": {
    "collapsed": true
   },
   "outputs": [],
   "source": [
    "################ NOW WE CREATE THE CHOSEN SURFACES (CHOSEN BY LOOKING AT OUTPUT PICTURES)   ################\n",
    "# 1. Create pType\n",
    "# 2. Run next cell"
   ]
  },
  {
   "cell_type": "code",
   "execution_count": 10,
   "metadata": {
    "collapsed": true
   },
   "outputs": [],
   "source": [
    "xPos, yPos = pdb.creategrid(Nx*xcopies, Ny*ycopies)\n",
    "pdb.writepdb(pType, xPos, yPos, pc, Nx*xcopies, Ny*ycopies)"
   ]
  },
  {
   "cell_type": "code",
   "execution_count": null,
   "metadata": {
    "collapsed": true
   },
   "outputs": [],
   "source": []
  }
 ],
 "metadata": {
  "kernelspec": {
   "display_name": "Python 2",
   "language": "python",
   "name": "python2"
  },
  "language_info": {
   "codemirror_mode": {
    "name": "ipython",
    "version": 2
   },
   "file_extension": ".py",
   "mimetype": "text/x-python",
   "name": "python",
   "nbconvert_exporter": "python",
   "pygments_lexer": "ipython2",
   "version": "2.7.11"
  }
 },
 "nbformat": 4,
 "nbformat_minor": 0
}
