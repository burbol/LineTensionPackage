{
 "cells": [
  {
   "cell_type": "code",
   "execution_count": null,
   "metadata": {
    "collapsed": true
   },
   "outputs": [],
   "source": [
    "# This notebook places the wartebox (a planar water \"slab\") on top of SAMs"
   ]
  },
  {
   "cell_type": "code",
   "execution_count": 1,
   "metadata": {
    "collapsed": true
   },
   "outputs": [],
   "source": [
    "import matplotlib.pyplot as plt\n",
    "import numpy as np\n",
    "import os\n",
    "import pylab as pl"
   ]
  },
  {
   "cell_type": "code",
   "execution_count": 2,
   "metadata": {
    "collapsed": true
   },
   "outputs": [],
   "source": [
    "def replace_line(file_name, line_num, text):\n",
    "    lines = open(file_name, 'r').readlines()\n",
    "    lines[line_num] = text\n",
    "    out = open(file_name, 'w')\n",
    "    out.writelines(lines)\n",
    "    out.close()\n",
    "\n",
    "def linecount(file_name):\n",
    "    with open(file_name, 'r') as foo:\n",
    "        x = len(foo.readlines())\n",
    "        return x"
   ]
  },
  {
   "cell_type": "code",
   "execution_count": 3,
   "metadata": {
    "collapsed": true
   },
   "outputs": [],
   "source": [
    "# Set system names and path to directory with .pdb files\n",
    "pc=[0,11,22,33,44,50,37]\n",
    "\n",
    "# Single system for testing\n",
    "#pc=[11]\n",
    "\n",
    "samsfolder = \"/Users/eixeres/Dropbox/GitHub/LineTensionPackage/SYSTEM_CREATION/gromacs_files/SAM_startfiles_v2_12x12/\"\n",
    "\n",
    "os.chdir(samsfolder)"
   ]
  },
  {
   "cell_type": "code",
   "execution_count": 8,
   "metadata": {
    "collapsed": false
   },
   "outputs": [],
   "source": [
    "# Use forward slash '/' at the end of the paths!!!\n",
    "\n",
    "#folder with water and SAM .gro files\n",
    "workingdir = samsfolder\n",
    "\n",
    "# folder for storing shifted sams: can be deleted if everything works fine\n",
    "unwantedfolder = workingdir + \"delete/\" #path unwanted files\n",
    "\n",
    "# if folder does not exists, create it\n",
    "if not os.path.isdir(unwantedfolder):\n",
    "    os.mkdir(unwantedfolder)"
   ]
  },
  {
   "cell_type": "code",
   "execution_count": 9,
   "metadata": {
    "collapsed": false
   },
   "outputs": [
    {
     "name": "stdout",
     "output_type": "stream",
     "text": [
      "start0.gro :    6.00000   5.19620   1.52200\n",
      "\n",
      "start11.gro :    6.00000   5.19620   1.52200\n",
      "\n",
      "start22.gro :    6.00000   5.19620   1.52200\n",
      "\n",
      "start33.gro :    6.00000   5.19620   1.52200\n",
      "\n",
      "start44.gro :    6.00000   5.19620   1.52200\n",
      "\n",
      "start50.gro :    6.00000   5.19620   1.52200\n",
      "\n",
      "start37.gro :    6.00000   5.19620   1.52200\n",
      "\n"
     ]
    }
   ],
   "source": [
    "# Print SAMs box sizes (last line of .gro file)\n",
    "for m in pc:\n",
    "    newfile = 'start%d.gro'%(m, )   \n",
    "    last_line = open(newfile, \"r\").readlines()[-1]\n",
    "    Line_len = len(last_line)\n",
    "    print newfile, \":\", last_line"
   ]
  },
  {
   "cell_type": "code",
   "execution_count": 10,
   "metadata": {
    "collapsed": false
   },
   "outputs": [
    {
     "name": "stdout",
     "output_type": "stream",
     "text": [
      "zboxnew = 3.04096\n",
      "{0: 1.522, 33: 1.522, 37: 1.522, 11: 1.522, 44: 1.522, 50: 1.522, 22: 1.522}\n",
      "{0: 6.0, 33: 6.0, 37: 6.0, 11: 6.0, 44: 6.0, 50: 6.0, 22: 6.0} {0: 5.1962, 33: 5.1962, 37: 5.1962, 11: 5.1962, 44: 5.1962, 50: 5.1962, 22: 5.1962} {0: 1.522, 33: 1.522, 37: 1.522, 11: 1.522, 44: 1.522, 50: 1.522, 22: 1.522}\n"
     ]
    }
   ],
   "source": [
    "# sam sizes in z-direction (not box size!!)\n",
    "sam={}\n",
    "\n",
    "#sizes of simulation box of sams\n",
    "xbox={}\n",
    "ybox={}\n",
    "zbox={}\n",
    "\n",
    "mynumbers = []\n",
    "mynumbers.append([float(n) for n in last_line.split()])\n",
    "\n",
    "for i in pc:\n",
    "    sam[i]= mynumbers[0][2]\n",
    "\n",
    "    xbox[i]=mynumbers[0][0]\n",
    "    ybox[i]=mynumbers[0][1]\n",
    "    zbox[i]=mynumbers[0][2]\n",
    "\n",
    "# water drop size in z-direction (they could also be read, look at script ExtendSam.ipynb)\n",
    "waterheight = 1.51896 # last line of NPT_water.gro\n",
    "\n",
    "# New box size in z-direction\n",
    "zboxnew = waterheight + zbox[i]\n",
    "\n",
    "print \"zboxnew =\", zboxnew\n",
    "print sam\n",
    "print xbox, ybox, zbox"
   ]
  },
  {
   "cell_type": "code",
   "execution_count": 11,
   "metadata": {
    "collapsed": false
   },
   "outputs": [],
   "source": [
    "os.chdir(workingdir)\n",
    "    \n",
    "for i in pc:   \n",
    "    \n",
    "    # Initial .gro file names\n",
    "    startsamfile='start%d.gro'%(i, )\n",
    "    startwaterfile='NPT_water.gro'\n",
    "    \n",
    "    # Temporary file names\n",
    "    samfile='start'+str(i)+'_c.gro'\n",
    "    waterfile='NPT_water_c.gro'\n",
    "    \n",
    "    # New file names\n",
    "    newsystfile='NPT_sam'+str(i)+'_water_c.gro'\n",
    "    endfile='NPT_sam'+str(i)+'_water.gro'\n",
    "    \n",
    "    # Center SAMs in box\n",
    "    os.system(\"gmx editconf -f %s -o %s -c\" %(startsamfile, samfile, ))     \n",
    "               \n",
    "    # Set water box size equal to SAM box size\n",
    "    os.system(\"gmx editconf -f %s -o %s -box %5.3f %5.3f %5.3f\" %(startwaterfile, waterfile, xbox[i], ybox[i], zbox[i], ))\n",
    "               \n",
    "    # Move water drops up \n",
    "    os.system(\"gmx editconf -f %s -o %s -translate 0 0 %5.3f\" %(waterfile, waterfile, (zbox[i]/2) +(waterheight/2), )) \n",
    "        \n",
    "##### START THE MERGING PROCESS OF water drops + SAMs #################\n",
    "\n",
    "    # Create the new file by openning and closing it\n",
    "    creating = open(newsystfile, 'w+')\n",
    "    creating.close()\n",
    "        \n",
    "    #linecount\n",
    "    linewater=linecount(waterfile)\n",
    "    linesam=linecount(samfile)\n",
    "        \n",
    "    lastline = open(samfile, \"r\").readlines()[-1]\n",
    "    with open(newsystfile, 'a') as f1:\n",
    "        with open(samfile, 'r') as g:\n",
    "            l = 0\n",
    "            for line in g:\n",
    "                if l < linesam-1: \n",
    "                    f1.write(line)\n",
    "                l = l+1   \n",
    "        with open(waterfile, 'r') as h:\n",
    "            l = 0\n",
    "            for line in h:                        \n",
    "                if l > 1 and l < linewater-1:\n",
    "                    f1.write(line)\n",
    "                l = l + 1\n",
    "        f1.write(lastline)\n",
    "\n",
    "             \n",
    "    # Replace atom number\n",
    "    atomssam = linesam-3\n",
    "    atomswater = linewater-3\n",
    "            \n",
    "    replace_line(newsystfile, 1, str(atomssam+atomswater) + \"\\n\")\n",
    "        \n",
    "    # Replace first line (title)\n",
    "    replace_line(newsystfile, 0, \"SAM \"+str(i)+\"% OH-coverage + with planar water slab\" + \"\\n\")\n",
    "        \n",
    "    # Change box height (z-direction)\n",
    "    os.system(\"gmx editconf -f %s -o %s -box %5.3f %5.3f %5.3f\" %(newsystfile, endfile, xbox[i], ybox[i], zboxnew, ))\n",
    "        \n",
    "    # Translate system to bottom of box\n",
    "    #os.system(\"gmx editconf -f %s -o %s -translate %8.5f %8.5f %8.5f\" %(endfile, endfile, 0, 0,(zbox[i]-water[j]+0.5)/2, ))"
   ]
  },
  {
   "cell_type": "code",
   "execution_count": 12,
   "metadata": {
    "collapsed": false
   },
   "outputs": [
    {
     "name": "stdout",
     "output_type": "stream",
     "text": [
      "chainlength =  13\n",
      "    1SAM    CAB   11   0.172   0.534  -0.157  0.0000  0.0000  0.0000\n",
      "\n",
      "1SAM -0.157\n",
      "chainlength =  12\n",
      "    1SAM    CAB   11   0.175   0.538  -0.160  0.0000  0.0000  0.0000\n",
      "\n",
      "1SAM -0.16\n",
      "chainlength =  12\n",
      "    1XOH    CAD   11   0.087   0.477  -0.054  0.0000  0.0000  0.0000\n",
      "\n",
      "1XOH -0.054\n",
      "chainlength =  12\n",
      "    1SAM    CAB   11   0.173   0.546  -0.166  0.0000  0.0000  0.0000\n",
      "\n",
      "1SAM -0.166\n",
      "chainlength =  12\n",
      "    1XOH    CAD   11   0.088   0.476  -0.059  0.0000  0.0000  0.0000\n",
      "\n",
      "1XOH -0.059\n",
      "chainlength =  12\n",
      "    1XOH    CAD   11   0.083   0.483  -0.061  0.0000  0.0000  0.0000\n",
      "\n",
      "1XOH -0.061\n",
      "chainlength =  12\n",
      "    1SAM    CAB   11   0.170   0.546  -0.167  0.0000  0.0000  0.0000\n",
      "\n",
      "1SAM -0.167\n"
     ]
    }
   ],
   "source": [
    "# read position of bottom atom of SAM and save in dictionary zshift and translate system\n",
    "line_num = 13 # some chains are longer then others: 12 or 13. Tested with \"if-statement\"\n",
    "zshift = {}\n",
    "for i in pc:\n",
    "    endname='NPT_sam'+str(i)+'_water.gro'\n",
    "    lines = open(endname, 'r').readlines()\n",
    "    myline = lines[line_num]\n",
    "    mynumbers = []\n",
    "    mynumbers.append([str(n) for n in myline.split()])\n",
    "    firstchain = str(mynumbers[0][0])\n",
    "    #print len(firstchain), firstchain\n",
    "    if firstchain == '1SAM' or firstchain == '1XOH':\n",
    "        print 'chainlength = ', line_num\n",
    "        print myline\n",
    "        zshift[i] = float(mynumbers[0][5])\n",
    "        print firstchain, zshift[i]\n",
    "        os.system(\"gmx editconf -f %s -o %s -translate %8.5f %8.5f %8.5f\" %(endname, endname, 0, 0,-zshift[i], ))\n",
    "    else:\n",
    "        print 'chainlength = ', line_num\n",
    "        line_num = 12\n",
    "        myline = lines[line_num]\n",
    "        print myline\n",
    "        mynumbers = []\n",
    "        mynumbers.append([str(n) for n in myline.split()])\n",
    "        zshift[i] = float(mynumbers[0][5])\n",
    "        print str(mynumbers[0][0]), zshift[i]\n",
    "        os.system(\"gmx editconf -f %s -o %s -translate %8.5f %8.5f %8.5f\" %(endname, endname, 0, 0,-zshift[i], ))"
   ]
  },
  {
   "cell_type": "code",
   "execution_count": 13,
   "metadata": {
    "collapsed": false
   },
   "outputs": [],
   "source": [
    "#Renaming and moving endfiles to endfolder\n",
    "\n",
    "startfolder = workingdir\n",
    "endfolder = workingdir + \"NewVersion_v2/\"\n",
    "\n",
    "#os.system(\"mkdir %s\"% (endfolder))\n",
    "os.chdir(endfolder)\n",
    "\n",
    "for i in pc:\n",
    "    startname='NPT_sam'+str(i)+'_water.gro'\n",
    "    endname='sam'+str(i)+'_water_ptensor_v2.gro'\n",
    "    os.system(\"mv %s  %s\"% (startfolder+startname,endfolder+endname, ))"
   ]
  },
  {
   "cell_type": "code",
   "execution_count": 14,
   "metadata": {
    "collapsed": false
   },
   "outputs": [
    {
     "data": {
      "text/plain": [
       "0"
      ]
     },
     "execution_count": 14,
     "metadata": {},
     "output_type": "execute_result"
    }
   ],
   "source": [
    "# Remove gromacs file copies from endfolder\n",
    "os.chdir(endfolder)\n",
    "os.system(\"rm \\#*\")"
   ]
  },
  {
   "cell_type": "code",
   "execution_count": 15,
   "metadata": {
    "collapsed": false
   },
   "outputs": [],
   "source": [
    "# Delete/move not needed files from workingdir\n",
    "\n",
    "os.chdir(workingdir)\n",
    "\n",
    "# Remove gromacs file copies\n",
    "os.system(\"rm \\#*\")\n",
    "\n",
    "# Move to \"delete\" folder\n",
    "for i in pc:\n",
    "    \n",
    "    # Temporary file names\n",
    "    samfile='start'+str(i)+'_c.gro'\n",
    "    waterfile='NPT_water_c.gro'\n",
    "    newsystfile='NPT_sam'+str(i)+'_water_c.gro'\n",
    "\n",
    "    os.system(\"mv %s  %s\"%(samfile,unwantedfolder + samfile, ))\n",
    "    os.system(\"mv %s  %s\"% (waterfile,unwantedfolder + waterfile, ))\n",
    "    os.system(\"mv %s  %s\"%(newsystfile,unwantedfolder + newsystfile, ))"
   ]
  },
  {
   "cell_type": "code",
   "execution_count": 16,
   "metadata": {
    "collapsed": false
   },
   "outputs": [
    {
     "data": {
      "text/plain": [
       "'\\nFor removing:\\nos.remove() will remove a file.\\n\\nos.rmdir() will remove an empty directory.\\n\\nshutil.rmtree() will delete a directory and all its contents.\\n\\nFor moving:\\nos.rename() or shutil.move()\\n\\nBoth employ the same syntax:\\nos.rename(\"path/to/current/file.foo\", \"path/to/new/desination/for/file.foo\")\\nshutil.move(\"path/to/current/file.foo\", \"path/to/new/destination/for/file.foo\")\\n\\nFor copying:\\n\\n-------------------------------------------------------------------------\\n| Function          |Copies Metadata|Copies Permissions|Can Specify Buffer|\\n-------------------------------------------------------------------------\\n| shutil.copy       |      No       |        Yes       |        No        |\\n-------------------------------------------------------------------------\\n| shutil.copyfile   |      No       |         No       |        No        |\\n-------------------------------------------------------------------------\\n| shutil.copy2      |     Yes       |        Yes       |        No        |\\n-------------------------------------------------------------------------\\n| shutil.copyfileobj|      No       |         No       |       Yes        |\\n-------------------------------------------------------------------------\\n\\nExample:\\nshutil.copy2(\\'/dir/file.ext\\', \\'/new/dir\\')\\n\\n'"
      ]
     },
     "execution_count": 16,
     "metadata": {},
     "output_type": "execute_result"
    }
   ],
   "source": [
    "\"\"\"\n",
    "For removing:\n",
    "os.remove() will remove a file.\n",
    "\n",
    "os.rmdir() will remove an empty directory.\n",
    "\n",
    "shutil.rmtree() will delete a directory and all its contents.\n",
    "\n",
    "For moving:\n",
    "os.rename() or shutil.move()\n",
    "\n",
    "Both employ the same syntax:\n",
    "os.rename(\"path/to/current/file.foo\", \"path/to/new/desination/for/file.foo\")\n",
    "shutil.move(\"path/to/current/file.foo\", \"path/to/new/destination/for/file.foo\")\n",
    "\n",
    "For copying:\n",
    "\n",
    "-------------------------------------------------------------------------\n",
    "| Function          |Copies Metadata|Copies Permissions|Can Specify Buffer|\n",
    "-------------------------------------------------------------------------\n",
    "| shutil.copy       |      No       |        Yes       |        No        |\n",
    "-------------------------------------------------------------------------\n",
    "| shutil.copyfile   |      No       |         No       |        No        |\n",
    "-------------------------------------------------------------------------\n",
    "| shutil.copy2      |     Yes       |        Yes       |        No        |\n",
    "-------------------------------------------------------------------------\n",
    "| shutil.copyfileobj|      No       |         No       |       Yes        |\n",
    "-------------------------------------------------------------------------\n",
    "\n",
    "Example:\n",
    "shutil.copy2('/dir/file.ext', '/new/dir')\n",
    "\n",
    "\"\"\""
   ]
  },
  {
   "cell_type": "code",
   "execution_count": 17,
   "metadata": {
    "collapsed": false
   },
   "outputs": [],
   "source": [
    "import shutil\n",
    "shutil.rmtree(unwantedfolder)"
   ]
  },
  {
   "cell_type": "code",
   "execution_count": null,
   "metadata": {
    "collapsed": true
   },
   "outputs": [],
   "source": []
  }
 ],
 "metadata": {
  "kernelspec": {
   "display_name": "Python 2",
   "language": "python",
   "name": "python2"
  },
  "language_info": {
   "codemirror_mode": {
    "name": "ipython",
    "version": 2
   },
   "file_extension": ".py",
   "mimetype": "text/x-python",
   "name": "python",
   "nbconvert_exporter": "python",
   "pygments_lexer": "ipython2",
   "version": "2.7.11"
  }
 },
 "nbformat": 4,
 "nbformat_minor": 0
}
