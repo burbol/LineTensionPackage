{
 "cells": [
  {
   "cell_type": "code",
   "execution_count": 1,
   "metadata": {
    "collapsed": true
   },
   "outputs": [],
   "source": [
    "# Testing configuration of upper interface of SAMs with different OH- headgroups percentages\n",
    "# (polarities). The surface is configured as a grid of atoms (C and O)"
   ]
  },
  {
   "cell_type": "code",
   "execution_count": 2,
   "metadata": {
    "collapsed": false
   },
   "outputs": [
    {
     "name": "stdout",
     "output_type": "stream",
     "text": [
      "Populating the interactive namespace from numpy and matplotlib\n"
     ]
    }
   ],
   "source": [
    "%pylab inline"
   ]
  },
  {
   "cell_type": "code",
   "execution_count": 3,
   "metadata": {
    "collapsed": true
   },
   "outputs": [],
   "source": [
    "import numpy as np\n",
    "import math\n",
    "import matplotlib.pyplot as plt\n",
    "import sys"
   ]
  },
  {
   "cell_type": "code",
   "execution_count": 5,
   "metadata": {
    "collapsed": true
   },
   "outputs": [],
   "source": [
    "xcopies = 1\n",
    "ycopies = 1\n",
    "\n",
    "Nx = 10 # number of gridpoints in x-direction (carbons)\n",
    "Ny = 10 # number of gridpoints in y-direction (carbons)\n",
    "\n",
    "Nx = Nx*xcopies # number of gridpoints in x-direction (carbons)\n",
    "Ny = Ny*ycopies # number of gridpoints in y-direction (carbons)\n",
    "\n",
    "a0 = 5.0 #\n",
    "\n",
    "xinterval = 2\n",
    "yinterval = 2"
   ]
  },
  {
   "cell_type": "code",
   "execution_count": 6,
   "metadata": {
    "collapsed": false
   },
   "outputs": [],
   "source": [
    "########################### SET ALL PARTICLE TYPES TO 'C' ###############################\n",
    "\n",
    "pType = np.zeros([Nx,Ny],dtype=str) # particle type\n",
    "\n",
    "# set standard particle type as Carbon\n",
    "for i in range(Nx):\n",
    "  for j in range(Ny):\n",
    "    pType[i,j] = 'C' "
   ]
  },
  {
   "cell_type": "code",
   "execution_count": 7,
   "metadata": {
    "collapsed": true
   },
   "outputs": [],
   "source": [
    "########################### EXCHANGE CARBONS WITH OXYGENS #############################"
   ]
  },
  {
   "cell_type": "code",
   "execution_count": 8,
   "metadata": {
    "collapsed": true
   },
   "outputs": [],
   "source": [
    "########################### TYPE 1 OF LOOP #############################################\n",
    "       \n",
    "pc = 21\n",
    "xinterval = 2\n",
    "yinterval = 1\n",
    "    \n",
    "        \n",
    "pc=  28\n",
    "xinterval = 2\n",
    "yinterval = 2\n",
    "\n",
    "\n",
    "n = 0\n",
    "for k in range(0,Nx,yinterval*2):\n",
    "    for l in range(0,Ny,xinterval*2):\n",
    "        pType[k,l] = 'O' \n",
    "        n = n+1\n",
    "for k in range(yinterval,Nx,xinterval*2):\n",
    "    for l in range(xinterval,Ny,xinterval*2):\n",
    "        pType[k,l] = 'O' \n",
    "        n = n+1"
   ]
  },
  {
   "cell_type": "code",
   "execution_count": 9,
   "metadata": {
    "collapsed": true
   },
   "outputs": [],
   "source": [
    "########################### TYPE 2 OF LOOP #############################################\n",
    "        \n",
    "pc = 20\n",
    "xinterval = 3\n",
    "yinterval = 3\n",
    "        \n",
    "pc = 25\n",
    "xinterval = 3\n",
    "yinterval = 2\n",
    "\n",
    "\n",
    "n = 0\n",
    "for l in range(0,Ny,yinterval):\n",
    "    for k in range(0,Nx,xinterval-1):\n",
    "        pType[k,l] = 'O' \n",
    "        n = n+1           \n",
    "           "
   ]
  },
  {
   "cell_type": "code",
   "execution_count": 10,
   "metadata": {
    "collapsed": true
   },
   "outputs": [],
   "source": [
    "########################### TYPE 3 OF LOOP (NEW) #######################################\n",
    "\n",
    "pc = 25\n",
    "xinterval = 3\n",
    "yinterval = 2\n",
    "\n",
    "\n",
    "n = 0\n",
    "for l in range(0,Ny,yinterval):\n",
    "    for k in range(0,Nx,xinterval):\n",
    "        pType[k,l] = 'O' \n",
    "        n = n+1"
   ]
  },
  {
   "cell_type": "code",
   "execution_count": null,
   "metadata": {
    "collapsed": true
   },
   "outputs": [],
   "source": [
    "########################### CREATE GRID USING BASIS VECTORS Vx, Vy, Wx, Wy ###########################\n",
    "# set particle x- and y- coordinates\n",
    "# !!!! later move to create_top_surface.ipynb !!!\n",
    "\n",
    "\n",
    "# First basis vector V = (Vx,Vy)\n",
    "Vx = a0\n",
    "Vy = 0\n",
    "# Second basis vector W = (Wx,Wy) \n",
    "Wx = a0*np.sin(np.pi/6)\n",
    "Wy = a0*np.cos(np.pi/6)\n",
    "\n",
    "# create arrays that hold particle positions\n",
    "xPos = np.zeros([Nx,Ny],dtype=float) # x positions of particles\n",
    "yPos = np.zeros([Nx,Ny],dtype=float) # y positions of particles\n",
    "zlastPos = np.zeros([Nx,Ny],dtype=float) # zlastPos ONLY will serve to calculate the box height (z)"
   ]
  },
  {
   "cell_type": "code",
   "execution_count": 12,
   "metadata": {
    "collapsed": false
   },
   "outputs": [
    {
     "ename": "NameError",
     "evalue": "name 'Vx' is not defined",
     "output_type": "error",
     "traceback": [
      "\u001b[0;31m---------------------------------------------------------------------------\u001b[0m",
      "\u001b[0;31mNameError\u001b[0m                                 Traceback (most recent call last)",
      "\u001b[0;32m<ipython-input-12-4e838e4c6f10>\u001b[0m in \u001b[0;36m<module>\u001b[0;34m()\u001b[0m\n\u001b[1;32m      3\u001b[0m \u001b[0;32mfor\u001b[0m \u001b[0mj\u001b[0m \u001b[0;32min\u001b[0m \u001b[0mrange\u001b[0m\u001b[0;34m(\u001b[0m\u001b[0mNy\u001b[0m\u001b[0;34m)\u001b[0m\u001b[0;34m:\u001b[0m\u001b[0;34m\u001b[0m\u001b[0m\n\u001b[1;32m      4\u001b[0m     \u001b[0;32mfor\u001b[0m \u001b[0mi\u001b[0m \u001b[0;32min\u001b[0m \u001b[0mrange\u001b[0m\u001b[0;34m(\u001b[0m\u001b[0mNx\u001b[0m\u001b[0;34m)\u001b[0m\u001b[0;34m:\u001b[0m\u001b[0;34m\u001b[0m\u001b[0m\n\u001b[0;32m----> 5\u001b[0;31m         \u001b[0mxPos\u001b[0m\u001b[0;34m[\u001b[0m\u001b[0mi\u001b[0m\u001b[0;34m,\u001b[0m\u001b[0mj\u001b[0m\u001b[0;34m]\u001b[0m \u001b[0;34m=\u001b[0m \u001b[0mi\u001b[0m\u001b[0;34m*\u001b[0m\u001b[0mVx\u001b[0m \u001b[0;34m+\u001b[0m \u001b[0mj\u001b[0m\u001b[0;34m*\u001b[0m\u001b[0mWx\u001b[0m \u001b[0;34m+\u001b[0m\u001b[0;36m12.68\u001b[0m\u001b[0;34m\u001b[0m\u001b[0m\n\u001b[0m\u001b[1;32m      6\u001b[0m         \u001b[0myPos\u001b[0m\u001b[0;34m[\u001b[0m\u001b[0mi\u001b[0m\u001b[0;34m,\u001b[0m\u001b[0mj\u001b[0m\u001b[0;34m]\u001b[0m \u001b[0;34m=\u001b[0m \u001b[0mi\u001b[0m\u001b[0;34m*\u001b[0m\u001b[0mVy\u001b[0m \u001b[0;34m+\u001b[0m \u001b[0mj\u001b[0m\u001b[0;34m*\u001b[0m\u001b[0mWy\u001b[0m\u001b[0;34m\u001b[0m\u001b[0m\n\u001b[1;32m      7\u001b[0m \u001b[0;32mfor\u001b[0m \u001b[0mj\u001b[0m \u001b[0;32min\u001b[0m \u001b[0mrange\u001b[0m\u001b[0;34m(\u001b[0m\u001b[0mNy\u001b[0m\u001b[0;34m)\u001b[0m\u001b[0;34m:\u001b[0m\u001b[0;34m\u001b[0m\u001b[0m\n",
      "\u001b[0;31mNameError\u001b[0m: name 'Vx' is not defined"
     ]
    }
   ],
   "source": [
    "########################### TYPE 1 OF GRID #############################################\n",
    "\n",
    "for j in range(Ny):\n",
    "    for i in range(Nx):\n",
    "        xPos[i,j] = i*Vx + j*Wx +12.68\n",
    "        yPos[i,j] = i*Vy + j*Wy \n",
    "for j in range(Ny):\n",
    "    for i in range(Nx):  # Here we move the last particles of almost each line to get a more rectangular surface shape\n",
    "        if xPos[i,j]>xPos[-1,1]:\n",
    "           xPos[i,j] = xPos[i-Nx+1,j-2]"
   ]
  },
  {
   "cell_type": "code",
   "execution_count": null,
   "metadata": {
    "collapsed": true
   },
   "outputs": [],
   "source": [
    "########################### TYPE 2 OF GRID #############################################\n",
    "\n",
    "counter = 0\n",
    "# set particle positions\n",
    "for j in range(Ny):\n",
    "    x_shift = j - counter\n",
    "    for i in range(Nx):\n",
    "        xPos[i,j] = i*Vx + j*Wx - x_shift*Vx\n",
    "        yPos[i,j] = i*Vy + j*Wy\n",
    "        n = n + 1\n",
    "    if (j%2):\n",
    "        counter = counter + 1"
   ]
  },
  {
   "cell_type": "code",
   "execution_count": 11,
   "metadata": {
    "collapsed": false
   },
   "outputs": [
    {
     "ename": "NameError",
     "evalue": "name 'Vx' is not defined",
     "output_type": "error",
     "traceback": [
      "\u001b[0;31m---------------------------------------------------------------------------\u001b[0m",
      "\u001b[0;31mNameError\u001b[0m                                 Traceback (most recent call last)",
      "\u001b[0;32m<ipython-input-11-70fa5b0e7a15>\u001b[0m in \u001b[0;36m<module>\u001b[0;34m()\u001b[0m\n\u001b[1;32m      4\u001b[0m     \u001b[0mx_shift\u001b[0m \u001b[0;34m=\u001b[0m \u001b[0mj\u001b[0m \u001b[0;34m-\u001b[0m \u001b[0mcounter\u001b[0m\u001b[0;34m\u001b[0m\u001b[0m\n\u001b[1;32m      5\u001b[0m     \u001b[0;32mfor\u001b[0m \u001b[0mi\u001b[0m \u001b[0;32min\u001b[0m \u001b[0mrange\u001b[0m\u001b[0;34m(\u001b[0m\u001b[0mNx\u001b[0m\u001b[0;34m)\u001b[0m\u001b[0;34m:\u001b[0m\u001b[0;34m\u001b[0m\u001b[0m\n\u001b[0;32m----> 6\u001b[0;31m         \u001b[0mxPos\u001b[0m\u001b[0;34m[\u001b[0m\u001b[0mi\u001b[0m\u001b[0;34m,\u001b[0m\u001b[0mj\u001b[0m\u001b[0;34m]\u001b[0m \u001b[0;34m=\u001b[0m \u001b[0mi\u001b[0m\u001b[0;34m*\u001b[0m\u001b[0mVx\u001b[0m \u001b[0;34m+\u001b[0m \u001b[0mj\u001b[0m\u001b[0;34m*\u001b[0m\u001b[0mWx\u001b[0m \u001b[0;34m-\u001b[0m \u001b[0mx_shift\u001b[0m\u001b[0;34m*\u001b[0m\u001b[0mVx\u001b[0m\u001b[0;34m\u001b[0m\u001b[0m\n\u001b[0m\u001b[1;32m      7\u001b[0m         \u001b[0myPos\u001b[0m\u001b[0;34m[\u001b[0m\u001b[0mi\u001b[0m\u001b[0;34m,\u001b[0m\u001b[0mj\u001b[0m\u001b[0;34m]\u001b[0m \u001b[0;34m=\u001b[0m \u001b[0mi\u001b[0m\u001b[0;34m*\u001b[0m\u001b[0mVy\u001b[0m \u001b[0;34m+\u001b[0m \u001b[0mj\u001b[0m\u001b[0;34m*\u001b[0m\u001b[0mWy\u001b[0m\u001b[0;34m\u001b[0m\u001b[0m\n\u001b[1;32m      8\u001b[0m         \u001b[0mn\u001b[0m \u001b[0;34m=\u001b[0m \u001b[0mn\u001b[0m \u001b[0;34m+\u001b[0m \u001b[0;36m1\u001b[0m\u001b[0;34m\u001b[0m\u001b[0m\n",
      "\u001b[0;31mNameError\u001b[0m: name 'Vx' is not defined"
     ]
    }
   ],
   "source": [
    "################################## PLOT GRID  ######################################\n",
    "SizeOfDots = 8\n",
    "fig, ax = plt.subplots()\n",
    "for i in range(Nx):\n",
    "  for j in range(Ny):\n",
    "    if pType[i,j] == 'O':\n",
    "      ax.plot([xPos[i,j]],[yPos[i,j]],marker='o',markersize=SizeOfDots,color='blue')\n",
    "    else:\n",
    "      ax.plot([xPos[i,j]],[yPos[i,j]],marker='o',markersize=SizeOfDots,color='green')\n",
    "text = ', Grid '+ str(Nx)+'x'+str(Ny)    \n",
    "plt.title(\"Percentage = \" + str(int(pc*100))+text, fontsize= 14)\n",
    "plt.grid()\n",
    "plt.show()\n",
    "#fig.savefig('output_' + str(Percentage) + '_positions.pdf',format='pdf')"
   ]
  },
  {
   "cell_type": "code",
   "execution_count": null,
   "metadata": {
    "collapsed": true
   },
   "outputs": [],
   "source": []
  }
 ],
 "metadata": {
  "kernelspec": {
   "display_name": "Python 2",
   "language": "python",
   "name": "python2"
  },
  "language_info": {
   "codemirror_mode": {
    "name": "ipython",
    "version": 2
   },
   "file_extension": ".py",
   "mimetype": "text/x-python",
   "name": "python",
   "nbconvert_exporter": "python",
   "pygments_lexer": "ipython2",
   "version": "2.7.6"
  }
 },
 "nbformat": 4,
 "nbformat_minor": 0
}
