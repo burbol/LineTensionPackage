{
 "cells": [
  {
   "cell_type": "code",
   "execution_count": 1,
   "metadata": {
    "collapsed": true
   },
   "outputs": [],
   "source": [
    "import matplotlib.pyplot as plt\n",
    "import numpy as np\n",
    "import os\n",
    "import pylab as pl"
   ]
  },
  {
   "cell_type": "code",
   "execution_count": 2,
   "metadata": {
    "collapsed": false
   },
   "outputs": [
    {
     "name": "stdout",
     "output_type": "stream",
     "text": [
      "start37.gro :   18.00000  15.58850   1.52200\n",
      "\n"
     ]
    }
   ],
   "source": [
    "# Cell copied from ExtendSam.ipynb\n",
    "\n",
    "#pc=[0,11,22,33,44,50,37]\n",
    "#molec = [1000, 2000, 3000, 4000, 5000, 6500, 8000, 9000, 10000]\n",
    "pc=[37]\n",
    "molec = [3000]\n",
    "\n",
    "samsfolder = \"/Users/burbol2/GitHub/LineTensionPackage/SYSTEM_CREATION/gromacs_files/SAM_startfiles_v2_36x36\"\n",
    "# WE CHECK THE BOXSIZE OF THE NEW FILE TO ENTER THEM IN placedrop.ipynb\n",
    "os.chdir(samsfolder)\n",
    "for m in pc:\n",
    "    newfile = 'start%d.gro'%(m, )   \n",
    "    last_line = open(newfile, \"r\").readlines()[-1]\n",
    "    Line_len = len(last_line)\n",
    "    print newfile, \":\", last_line"
   ]
  },
  {
   "cell_type": "code",
   "execution_count": 7,
   "metadata": {
    "collapsed": false
   },
   "outputs": [
    {
     "data": {
      "text/plain": [
       "'\\nmynumbers = []\\nmynumbers.append([float(n) for n in last_line.split()])\\nprint mynumbers[0][2]\\n'"
      ]
     },
     "execution_count": 7,
     "metadata": {},
     "output_type": "execute_result"
    }
   ],
   "source": [
    "\"\"\"\n",
    "mynumbers = []\n",
    "mynumbers.append([float(n) for n in last_line.split()])\n",
    "print mynumbers[0][2]\n",
    "\"\"\""
   ]
  },
  {
   "cell_type": "code",
   "execution_count": 9,
   "metadata": {
    "collapsed": false
   },
   "outputs": [
    {
     "name": "stdout",
     "output_type": "stream",
     "text": [
      "/usr/local/gromacs/bin/editconf -f start37.gro -o start37_c.gro -box 18.000 15.588 1.522\n"
     ]
    }
   ],
   "source": [
    "for i in pc:   \n",
    "    \n",
    "    #sam file names\n",
    "    #startsamfile='start'+str(i)+'.gro'\n",
    "    startsamfile='start%d.gro'%(i, )\n",
    "    samfile='start'+str(i)+'_c.gro'\n",
    "    \n",
    "    #we copy the sams to the working folder\n",
    "    #os.system(\"cp %s/%s .\" %(samsfolder, startsamfile, ))\n",
    "    \n",
    "    print(\"/usr/local/gromacs/bin/editconf -f %s -o %s -box %5.3f %5.3f %5.3f\" %(startsamfile, samfile, xbox[i], ybox[i], zbox[i], ))\n",
    "    \n",
    "    #we move the sams down\n",
    "    #os.system(\"/usr/local/gromacs/bin/editconf -f %s -o %s -c\" %(startsamfile, samfile, ))\n",
    "    #os.system(\"/usr/local/gromacs/bin/editconf -f %s -o %s -translate 0 0 %5.3f\" %(samfile, samfile, sam[i]/(-2), ))"
   ]
  },
  {
   "cell_type": "code",
   "execution_count": 16,
   "metadata": {
    "collapsed": false
   },
   "outputs": [
    {
     "name": "stdout",
     "output_type": "stream",
     "text": [
      "mkdir /Users/burbol2/GitHub/LineTensionPackage/SYSTEM_CREATION/gromacs_files/reshaping_files/delete\n",
      "os.chdir(/Users/burbol2/GitHub/LineTensionPackage/SYSTEM_CREATION/gromacs_files/DropsGroTop\n",
      "cp /Users/burbol2/GitHub/LineTensionPackage/SYSTEM_CREATION/gromacs_files/SAM_startfiles_v2_36x36/start37.gro .\n",
      "/usr/local/gromacs/bin/editconf -f NPT_water3000.gro -o NPT_water3000_c.gro -box 18.000 15.588 1.522\n",
      "/usr/local/gromacs/bin/editconf -f NPT_water3000_c.gro -o NPT_water3000_c.gro -c\n",
      "/usr/local/gromacs/bin/editconf -f NPT_water3000_c.gro -o NPT_water3000_c.gro -translate 0 0 2.818\n",
      "/usr/local/gromacs/bin/editconf -f NPT_sam37_water3000_c.gro -o NPT_sam37_water3000.gro -box 18.000 15.588 18.000\n"
     ]
    },
    {
     "ename": "IOError",
     "evalue": "[Errno 2] No such file or directory: 'NPT_water3000_c.gro'",
     "output_type": "error",
     "traceback": [
      "\u001b[0;31m---------------------------------------------------------------------------\u001b[0m",
      "\u001b[0;31mIOError\u001b[0m                                   Traceback (most recent call last)",
      "\u001b[0;32m<ipython-input-16-561a07527ecb>\u001b[0m in \u001b[0;36m<module>\u001b[0;34m()\u001b[0m\n\u001b[1;32m     98\u001b[0m \u001b[0;34m\u001b[0m\u001b[0m\n\u001b[1;32m     99\u001b[0m         \u001b[0;31m#linecount\u001b[0m\u001b[0;34m\u001b[0m\u001b[0;34m\u001b[0m\u001b[0m\n\u001b[0;32m--> 100\u001b[0;31m         \u001b[0mlinewater\u001b[0m\u001b[0;34m=\u001b[0m\u001b[0mlinecount\u001b[0m\u001b[0;34m(\u001b[0m\u001b[0mwaterfile\u001b[0m\u001b[0;34m)\u001b[0m\u001b[0;34m\u001b[0m\u001b[0m\n\u001b[0m\u001b[1;32m    101\u001b[0m         \u001b[0mlinesam\u001b[0m\u001b[0;34m=\u001b[0m\u001b[0mlinecount\u001b[0m\u001b[0;34m(\u001b[0m\u001b[0msamfile\u001b[0m\u001b[0;34m)\u001b[0m\u001b[0;34m\u001b[0m\u001b[0m\n\u001b[1;32m    102\u001b[0m \u001b[0;34m\u001b[0m\u001b[0m\n",
      "\u001b[0;32m<ipython-input-16-561a07527ecb>\u001b[0m in \u001b[0;36mlinecount\u001b[0;34m(file_name)\u001b[0m\n\u001b[1;32m     55\u001b[0m \u001b[0;34m\u001b[0m\u001b[0m\n\u001b[1;32m     56\u001b[0m \u001b[0;32mdef\u001b[0m \u001b[0mlinecount\u001b[0m\u001b[0;34m(\u001b[0m\u001b[0mfile_name\u001b[0m\u001b[0;34m)\u001b[0m\u001b[0;34m:\u001b[0m\u001b[0;34m\u001b[0m\u001b[0m\n\u001b[0;32m---> 57\u001b[0;31m     \u001b[0;32mwith\u001b[0m \u001b[0mopen\u001b[0m\u001b[0;34m(\u001b[0m\u001b[0mfile_name\u001b[0m\u001b[0;34m,\u001b[0m \u001b[0;34m'r'\u001b[0m\u001b[0;34m)\u001b[0m \u001b[0;32mas\u001b[0m \u001b[0mfoo\u001b[0m\u001b[0;34m:\u001b[0m\u001b[0;34m\u001b[0m\u001b[0m\n\u001b[0m\u001b[1;32m     58\u001b[0m         \u001b[0mx\u001b[0m \u001b[0;34m=\u001b[0m \u001b[0mlen\u001b[0m\u001b[0;34m(\u001b[0m\u001b[0mfoo\u001b[0m\u001b[0;34m.\u001b[0m\u001b[0mreadlines\u001b[0m\u001b[0;34m(\u001b[0m\u001b[0;34m)\u001b[0m\u001b[0;34m)\u001b[0m\u001b[0;34m\u001b[0m\u001b[0m\n\u001b[1;32m     59\u001b[0m         \u001b[0;32mreturn\u001b[0m \u001b[0mx\u001b[0m\u001b[0;34m\u001b[0m\u001b[0m\n",
      "\u001b[0;31mIOError\u001b[0m: [Errno 2] No such file or directory: 'NPT_water3000_c.gro'"
     ]
    }
   ],
   "source": [
    "######## CHECK FOLDER PATHS AND NAME OF gro FILE startsamfile--> look also for os.chdir!!!!!! #########\n",
    "#folder with sams and water .gro files\n",
    "\n",
    "#Put SAMs in ../workingdir!!\n",
    "workingdir = \"/Users/burbol2/GitHub/LineTensionPackage/SYSTEM_CREATION/gromacs_files/DropsGroTop\"  #path to .gro files\n",
    "\n",
    "# folder where we will put the shifted sams: can be deleted if everything works fine\n",
    "unwantedfolder = \"/Users/burbol2/GitHub/LineTensionPackage/SYSTEM_CREATION/gromacs_files/reshaping_files\" #path unwanted files\n",
    "\n",
    "# sam sizes in z-direction (not box size!!)\n",
    "sam={}\n",
    "\n",
    "#sizes of simulation box of sams\n",
    "xbox={}\n",
    "ybox={}\n",
    "zbox={}\n",
    "\n",
    "mynumbers = []\n",
    "mynumbers.append([float(n) for n in last_line.split()])\n",
    "\n",
    "for i in pc:\n",
    "    sam[i]= mynumbers[0][2]\n",
    "\n",
    "    xbox[i]=mynumbers[0][0]\n",
    "    ybox[i]=mynumbers[0][1]\n",
    "    zbox[i]=mynumbers[0][2]\n",
    "\n",
    "# water drop sizes in z-direction (they could also be read, look at script ExtendSam.ipynb)\n",
    "water={}\n",
    "water[216]=2.020\n",
    "water[1000]=3.320\n",
    "water[2000]=4.124\n",
    "water[3000]=4.637\n",
    "water[4000]=5.124\n",
    "water[5000]=5.495\n",
    "water[6500]=5.981 \n",
    "water[7000]=6.126\n",
    "water[8000]=6.395\n",
    "water[9000]=6.665\n",
    "water[10000]=6.895  \n",
    "\n",
    "\n",
    "\n",
    "# From here everything runs automatically...\n",
    "\n",
    "print(\"mkdir %sdelete\"% (str(unwantedfolder)+'/'))\n",
    "print(\"os.chdir(\"+ workingdir)\n",
    "\n",
    "def replace_line(file_name, line_num, text):\n",
    "    lines = open(file_name, 'r').readlines()\n",
    "    lines[line_num] = text\n",
    "    out = open(file_name, 'w')\n",
    "    out.writelines(lines)\n",
    "    out.close()\n",
    "\n",
    "def linecount(file_name):\n",
    "    with open(file_name, 'r') as foo:\n",
    "        x = len(foo.readlines())\n",
    "        return x\n",
    "    \n",
    "for i in pc:   \n",
    "    \n",
    "    #sam file names\n",
    "    #startsamfile='start'+str(i)+'.gro'\n",
    "    startsamfile='start%d.gro'%(i, )\n",
    "    samfile='start'+str(i)+'_c.gro'\n",
    "    \n",
    "    #we copy the sams to the working folder\n",
    "    print(\"cp %s/%s .\" %(samsfolder, startsamfile, ))\n",
    "    \n",
    "    #we move the sams down\n",
    "    #os.system(\"/usr/local/gromacs/bin/editconf -f %s -o %s -c\" %(startsamfile, samfile, ))\n",
    "    #os.system(\"/usr/local/gromacs/bin/editconf -f %s -o %s -translate 0 0 %5.3f\" %(samfile, samfile, sam[i]/(-2), ))\n",
    "    \n",
    "    ###os.system(\"/usr/local/gromacs/bin/editconf -f %s -o %s -box %5.3f %5.3f %5.3f\" %(startsamfile, samfile, xbox[i], ybox[i], zbox[i], ))\n",
    "    for j in molec:        \n",
    "        \n",
    "        #water file names\n",
    "        startwaterfile='NPT_water'+str(j)+'.gro'\n",
    "        waterfile='NPT_water'+str(j)+'_c.gro'\n",
    "        #new files names\n",
    "        newsystfile='NPT_sam'+str(i)+'_water'+str(j)+'_c.gro'\n",
    "        \n",
    "        #we change the water box size to the same as the sams and we center every water system\n",
    "        print(\"/usr/local/gromacs/bin/editconf -f %s -o %s -box %5.3f %5.3f %5.3f\" %(startwaterfile, waterfile, xbox[i], ybox[i], zbox[i], ))\n",
    "        print(\"/usr/local/gromacs/bin/editconf -f %s -o %s -c\" %(waterfile, waterfile, ))\n",
    "               \n",
    "        #we move the drops up \n",
    "        ###os.system(\"/usr/local/gromacs/bin/editconf -f %s -o %s -translate 0 0 %5.3f\" %(startwaterfile, waterfile, 0.5+(sam[i]), ))\n",
    "        print(\"/usr/local/gromacs/bin/editconf -f %s -o %s -translate 0 0 %5.3f\" %(waterfile, waterfile, 0.5+(water[j]/2), ))\n",
    "        endfile='NPT_sam'+str(i)+'_water'+str(j)+'.gro'\n",
    "        print(\"/usr/local/gromacs/bin/editconf -f %s -o %s -box %5.3f %5.3f %5.3f\" %(newsystfile, endfile, xbox[i], ybox[i], xbox[i], ))\n",
    "##### WE START THE MERGING PROCESS OF water drops + sams #################\n",
    "\n",
    "        # we create the new file by openning and closing it\n",
    "        creating = open(newsystfile, 'w+')\n",
    "        creating.close()\n",
    "        \n",
    "        #linecount\n",
    "        linewater=linecount(waterfile)\n",
    "        linesam=linecount(samfile)\n",
    "        \n",
    "        lastline = open(samfile, \"r\").readlines()[-1]\n",
    "        with open(newsystfile, 'a') as f1:\n",
    "            with open(samfile, 'r') as g:\n",
    "                l = 0\n",
    "                for line in g:\n",
    "                    if l < linesam-1: \n",
    "                        f1.write(line)\n",
    "                    l = l+1   \n",
    "            with open(waterfile, 'r') as h:\n",
    "                l = 0\n",
    "                for line in h:                        \n",
    "                    if l > 1 and l < linewater-1:\n",
    "                        f1.write(line)\n",
    "                    l = l + 1\n",
    "            f1.write(lastline)\n",
    "\n",
    "             \n",
    "        #replace atom number\n",
    "        atomssam = linesam-3\n",
    "        atomswater = linewater-3\n",
    "            \n",
    "        replace_line(newsystfile, 1, str(atomssam+atomswater) + \"\\n\")\n",
    "        replace_line(newsystfile, 0, \"sam \"+str(i)+\"% OH-coverage + water \"+str(j)+ \"\\n\")\n",
    "        \n",
    "        endfile='NPT_sam'+str(i)+'_water'+str(j)+'.gro'\n",
    "        ###os.system(\"/usr/local/gromacs/bin/editconf -f %s -o %s\" %(newsystfile, endfile, ))\n",
    "        print(\"/usr/local/gromacs/bin/editconf -f %s -o %s -box %5.3f %5.3f %5.3f\" %(newsystfile, endfile, xbox[i], ybox[i], xbox[i], ))\n",
    "        #os.system(\"/usr/local/gromacs/bin/editconf -f %s -o %s\" %(newsystfile, endfile, ))\n",
    "        #os.system(\"/usr/local/gromacs/bin/editconf -f %s -o %s -translate %8.5f %8.5f %8.5f\" %(endfile, endfile, 0, 0,-5, ))"
   ]
  },
  {
   "cell_type": "code",
   "execution_count": 14,
   "metadata": {
    "collapsed": false
   },
   "outputs": [
    {
     "name": "stdout",
     "output_type": "stream",
     "text": [
      "mkdir /Users/burbol2/GitHub/LineTensionPackage/SYSTEM_CREATION/gromacs_files/reshaping_files/delete\n",
      "mv start37_c.gro  /Users/burbol2/GitHub/LineTensionPackage/SYSTEM_CREATION/gromacs_files/reshaping_files/delete/start37_c.gro\n",
      "mv NPT_water3000_c.gro  /Users/burbol2/GitHub/LineTensionPackage/SYSTEM_CREATION/gromacs_files/reshaping_files/delete/NPT_water3000_c.gro\n",
      "mv NPT_sam37_water3000_c.gro  /Users/burbol2/GitHub/LineTensionPackage/SYSTEM_CREATION/gromacs_files/reshaping_files/delete/NPT_sam37_water3000_c.gro\n",
      "rm \\#*\n"
     ]
    }
   ],
   "source": [
    "# We delete/move not needed files\n",
    "print(\"mkdir %sdelete\"% (str(unwantedfolder)+'/'))\n",
    "for i in pc:\n",
    "    samfile='start'+str(i)+'_c.gro'\n",
    "    print(\"mv %s  %s\"%(samfile,unwantedfolder+'/delete/'+samfile, ))\n",
    "    for j in molec: \n",
    "        waterfile='NPT_water'+str(j)+'_c.gro'\n",
    "        print(\"mv %s  %s\"% (waterfile,unwantedfolder+'/delete/'+waterfile, ))\n",
    "        newsystfile='NPT_sam'+str(i)+'_water'+str(j)+'_c.gro'\n",
    "        print(\"mv %s  %s\"% (newsystfile,unwantedfolder+'/delete/'+newsystfile, ))"
   ]
  },
  {
   "cell_type": "code",
   "execution_count": 4,
   "metadata": {
    "collapsed": false
   },
   "outputs": [
    {
     "data": {
      "text/plain": [
       "3.5795"
      ]
     },
     "execution_count": 4,
     "metadata": {},
     "output_type": "execute_result"
    }
   ],
   "source": [
    "4.637/2 + 1.52200/2 +0.5"
   ]
  },
  {
   "cell_type": "code",
   "execution_count": 5,
   "metadata": {
    "collapsed": false
   },
   "outputs": [
    {
     "data": {
      "text/plain": [
       "23769"
      ]
     },
     "execution_count": 5,
     "metadata": {},
     "output_type": "execute_result"
    }
   ],
   "source": [
    "9027 + 14742"
   ]
  },
  {
   "cell_type": "code",
   "execution_count": 6,
   "metadata": {
    "collapsed": false
   },
   "outputs": [
    {
     "data": {
      "text/plain": [
       "-3.9779999999999998"
      ]
     },
     "execution_count": 6,
     "metadata": {},
     "output_type": "execute_result"
    }
   ],
   "source": [
    "-12/2 + 1.52200 + 0.5"
   ]
  },
  {
   "cell_type": "code",
   "execution_count": null,
   "metadata": {
    "collapsed": true
   },
   "outputs": [],
   "source": []
  }
 ],
 "metadata": {
  "kernelspec": {
   "display_name": "Python 2",
   "language": "python",
   "name": "python2"
  },
  "language_info": {
   "codemirror_mode": {
    "name": "ipython",
    "version": 2
   },
   "file_extension": ".py",
   "mimetype": "text/x-python",
   "name": "python",
   "nbconvert_exporter": "python",
   "pygments_lexer": "ipython2",
   "version": "2.7.11"
  }
 },
 "nbformat": 4,
 "nbformat_minor": 0
}
