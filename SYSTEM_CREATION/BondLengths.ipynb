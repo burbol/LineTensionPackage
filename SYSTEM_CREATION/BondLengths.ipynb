{
 "cells": [
  {
   "cell_type": "code",
   "execution_count": 1,
   "metadata": {
    "collapsed": true
   },
   "outputs": [],
   "source": [
    "# Calculate bond lengths from .gro file"
   ]
  },
  {
   "cell_type": "code",
   "execution_count": 2,
   "metadata": {
    "collapsed": true
   },
   "outputs": [],
   "source": [
    "import numpy\n",
    "import math"
   ]
  },
  {
   "cell_type": "code",
   "execution_count": 3,
   "metadata": {
    "collapsed": false
   },
   "outputs": [
    {
     "name": "stdout",
     "output_type": "stream",
     "text": [
      "15.83\n"
     ]
    }
   ],
   "source": [
    "# Test\n",
    "chainlengthCH3 = 11\n",
    "chainlengthOH = 12\n",
    "\n",
    "# We multiply by 10 to get the right units???????????\n",
    "xLengthCO = 0.22\n",
    "yLengthCO = 0.00\n",
    "zLengthCO = -1.42\n",
    "\n",
    "xLengthOH = +0.87\n",
    "yLengthOH = 0.00\n",
    "zLengthOH = +0.39\n",
    "\n",
    "############## OH & CH3 CHAINS ##############\n",
    "xLengthCCa = -1.40\n",
    "yLengthCCa = 0.00\n",
    "zLengthCCa = -0.64\n",
    "\n",
    "xLengthCCb = +0.15\n",
    "yLengthCCb = 0.00\n",
    "zLengthCCb = -1.53\n",
    "\n",
    "print abs(zLengthOH) + abs(zLengthCO) + (float(chainlengthOH)/2.)*(abs(zLengthCCa) + abs(zLengthCCb)) + 1.0"
   ]
  },
  {
   "cell_type": "code",
   "execution_count": 4,
   "metadata": {
    "collapsed": false
   },
   "outputs": [
    {
     "name": "stdout",
     "output_type": "stream",
     "text": [
      "14.05\n"
     ]
    }
   ],
   "source": [
    "print -zLengthOH + abs(zLengthCO) + (float(chainlengthOH)/2.)*(abs(zLengthCCa) + abs(zLengthCCb))"
   ]
  },
  {
   "cell_type": "code",
   "execution_count": 5,
   "metadata": {
    "collapsed": false
   },
   "outputs": [
    {
     "name": "stdout",
     "output_type": "stream",
     "text": [
      "13.02\n"
     ]
    }
   ],
   "source": [
    "print (15.83 - 1.0 - abs(zLengthCO) - abs(zLengthOH))"
   ]
  },
  {
   "cell_type": "code",
   "execution_count": 6,
   "metadata": {
    "collapsed": false
   },
   "outputs": [
    {
     "name": "stdout",
     "output_type": "stream",
     "text": [
      "11.935\n"
     ]
    }
   ],
   "source": [
    "print(float(chainlengthCH3)/2.)*(abs(zLengthCCa) + abs(zLengthCCb))"
   ]
  },
  {
   "cell_type": "code",
   "execution_count": 7,
   "metadata": {
    "collapsed": false
   },
   "outputs": [
    {
     "data": {
      "text/plain": [
       "10.850000000000001"
      ]
     },
     "execution_count": 7,
     "metadata": {},
     "output_type": "execute_result"
    }
   ],
   "source": [
    "-10.520 + 21.370"
   ]
  },
  {
   "cell_type": "code",
   "execution_count": 8,
   "metadata": {
    "collapsed": false
   },
   "outputs": [
    {
     "data": {
      "text/plain": [
       "-11.54"
      ]
     },
     "execution_count": 8,
     "metadata": {},
     "output_type": "execute_result"
    }
   ],
   "source": [
    "27.710 - 39.250"
   ]
  },
  {
   "cell_type": "code",
   "execution_count": 9,
   "metadata": {
    "collapsed": false
   },
   "outputs": [
    {
     "data": {
      "text/plain": [
       "-0.7199999999999989"
      ]
     },
     "execution_count": 9,
     "metadata": {},
     "output_type": "execute_result"
    }
   ],
   "source": [
    "27.710 - 28.430"
   ]
  },
  {
   "cell_type": "code",
   "execution_count": 10,
   "metadata": {
    "collapsed": false
   },
   "outputs": [
    {
     "data": {
      "text/plain": [
       "-0.9800000000000004"
      ]
     },
     "execution_count": 10,
     "metadata": {},
     "output_type": "execute_result"
    }
   ],
   "source": [
    "28.430 - 29.410"
   ]
  },
  {
   "cell_type": "code",
   "execution_count": 11,
   "metadata": {
    "collapsed": false
   },
   "outputs": [
    {
     "data": {
      "text/plain": [
       "9.84"
      ]
     },
     "execution_count": 11,
     "metadata": {},
     "output_type": "execute_result"
    }
   ],
   "source": [
    "11.54 - 0.7199999999999989 -0.9800000000000004"
   ]
  },
  {
   "cell_type": "code",
   "execution_count": 12,
   "metadata": {
    "collapsed": false
   },
   "outputs": [
    {
     "name": "stdout",
     "output_type": "stream",
     "text": [
      "0.953414914924\n"
     ]
    }
   ],
   "source": [
    "ay = [0.87,0.00,+0.39]\n",
    "print numpy.linalg.norm(ay)"
   ]
  },
  {
   "cell_type": "code",
   "execution_count": 13,
   "metadata": {
    "collapsed": true
   },
   "outputs": [],
   "source": [
    "# Bond lengths (vector differences)\n",
    "HO = [0.054,-0.042,0.072]\n",
    "OC = [-0.088,-0.057,0.098]\n",
    "CC1 = [0.084,-0.064,0.111]\n",
    "CC2 = [-0.089,-0.062,0.108]\n",
    "CC3 = [0.086,-0.064,0.109]\n",
    "CC4 = [-0.087,-0.062,0.109]\n",
    "CC5 = [0.086,-0.064,0.110]\n",
    "CC6 = [-0.086,-0.063,0.109]\n",
    "CC7 = [0.085,-0.062,0.109]\n",
    "CC8 = [-0.086,-0.063,0.109]\n",
    "CC9 = [0.086,-0.064,0.110]"
   ]
  },
  {
   "cell_type": "code",
   "execution_count": 14,
   "metadata": {
    "collapsed": false
   },
   "outputs": [
    {
     "name": "stdout",
     "output_type": "stream",
     "text": [
      "0.099\n",
      "0.144\n",
      "0.153\n",
      "0.153\n",
      "0.153\n",
      "0.153\n",
      "0.154\n",
      "0.152\n",
      "0.151\n",
      "0.152\n",
      "0.154\n"
     ]
    }
   ],
   "source": [
    "# Abs. value of Bond lengths (vector differences)\n",
    "print round(numpy.linalg.norm(HO),3)\n",
    "print round(numpy.linalg.norm(OC),3)\n",
    "print round(numpy.linalg.norm(CC1),3)\n",
    "print round(numpy.linalg.norm(CC2),3)\n",
    "print round(numpy.linalg.norm(CC3),3)\n",
    "print round(numpy.linalg.norm(CC4),3)\n",
    "print round(numpy.linalg.norm(CC5),3)\n",
    "print round(numpy.linalg.norm(CC6),3)\n",
    "print round(numpy.linalg.norm(CC7),3)\n",
    "print round(numpy.linalg.norm(CC8),3)\n",
    "print round(numpy.linalg.norm(CC9),3)"
   ]
  },
  {
   "cell_type": "code",
   "execution_count": 15,
   "metadata": {
    "collapsed": true
   },
   "outputs": [],
   "source": [
    "# Official CC-bond length is 0.154, for OH-bond is 0.096, and for OC-bond 0.143"
   ]
  },
  {
   "cell_type": "code",
   "execution_count": 16,
   "metadata": {
    "collapsed": false
   },
   "outputs": [],
   "source": [
    "# Atom positions when z-direction of chain is right:\n",
    "HAA = numpy.array([0.282, 0.072, 1.391])\n",
    "OAA = numpy.array([0.336, 0.114, 1.318])\n",
    "CAL = numpy.array([0.248, 0.178, 1.207])\n",
    "CAK = numpy.array([0.332, 0.241, 1.099])\n",
    "CAJ = numpy.array([0.243, 0.304, 0.990])\n",
    "CAI = numpy.array([0.329, 0.367, 0.881])\n",
    "CAH = numpy.array([0.242, 0.430, 0.772])\n",
    "CAG = numpy.array([0.328, 0.493, 0.663])\n",
    "CAF = numpy.array([0.242, 0.556, 0.553])\n",
    "CAE = numpy.array([0.327, 0.619, 0.444])\n",
    "CAD = numpy.array([0.241, 0.682, 0.335])\n",
    "CAC = numpy.array([0.327, 0.746, 0.225])"
   ]
  },
  {
   "cell_type": "code",
   "execution_count": 17,
   "metadata": {
    "collapsed": false
   },
   "outputs": [
    {
     "name": "stdout",
     "output_type": "stream",
     "text": [
      "OH [-0.054 -0.042  0.073] 0.099\n",
      "OC [ 0.088 -0.064  0.111] 0.155\n",
      "CCb [-0.084 -0.063  0.108] 0.151\n",
      "CCa [ 0.089 -0.063  0.109] 0.154\n",
      "CCb [-0.086 -0.063  0.109] 0.152\n",
      "CCa [ 0.087 -0.063  0.109] 0.153\n",
      "CCb [-0.086 -0.063  0.109] 0.152\n",
      "CCa [ 0.086 -0.063  0.11 ] 0.153\n",
      "CCb [-0.085 -0.063  0.109] 0.152\n",
      "CCa [ 0.086 -0.063  0.109] 0.152\n",
      "CCb [-0.086 -0.064  0.11 ] 0.154\n"
     ]
    }
   ],
   "source": [
    "# Bond lengths (vector differences)\n",
    "OH = HAA - OAA\n",
    "print 'OH', OH, round(numpy.linalg.norm(HO),3)\n",
    "OC = OAA - CAL\n",
    "print 'OC', OC, round(numpy.linalg.norm(OC),3)\n",
    "CC1 = CAL - CAK\n",
    "print 'CCb', CC1, round(numpy.linalg.norm(CC1),3)\n",
    "CC2 = CAK - CAJ\n",
    "print 'CCa', CC2, round(numpy.linalg.norm(CC2),3)\n",
    "CC3 = CAJ - CAI\n",
    "print 'CCb', CC3, round(numpy.linalg.norm(CC3),3)\n",
    "CC4 = CAI - CAH\n",
    "print 'CCa', CC4, round(numpy.linalg.norm(CC4),3)\n",
    "CC5 = CAH - CAG\n",
    "print 'CCb', CC5, round(numpy.linalg.norm(CC5),3)\n",
    "CC6 = CAG - CAF\n",
    "print 'CCa', CC6, round(numpy.linalg.norm(CC6),3)\n",
    "CC7 = CAF - CAE\n",
    "print 'CCb', CC7, round(numpy.linalg.norm(CC7),3)\n",
    "CC8 = CAE - CAD\n",
    "print 'CCa', CC8, round(numpy.linalg.norm(CC8),3)\n",
    "CC9 = CAD - CAC\n",
    "print 'CCb', CC9, round(numpy.linalg.norm(CC9),3)"
   ]
  },
  {
   "cell_type": "code",
   "execution_count": 18,
   "metadata": {
    "collapsed": false
   },
   "outputs": [
    {
     "name": "stdout",
     "output_type": "stream",
     "text": [
      "9.67\n"
     ]
    }
   ],
   "source": [
    "shift = abs(xLengthCO) + (float(chainlengthOH)/2.)*(abs(xLengthCCa) + abs(xLengthCCb)) + abs(xLengthCCb)\n",
    "print shift"
   ]
  },
  {
   "cell_type": "code",
   "execution_count": null,
   "metadata": {
    "collapsed": true
   },
   "outputs": [],
   "source": []
  }
 ],
 "metadata": {
  "kernelspec": {
   "display_name": "Python 2",
   "language": "python",
   "name": "python2"
  },
  "language_info": {
   "codemirror_mode": {
    "name": "ipython",
    "version": 2
   },
   "file_extension": ".py",
   "mimetype": "text/x-python",
   "name": "python",
   "nbconvert_exporter": "python",
   "pygments_lexer": "ipython2",
   "version": "2.7.11"
  }
 },
 "nbformat": 4,
 "nbformat_minor": 0
}
