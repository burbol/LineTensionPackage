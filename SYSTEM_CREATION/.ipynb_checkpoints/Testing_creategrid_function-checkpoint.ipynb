{
 "cells": [
  {
   "cell_type": "code",
   "execution_count": 1,
   "metadata": {
    "collapsed": true
   },
   "outputs": [],
   "source": [
    "import numpy as np"
   ]
  },
  {
   "cell_type": "code",
   "execution_count": 2,
   "metadata": {
    "collapsed": false
   },
   "outputs": [
    {
     "ename": "IndentationError",
     "evalue": "unexpected indent (<ipython-input-2-4b03a28eab1f>, line 24)",
     "output_type": "error",
     "traceback": [
      "\u001b[0;36m  File \u001b[0;32m\"<ipython-input-2-4b03a28eab1f>\"\u001b[0;36m, line \u001b[0;32m24\u001b[0m\n\u001b[0;31m    if xPos[i,j]>xPos[-1,1]:\u001b[0m\n\u001b[0m    ^\u001b[0m\n\u001b[0;31mIndentationError\u001b[0m\u001b[0;31m:\u001b[0m unexpected indent\n"
     ]
    }
   ],
   "source": [
    "########################### FUNCTION TO CREATE GRID ###########################\n",
    "def creategrid(a0, Nx, Ny):\n",
    "    # set particle x- and y- coordinates\n",
    "    # !!!! later move to create_top_surface.ipynb !!!\n",
    "\n",
    "\n",
    "    # First basis vector V = (Vx,Vy)\n",
    "    Vx = a0\n",
    "    Vy = 0\n",
    "    # Second basis vector W = (Wx,Wy)\n",
    "    Wx = a0*np.sin(np.pi/6)\n",
    "    Wy = a0*np.cos(np.pi/6)\n",
    "\n",
    "    # create arrays that hold particle positions\n",
    "    xPos = np.zeros([Nx,Ny],dtype=float) # x positions of particles\n",
    "    yPos = np.zeros([Nx,Ny],dtype=float) # y positions of particles\n",
    "\n",
    "    ################# TYPE 1 OF GRID ################\n",
    "\n",
    "    for j in range(Ny):\n",
    "        for i in range(Nx):\n",
    "            xPos[i,j] = i*Vx + j*Wx\n",
    "            yPos[i,j] = i*Vy + j*Wy\n",
    "                if xPos[i,j]>xPos[-1,1]:\n",
    "                    xPos[i,j] = i-(Nx-1)*Vx + j*Wx\n",
    "\n",
    "    for j in range(1,Ny):\n",
    "        for i in range(Nx):  # Here we move the last particles of almost each line to get a more rectangular surface shape\n",
    "            if xPos[i,j]>xPos[-1,1]:\n",
    "                xPos[i,j] = xPos[i-(Nx-1),j-2]\n",
    "\n",
    "    return xPos, yPos"
   ]
  },
  {
   "cell_type": "code",
   "execution_count": 2,
   "metadata": {
    "collapsed": false
   },
   "outputs": [
    {
     "ename": "IndentationError",
     "evalue": "unexpected indent (<ipython-input-2-4b03a28eab1f>, line 24)",
     "output_type": "error",
     "traceback": [
      "\u001b[0;36m  File \u001b[0;32m\"<ipython-input-2-4b03a28eab1f>\"\u001b[0;36m, line \u001b[0;32m24\u001b[0m\n\u001b[0;31m    if xPos[i,j]>xPos[-1,1]:\u001b[0m\n\u001b[0m    ^\u001b[0m\n\u001b[0;31mIndentationError\u001b[0m\u001b[0;31m:\u001b[0m unexpected indent\n"
     ]
    }
   ],
   "source": [
    "########################### FUNCTION TO CREATE GRID ###########################\n",
    "def creategrid(a0, Nx, Ny):\n",
    "    # set particle x- and y- coordinates\n",
    "    # !!!! later move to create_top_surface.ipynb !!!\n",
    "\n",
    "\n",
    "    # First basis vector V = (Vx,Vy)\n",
    "    Vx = a0\n",
    "    Vy = 0\n",
    "    # Second basis vector W = (Wx,Wy)\n",
    "    Wx = a0*np.sin(np.pi/6)\n",
    "    Wy = a0*np.cos(np.pi/6)\n",
    "\n",
    "    # create arrays that hold particle positions\n",
    "    xPos = np.zeros([Nx,Ny],dtype=float) # x positions of particles\n",
    "    yPos = np.zeros([Nx,Ny],dtype=float) # y positions of particles\n",
    "\n",
    "    ################# TYPE 1 OF GRID ################\n",
    "\n",
    "    for j in range(Ny):\n",
    "        for i in range(Nx):\n",
    "            xPos[i,j] = i*Vx + j*Wx\n",
    "            yPos[i,j] = i*Vy + j*Wy\n",
    "                if xPos[i,j]>xPos[-1,1]:\n",
    "                    xPos[i,j] = xPos[i,j] - (Nx*Vx)\n",
    "\n",
    "    for j in range(1,Ny):\n",
    "        for i in range(Nx):  # Here we move the last particles of almost each line to get a more rectangular surface shape\n",
    "            if xPos[i,j]>xPos[-1,1]:\n",
    "                xPos[i,j] = xPos[i-(Nx-1),j-2]\n",
    "\n",
    "    return xPos, yPos"
   ]
  }
 ],
 "metadata": {
  "kernelspec": {
   "display_name": "Python 2",
   "language": "python",
   "name": "python2"
  },
  "language_info": {
   "codemirror_mode": {
    "name": "ipython",
    "version": 2
   },
   "file_extension": ".py",
   "mimetype": "text/x-python",
   "name": "python",
   "nbconvert_exporter": "python",
   "pygments_lexer": "ipython2",
   "version": "2.7.11"
  }
 },
 "nbformat": 4,
 "nbformat_minor": 0
}
