{
 "cells": [
  {
   "cell_type": "code",
   "execution_count": 1,
   "metadata": {
    "collapsed": true
   },
   "outputs": [],
   "source": [
    "import matplotlib.pyplot as plt\n",
    "import numpy as np\n",
    "import os\n",
    "import pylab as pl"
   ]
  },
  {
   "cell_type": "code",
   "execution_count": 2,
   "metadata": {
    "collapsed": true
   },
   "outputs": [],
   "source": [
    "def replace_line(file_name, line_num, text):\n",
    "    lines = open(file_name, 'r').readlines()\n",
    "    lines[line_num] = text\n",
    "    out = open(file_name, 'w')\n",
    "    out.writelines(lines)\n",
    "    out.close()\n",
    "\n",
    "def linecount(file_name):\n",
    "    with open(file_name, 'r') as foo:\n",
    "        x = len(foo.readlines())\n",
    "        return x"
   ]
  },
  {
   "cell_type": "code",
   "execution_count": 16,
   "metadata": {
    "collapsed": true
   },
   "outputs": [],
   "source": [
    "# Set system names and path to directory with .pdb files\n",
    "\n",
    "pc=[0,11,22,33,44,50,37]\n",
    "molec = [1000, 2000, 3000, 4000, 5000, 6500, 7000, 8000, 9000, 10000]\n",
    "\n",
    "# Single system for testing\n",
    "#pc=[11]\n",
    "#molec = [7000]\n",
    "\n",
    "samsfolder = \"/Users/eixeres/Dropbox/GitHub/LineTensionPackage/SYSTEM_CREATION/gromacs_files/SAM_startfiles_v2_36x36/\"\n",
    "#samsfolder = \"/Users/eixeres/Dropbox/GitHub/LineTensionPackage/SYSTEM_CREATION/gromacs_files/SAM_startfiles_v2_12x12/\"\n",
    "\n",
    "os.chdir(samsfolder)"
   ]
  },
  {
   "cell_type": "code",
   "execution_count": 17,
   "metadata": {
    "collapsed": false
   },
   "outputs": [
    {
     "name": "stdout",
     "output_type": "stream",
     "text": [
      "gmx editconf -f start0.pdb -o start0.gro\n",
      "gmx editconf -f start11.pdb -o start11.gro\n",
      "gmx editconf -f start22.pdb -o start22.gro\n",
      "gmx editconf -f start33.pdb -o start33.gro\n",
      "gmx editconf -f start44.pdb -o start44.gro\n",
      "gmx editconf -f start50.pdb -o start50.gro\n",
      "gmx editconf -f start37.pdb -o start37.gro\n"
     ]
    }
   ],
   "source": [
    "# Create .gro files from .pdb files\n",
    "for m in pc:\n",
    "    pdbfile = 'start%d.pdb'%(m, ) \n",
    "    grofile = 'start%d.gro'%(m, )\n",
    "    print(\"gmx editconf -f %s -o %s\" %(pdbfile, grofile, ))\n",
    "    os.system(\"gmx editconf -f %s -o %s -c\" %(pdbfile, grofile, ))   "
   ]
  },
  {
   "cell_type": "code",
   "execution_count": 18,
   "metadata": {
    "collapsed": false
   },
   "outputs": [
    {
     "name": "stdout",
     "output_type": "stream",
     "text": [
      "start0.gro :   18.00000  15.58850   1.52200\n",
      "\n",
      "start11.gro :   18.00000  15.58850   1.52200\n",
      "\n",
      "start22.gro :   18.00000  15.58850   1.52200\n",
      "\n",
      "start33.gro :   18.00000  15.58850   1.52200\n",
      "\n",
      "start44.gro :   18.00000  15.58850   1.52200\n",
      "\n",
      "start50.gro :   18.00000  15.58850   1.52200\n",
      "\n",
      "start37.gro :   18.00000  15.58850   1.52200\n",
      "\n"
     ]
    }
   ],
   "source": [
    "# Print SAMs box sizes (last line of .gro file)\n",
    "for m in pc:\n",
    "    newfile = 'start%d.gro'%(m, )   \n",
    "    last_line = open(newfile, \"r\").readlines()[-1]\n",
    "    Line_len = len(last_line)\n",
    "    print newfile, \":\", last_line"
   ]
  },
  {
   "cell_type": "code",
   "execution_count": 19,
   "metadata": {
    "collapsed": false
   },
   "outputs": [],
   "source": [
    "# Use forward slash '/' at the end of the paths!!!\n",
    "\n",
    "#folder water .gro files (and SAM .gro files)\n",
    "workingdir = \"/Users/eixeres/Dropbox/GitHub/LineTensionPackage/SYSTEM_CREATION/gromacs_files/DropsGroTop/\"  #path to .gro files\n",
    "\n",
    "# folder for storing shifted sams: can be deleted if everything works fine\n",
    "unwantedfolder = workingdir + \"delete/\" #path unwanted files\n",
    "\n",
    "# if folder does not exists, create it\n",
    "if not os.path.isdir(unwantedfolder):\n",
    "    os.mkdir(unwantedfolder)"
   ]
  },
  {
   "cell_type": "code",
   "execution_count": 20,
   "metadata": {
    "collapsed": false
   },
   "outputs": [
    {
     "name": "stdout",
     "output_type": "stream",
     "text": [
      "cp start0.gro /Users/eixeres/Dropbox/GitHub/LineTensionPackage/SYSTEM_CREATION/gromacs_files/DropsGroTop/\n",
      "cp start11.gro /Users/eixeres/Dropbox/GitHub/LineTensionPackage/SYSTEM_CREATION/gromacs_files/DropsGroTop/\n",
      "cp start22.gro /Users/eixeres/Dropbox/GitHub/LineTensionPackage/SYSTEM_CREATION/gromacs_files/DropsGroTop/\n",
      "cp start33.gro /Users/eixeres/Dropbox/GitHub/LineTensionPackage/SYSTEM_CREATION/gromacs_files/DropsGroTop/\n",
      "cp start44.gro /Users/eixeres/Dropbox/GitHub/LineTensionPackage/SYSTEM_CREATION/gromacs_files/DropsGroTop/\n",
      "cp start50.gro /Users/eixeres/Dropbox/GitHub/LineTensionPackage/SYSTEM_CREATION/gromacs_files/DropsGroTop/\n",
      "cp start37.gro /Users/eixeres/Dropbox/GitHub/LineTensionPackage/SYSTEM_CREATION/gromacs_files/DropsGroTop/\n"
     ]
    }
   ],
   "source": [
    "# Copy SAM .gro files to working directory (and print commands to check)\n",
    "for m in pc:\n",
    "    newfile = 'start%d.gro'%(m, )\n",
    "    print(\"cp %s %s\" %(newfile, workingdir, ))\n",
    "    os.system(\"cp %s %s\" %(newfile, workingdir, ))"
   ]
  },
  {
   "cell_type": "code",
   "execution_count": 21,
   "metadata": {
    "collapsed": true
   },
   "outputs": [],
   "source": [
    "# New box size in z-direction\n",
    "zboxnew=12.0\n",
    "\n",
    "# sam sizes in z-direction (not box size!!)\n",
    "sam={}\n",
    "\n",
    "#sizes of simulation box of sams\n",
    "xbox={}\n",
    "ybox={}\n",
    "zbox={}\n",
    "\n",
    "mynumbers = []\n",
    "mynumbers.append([float(n) for n in last_line.split()])\n",
    "\n",
    "for i in pc:\n",
    "    sam[i]= mynumbers[0][2]\n",
    "\n",
    "    xbox[i]=mynumbers[0][0]\n",
    "    ybox[i]=mynumbers[0][1]\n",
    "    zbox[i]=mynumbers[0][2]\n",
    "\n",
    "# water drop sizes in z-direction (they could also be read, look at script ExtendSam.ipynb)\n",
    "water={}\n",
    "water[216]=2.020\n",
    "water[1000]=3.320\n",
    "water[2000]=4.124\n",
    "water[3000]=4.637\n",
    "water[4000]=5.124\n",
    "water[5000]=5.495\n",
    "water[6500]=5.981 \n",
    "water[7000]=6.126\n",
    "water[8000]=6.395\n",
    "water[9000]=6.665\n",
    "water[10000]=6.895  "
   ]
  },
  {
   "cell_type": "code",
   "execution_count": 22,
   "metadata": {
    "collapsed": false
   },
   "outputs": [],
   "source": [
    "os.chdir(workingdir)\n",
    "    \n",
    "for i in pc:   \n",
    "    \n",
    "    # SAM .gro file names\n",
    "    startsamfile='start%d.gro'%(i, )\n",
    "    \n",
    "    # Temporary SAM file names\n",
    "    samfile='start'+str(i)+'_c.gro'\n",
    "    \n",
    "    # Center SAMs in box\n",
    "    os.system(\"gmx editconf -f %s -o %s -c\" %(startsamfile, samfile, ))\n",
    "  \n",
    "    for j in molec:        \n",
    "        \n",
    "        # Water (old) file names\n",
    "        startwaterfile='NPT_water'+str(j)+'.gro'\n",
    "        waterfile='NPT_water'+str(j)+'_c.gro'\n",
    "        \n",
    "        # New water files names\n",
    "        newsystfile='NPT_sam'+str(i)+'_water'+str(j)+'_c.gro'\n",
    "        endfile='NPT_sam'+str(i)+'_water'+str(j)+'.gro'\n",
    "               \n",
    "        # Set water box size equal to SAM box size\n",
    "        os.system(\"gmx editconf -f %s -o %s -box %5.3f %5.3f %5.3f\" %(startwaterfile, waterfile, xbox[i], ybox[i], zbox[i], ))\n",
    "               \n",
    "        # Move water drops up \n",
    "        os.system(\"gmx editconf -f %s -o %s -translate 0 0 %5.3f\" %(waterfile, waterfile, (zbox[i]/2) +(water[j]/2) + 0.5, )) \n",
    "        \n",
    "##### START THE MERGING PROCESS OF water drops + SAMs #################\n",
    "\n",
    "        # Create the new file by openning and closing it\n",
    "        creating = open(newsystfile, 'w+')\n",
    "        creating.close()\n",
    "        \n",
    "        #linecount\n",
    "        linewater=linecount(waterfile)\n",
    "        linesam=linecount(samfile)\n",
    "        \n",
    "        lastline = open(samfile, \"r\").readlines()[-1]\n",
    "        with open(newsystfile, 'a') as f1:\n",
    "            with open(samfile, 'r') as g:\n",
    "                l = 0\n",
    "                for line in g:\n",
    "                    if l < linesam-1: \n",
    "                        f1.write(line)\n",
    "                    l = l+1   \n",
    "            with open(waterfile, 'r') as h:\n",
    "                l = 0\n",
    "                for line in h:                        \n",
    "                    if l > 1 and l < linewater-1:\n",
    "                        f1.write(line)\n",
    "                    l = l + 1\n",
    "            f1.write(lastline)\n",
    "\n",
    "             \n",
    "        # Replace atom number\n",
    "        atomssam = linesam-3\n",
    "        atomswater = linewater-3\n",
    "            \n",
    "        replace_line(newsystfile, 1, str(atomssam+atomswater) + \"\\n\")\n",
    "        \n",
    "        # Replace first line (title)\n",
    "        replace_line(newsystfile, 0, \"SAM \"+str(i)+\"% OH-coverage + water \"+str(j)+ \"\\n\")\n",
    "        \n",
    "        # Change box height (z-direction)\n",
    "        os.system(\"gmx editconf -f %s -o %s -box %5.3f %5.3f %5.3f\" %(newsystfile, endfile, xbox[i], ybox[i], zboxnew, ))\n",
    "        \n",
    "        # Translate system to bottom of box\n",
    "        #os.system(\"gmx editconf -f %s -o %s -translate %8.5f %8.5f %8.5f\" %(endfile, endfile, 0, 0,(zbox[i]-water[j]+0.5)/2, ))"
   ]
  },
  {
   "cell_type": "code",
   "execution_count": 23,
   "metadata": {
    "collapsed": true
   },
   "outputs": [],
   "source": [
    "#Renaming and moving endfiles to endfolder\n",
    "\n",
    "startfolder = workingdir\n",
    "endfolder = workingdir + \"NewVersion_v2/\"\n",
    "\n",
    "#os.system(\"mkdir %s\"% (endfolder))\n",
    "os.chdir(endfolder)\n",
    "\n",
    "for i in pc:\n",
    "    for j in molec:\n",
    "        startname='NPT_sam'+str(i)+'_water'+str(j)+'.gro'\n",
    "        endname='sam'+str(i)+'_water'+str(j)+'.gro'\n",
    "        os.system(\"mv %s  %s\"% (startfolder+startname,endfolder+endname, ))"
   ]
  },
  {
   "cell_type": "code",
   "execution_count": 24,
   "metadata": {
    "collapsed": false
   },
   "outputs": [
    {
     "name": "stdout",
     "output_type": "stream",
     "text": [
      "chainlength =  13\n",
      "    1SAM    CAB   11   0.173   0.534   2.877  0.0000  0.0000  0.0000\n",
      "\n",
      "1SAM 2.877\n",
      "chainlength =  12\n",
      "    1SAM    CAB   11   0.175   0.538   2.882  0.0000  0.0000  0.0000\n",
      "\n",
      "1SAM 2.882\n",
      "chainlength =  12\n",
      "    1XOH    CAD   11   0.087   0.477   2.995  0.0000  0.0000  0.0000\n",
      "\n",
      "1XOH 2.995\n",
      "chainlength =  12\n",
      "    1SAM    CAB   11   0.174   0.546   2.891  0.0000  0.0000  0.0000\n",
      "\n",
      "1SAM 2.891\n",
      "chainlength =  12\n",
      "    1XOH    CAD   11   0.088   0.476   3.005  0.0000  0.0000  0.0000\n",
      "\n",
      "1XOH 3.005\n",
      "chainlength =  12\n",
      "    1XOH    CAD   11   0.083   0.482   3.007  0.0000  0.0000  0.0000\n",
      "\n",
      "1XOH 3.007\n",
      "chainlength =  12\n",
      "    1SAM    CAB   11   0.172   0.546   2.893  0.0000  0.0000  0.0000\n",
      "\n",
      "1SAM 2.893\n"
     ]
    }
   ],
   "source": [
    "# read position of bottom atom of SAM and save in dictionary zshift and translate system\n",
    "line_num = 13 # some chains are longer then others: 12 or 13. Tested with \"if-statement\"\n",
    "zshift = {}\n",
    "for i in pc:\n",
    "    for j in molec:\n",
    "        endname='sam'+str(i)+'_water'+str(j)+'.gro'\n",
    "        lines = open(endname, 'r').readlines()\n",
    "        myline = lines[line_num]\n",
    "        mynumbers = []\n",
    "        mynumbers.append([str(n) for n in myline.split()])\n",
    "        firstchain = str(mynumbers[0][0])\n",
    "        #print len(firstchain), firstchain\n",
    "        if firstchain == '1SAM' or firstchain == '1XOH':\n",
    "            print 'chainlength = ', line_num\n",
    "            print myline\n",
    "            zshift[i,j] = float(mynumbers[0][5])\n",
    "            print firstchain, zshift[i,j]\n",
    "            os.system(\"gmx editconf -f %s -o %s -translate %8.5f %8.5f %8.5f\" %(endname, endname, 0, 0,-zshift[i,j], ))\n",
    "        else:\n",
    "            print 'chainlength = ', line_num\n",
    "            line_num = 12\n",
    "            myline = lines[line_num]\n",
    "            print myline\n",
    "            mynumbers = []\n",
    "            mynumbers.append([str(n) for n in myline.split()])\n",
    "            zshift[i,j] = float(mynumbers[0][5])\n",
    "            print str(mynumbers[0][0]), zshift[i,j]\n",
    "            os.system(\"gmx editconf -f %s -o %s -translate %8.5f %8.5f %8.5f\" %(endname, endname, 0, 0,-zshift[i,j], ))"
   ]
  },
  {
   "cell_type": "code",
   "execution_count": 25,
   "metadata": {
    "collapsed": false
   },
   "outputs": [
    {
     "data": {
      "text/plain": [
       "0"
      ]
     },
     "execution_count": 25,
     "metadata": {},
     "output_type": "execute_result"
    }
   ],
   "source": [
    "# Remove gromacs file copies from endfolder\n",
    "os.chdir(endfolder)\n",
    "os.system(\"rm \\#*\")"
   ]
  },
  {
   "cell_type": "code",
   "execution_count": 26,
   "metadata": {
    "collapsed": false
   },
   "outputs": [],
   "source": [
    "# Delete/move not needed files from workingdir\n",
    "\n",
    "os.chdir(workingdir)\n",
    "\n",
    "# Remove gromacs file copies\n",
    "os.system(\"rm \\#*\")\n",
    "\n",
    "# Move to \"delete\" folder\n",
    "for i in pc:\n",
    "    \n",
    "    samfile='start'+str(i)+'_c.gro'\n",
    "    #print(\"mv %s  %s\"%(samfile,unwantedfolder + samfile, ))\n",
    "    os.system(\"mv %s  %s\"%(samfile,unwantedfolder + samfile, ))\n",
    "    \n",
    "    for j in molec:\n",
    "        \n",
    "        newsystfile='NPT_sam'+str(i)+'_water'+str(j)+'_c.gro'\n",
    "        #print(\"mv %s  %s\"% (newsystfile,unwantedfolder + newsystfile, ))\n",
    "        os.system(\"mv %s  %s\"% (newsystfile,unwantedfolder + newsystfile, ))\n",
    "        \n",
    "for j in molec:\n",
    "        \n",
    "    waterfile='NPT_water'+str(j)+'_c.gro'\n",
    "    #print(\"mv %s  %s\"% (waterfile,unwantedfolder + waterfile, ))\n",
    "    os.system(\"mv %s  %s\"% (waterfile,unwantedfolder + waterfile, ))"
   ]
  },
  {
   "cell_type": "code",
   "execution_count": 27,
   "metadata": {
    "collapsed": false
   },
   "outputs": [
    {
     "data": {
      "text/plain": [
       "'\\nos.remove() will remove a file.\\n\\nos.rmdir() will remove an empty directory.\\n\\nshutil.rmtree() will delete a directory and all its contents.\\n'"
      ]
     },
     "execution_count": 27,
     "metadata": {},
     "output_type": "execute_result"
    }
   ],
   "source": [
    "\"\"\"\n",
    "For removing:\n",
    "os.remove() will remove a file.\n",
    "\n",
    "os.rmdir() will remove an empty directory.\n",
    "\n",
    "shutil.rmtree() will delete a directory and all its contents.\n",
    "\n",
    "For moving:\n",
    "os.rename() or shutil.move()\n",
    "\n",
    "Both employ the same syntax:\n",
    "os.rename(\"path/to/current/file.foo\", \"path/to/new/desination/for/file.foo\")\n",
    "shutil.move(\"path/to/current/file.foo\", \"path/to/new/destination/for/file.foo\")\n",
    "\n",
    "For copying:\n",
    "\n",
    "-------------------------------------------------------------------------\n",
    "| Function          |Copies Metadata|Copies Permissions|Can Specify Buffer|\n",
    "-------------------------------------------------------------------------\n",
    "| shutil.copy       |      No       |        Yes       |        No        |\n",
    "-------------------------------------------------------------------------\n",
    "| shutil.copyfile   |      No       |         No       |        No        |\n",
    "-------------------------------------------------------------------------\n",
    "| shutil.copy2      |     Yes       |        Yes       |        No        |\n",
    "-------------------------------------------------------------------------\n",
    "| shutil.copyfileobj|      No       |         No       |       Yes        |\n",
    "-------------------------------------------------------------------------\n",
    "\n",
    "Example:\n",
    "shutil.copy2('/dir/file.ext', '/new/dir')\n",
    "\n",
    "\"\"\""
   ]
  },
  {
   "cell_type": "code",
   "execution_count": 28,
   "metadata": {
    "collapsed": false
   },
   "outputs": [],
   "source": [
    "import shutil\n",
    "shutil.rmtree(unwantedfolder)"
   ]
  },
  {
   "cell_type": "code",
   "execution_count": null,
   "metadata": {
    "collapsed": true
   },
   "outputs": [],
   "source": []
  }
 ],
 "metadata": {
  "kernelspec": {
   "display_name": "Python 2",
   "language": "python",
   "name": "python2"
  },
  "language_info": {
   "codemirror_mode": {
    "name": "ipython",
    "version": 2
   },
   "file_extension": ".py",
   "mimetype": "text/x-python",
   "name": "python",
   "nbconvert_exporter": "python",
   "pygments_lexer": "ipython2",
   "version": "2.7.11"
  }
 },
 "nbformat": 4,
 "nbformat_minor": 0
}
