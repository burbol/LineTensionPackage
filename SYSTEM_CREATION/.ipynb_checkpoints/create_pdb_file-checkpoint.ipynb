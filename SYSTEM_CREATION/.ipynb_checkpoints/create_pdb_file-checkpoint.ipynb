{
 "cells": [
  {
   "cell_type": "code",
   "execution_count": 2,
   "metadata": {
    "collapsed": true
   },
   "outputs": [],
   "source": [
    "# CREATE GROMACS version 5 .gro FILE of SAM CONSITING OF \n",
    "# CARBON CHAINS WITH  CH3- AND OH- HEAD GROUPS\n",
    "# C1 AND O1 AT THE SAME z-LEVEL\n",
    "# CH2 and CH3 TREATED AS SINGLE MOLECULES (GROUP COORDINATES)"
   ]
  },
  {
   "cell_type": "code",
   "execution_count": 1,
   "metadata": {
    "collapsed": false
   },
   "outputs": [
    {
     "name": "stdout",
     "output_type": "stream",
     "text": [
      "Populating the interactive namespace from numpy and matplotlib\n"
     ]
    }
   ],
   "source": [
    "%pylab inline"
   ]
  },
  {
   "cell_type": "code",
   "execution_count": 2,
   "metadata": {
    "collapsed": true
   },
   "outputs": [],
   "source": [
    "#!/usr/bin/env python\n",
    "\n",
    "import numpy as np\n",
    "import math\n",
    "import matplotlib.pyplot as plt\n",
    "import sys"
   ]
  },
  {
   "cell_type": "code",
   "execution_count": 3,
   "metadata": {
    "collapsed": true
   },
   "outputs": [],
   "source": [
    "xcopies = 1\n",
    "ycopies = 1\n",
    "\n",
    "Nx = 10 # number of gridpoints in x-direction (carbons)\n",
    "Ny = 10 # number of gridpoints in y-direction (carbons)\n",
    "\n",
    "Nx = Nx*xcopies # number of gridpoints in x-direction (carbons)\n",
    "Ny = Ny*ycopies # number of gridpoints in y-direction (carbons)\n",
    "\n",
    "a0 = 5.0\n",
    "zPos = 21.680\n",
    "\n",
    "xinterval = 2\n",
    "yinterval = 2"
   ]
  },
  {
   "cell_type": "code",
   "execution_count": 4,
   "metadata": {
    "collapsed": false
   },
   "outputs": [
    {
     "name": "stdout",
     "output_type": "stream",
     "text": [
      "oxygens 25\n",
      "carbons 100\n",
      "pc=  25\n"
     ]
    },
    {
     "data": {
      "image/png": "[encoded data removed]",
      "text/plain": [
       "<matplotlib.figure.Figure at 0x10de17490>"
      ]
     },
     "metadata": {},
     "output_type": "display_data"
    }
   ],
   "source": [
    "pType = np.zeros([Nx,Ny],dtype=str) # particle type\n",
    "\n",
    "# set standard particle type as Carbon\n",
    "for i in range(Nx):\n",
    "  for j in range(Ny):\n",
    "    pType[i,j] = 'C' \n",
    "\n",
    "# exchange Carbons with oxygens\n",
    "n = 0\n",
    "for l in range(0,Ny,yinterval):\n",
    "    for k in range(0,Nx,xinterval):\n",
    "        pType[k,l] = 'O' \n",
    "        n = n+1\n",
    "        \n",
    "print \"oxygens\",n\n",
    "print \"carbons\", Nx*Ny\n",
    "pc = n/(float(Nx)*float(Ny))\n",
    "print \"pc= \", int(pc*100)\n",
    "\n",
    "\n",
    "################################## PLOT HEAT MAP  ######################################\n",
    "#   create array with 0s where there is O and ones where there is C:\n",
    "Z = np.zeros([Nx,Ny],dtype=int)\n",
    "for i in range(Nx):\n",
    "  for j in range(Ny):\n",
    "    if pType[i,j] == 'C':\n",
    "      Z[i,j] = 1\n",
    "      \n",
    "#    PLOT as heatmap\n",
    "fig, ax = plt.subplots()\n",
    "ax.imshow(Z, cmap=plt.cm.winter, interpolation='nearest')\n",
    "ax.grid()\n",
    "plt.show()\n",
    "#fig.savefig('output_' + str(Percentage) + '_heatmap.pdf',format='pdf')"
   ]
  },
  {
   "cell_type": "code",
   "execution_count": 5,
   "metadata": {
    "collapsed": false
   },
   "outputs": [
    {
     "ename": "NameError",
     "evalue": "name 'counter' is not defined",
     "output_type": "error",
     "traceback": [
      "\u001b[0;31m---------------------------------------------------------------------------\u001b[0m",
      "\u001b[0;31mNameError\u001b[0m                                 Traceback (most recent call last)",
      "\u001b[0;32m<ipython-input-5-cebe38a8d214>\u001b[0m in \u001b[0;36m<module>\u001b[0;34m()\u001b[0m\n\u001b[1;32m     14\u001b[0m \u001b[0;31m# set particle positions\u001b[0m\u001b[0;34m\u001b[0m\u001b[0;34m\u001b[0m\u001b[0m\n\u001b[1;32m     15\u001b[0m \u001b[0;32mfor\u001b[0m \u001b[0mj\u001b[0m \u001b[0;32min\u001b[0m \u001b[0mrange\u001b[0m\u001b[0;34m(\u001b[0m\u001b[0mNy\u001b[0m\u001b[0;34m)\u001b[0m\u001b[0;34m:\u001b[0m\u001b[0;34m\u001b[0m\u001b[0m\n\u001b[0;32m---> 16\u001b[0;31m     \u001b[0mx_shift\u001b[0m \u001b[0;34m=\u001b[0m \u001b[0mj\u001b[0m \u001b[0;34m-\u001b[0m \u001b[0mcounter\u001b[0m\u001b[0;34m\u001b[0m\u001b[0m\n\u001b[0m\u001b[1;32m     17\u001b[0m     \u001b[0;32mfor\u001b[0m \u001b[0mi\u001b[0m \u001b[0;32min\u001b[0m \u001b[0mrange\u001b[0m\u001b[0;34m(\u001b[0m\u001b[0mNx\u001b[0m\u001b[0;34m)\u001b[0m\u001b[0;34m:\u001b[0m\u001b[0;34m\u001b[0m\u001b[0m\n\u001b[1;32m     18\u001b[0m         \u001b[0mxPos\u001b[0m\u001b[0;34m[\u001b[0m\u001b[0mi\u001b[0m\u001b[0;34m,\u001b[0m\u001b[0mj\u001b[0m\u001b[0;34m]\u001b[0m \u001b[0;34m=\u001b[0m \u001b[0mi\u001b[0m\u001b[0;34m*\u001b[0m\u001b[0mVx\u001b[0m \u001b[0;34m+\u001b[0m \u001b[0mj\u001b[0m\u001b[0;34m*\u001b[0m\u001b[0mWx\u001b[0m\u001b[0;34m\u001b[0m\u001b[0m\n",
      "\u001b[0;31mNameError\u001b[0m: name 'counter' is not defined"
     ]
    }
   ],
   "source": [
    "#V = (Vx,Vy) first basis vector \n",
    "Vx = a0\n",
    "Vy = 0\n",
    "# W = (Wx,Wy) second basis vector \n",
    "Wx = a0*np.sin(np.pi/6)\n",
    "Wy = a0*np.cos(np.pi/6)\n",
    "\n",
    "# create arrays that hold particle positions\n",
    "xPos = np.zeros([Nx,Ny],dtype=float) # x positions of particles\n",
    "yPos = np.zeros([Nx,Ny],dtype=float) # y positions of particles\n",
    "zlastPos = np.zeros([Nx,Ny],dtype=float) # zlastPos ONLY will serve to calculate the box height (z)\n",
    "\n",
    "\n",
    "# set particle positions\n",
    "for j in range(Ny):\n",
    "    x_shift = j - counter\n",
    "    for i in range(Nx):\n",
    "        xPos[i,j] = i*Vx + j*Wx\n",
    "        yPos[i,j] = i*Vy + j*Wy\n",
    "\n",
    "n=0\n",
    "for k in range(0,Nx,yinterval):\n",
    "    for l in range(0,Ny,xinterval):\n",
    "        pType[k,l] = 'O' \n",
    "        n = n+1\n",
    "for k in range(yinterval,Nx,xinterval*2):\n",
    "    for l in range(xinterval,Ny,xinterval*2):\n",
    "        if pType[k,l] != 'O':\n",
    "            pType[k,l] = 'O' \n",
    "            n = n+1\n",
    "\n",
    "print \"oxygens\",n\n",
    "print \"carbons\", Nx*Ny\n",
    "pc = n/(float(Nx)*float(Ny))\n",
    "print \"pc= \", int(pc*100)\n",
    "\n",
    "# move last atoms of every row (except lowest) to the left to get a rectangular shape\n",
    "for j in range(Ny):\n",
    "    for i in range(Nx):\n",
    "        if xPos[i,j]>xPos[-1,1]:\n",
    "           xPos[i,j] = xPos[(i-Nx+1),j-2]\n",
    "        \n",
    "\n",
    "################################## PLOT GRID  ######################################\n",
    "SizeOfDots = 8\n",
    "fig, ax = plt.subplots()\n",
    "for i in range(Nx):\n",
    "  for j in range(Ny):\n",
    "    if pType[i,j] == 'O':\n",
    "      ax.plot([xPos[i,j]],[yPos[i,j]],marker='o',markersize=SizeOfDots,color='blue')\n",
    "    else:\n",
    "      ax.plot([xPos[i,j]],[yPos[i,j]],marker='o',markersize=SizeOfDots,color='green')\n",
    "text = ', Grid '+ str(Nx)+'x'+str(Ny)    \n",
    "plt.title(\"Percentage = \" + str(int(pc*100))+text, fontsize= 14)\n",
    "plt.grid()\n",
    "plt.show()\n",
    "#fig.savefig('output_' + str(Percentage) + '_positions.pdf',format='pdf')"
   ]
  },
  {
   "cell_type": "code",
   "execution_count": 6,
   "metadata": {
    "collapsed": false
   },
   "outputs": [
    {
     "data": {
      "image/png": "[encoded data removed]",
      "text/plain": [
       "<matplotlib.figure.Figure at 0x10e523150>"
      ]
     },
     "metadata": {},
     "output_type": "display_data"
    }
   ],
   "source": [
    "counter = 0\n",
    "# set particle positions\n",
    "for j in range(Ny):\n",
    "    x_shift = j - counter\n",
    "    for i in range(Nx):\n",
    "        xPos[i,j] = i*Vx + j*Wx - x_shift*Vx\n",
    "        yPos[i,j] = i*Vy + j*Wy\n",
    "        n = n + 1\n",
    "    if (j%2):\n",
    "        counter = counter + 1\n",
    "\n",
    "################################## PLOT GRID  ######################################\n",
    "SizeOfDots = 8\n",
    "fig, ax = plt.subplots()\n",
    "for i in range(Nx):\n",
    "  for j in range(Ny):\n",
    "    if pType[i,j] == 'O':\n",
    "      ax.plot([xPos[i,j]],[yPos[i,j]],marker='o',markersize=SizeOfDots,color='blue')\n",
    "    else:\n",
    "      ax.plot([xPos[i,j]],[yPos[i,j]],marker='o',markersize=SizeOfDots,color='green')\n",
    "text = ', Grid '+ str(Nx)+'x'+str(Ny)    \n",
    "plt.title(\"Percentage = \" + str(int(pc*100))+text, fontsize= 14)\n",
    "plt.grid()\n",
    "plt.show()\n",
    "#fig.savefig('output_' + str(Percentage) + '_positions.pdf',format='pdf')"
   ]
  },
  {
   "cell_type": "code",
   "execution_count": 8,
   "metadata": {
    "collapsed": false
   },
   "outputs": [
    {
     "name": "stdout",
     "output_type": "stream",
     "text": [
      "/Users/burbol2/Desktop\n"
     ]
    },
    {
     "ename": "NameError",
     "evalue": "name 'writeOH' is not defined",
     "output_type": "error",
     "traceback": [
      "\u001b[0;31m---------------------------------------------------------------------------\u001b[0m",
      "\u001b[0;31mNameError\u001b[0m                                 Traceback (most recent call last)",
      "\u001b[0;32m<ipython-input-8-5ba596d03af7>\u001b[0m in \u001b[0;36m<module>\u001b[0;34m()\u001b[0m\n\u001b[1;32m     33\u001b[0m             \u001b[0mchainlength\u001b[0m \u001b[0;34m=\u001b[0m \u001b[0;36m63\u001b[0m\u001b[0;34m\u001b[0m\u001b[0m\n\u001b[1;32m     34\u001b[0m             \u001b[0mchaintype\u001b[0m\u001b[0;34m=\u001b[0m\u001b[0;34m'OAM'\u001b[0m\u001b[0;34m\u001b[0m\u001b[0m\n\u001b[0;32m---> 35\u001b[0;31m             \u001b[0mxnew\u001b[0m\u001b[0;34m,\u001b[0m\u001b[0mynew\u001b[0m\u001b[0;34m,\u001b[0m\u001b[0mznew\u001b[0m\u001b[0;34m,\u001b[0m\u001b[0mtotalpos\u001b[0m\u001b[0;34m,\u001b[0m\u001b[0mindexO\u001b[0m\u001b[0;34m,\u001b[0m\u001b[0mindexH\u001b[0m \u001b[0;34m=\u001b[0m \u001b[0mwriteOH\u001b[0m\u001b[0;34m(\u001b[0m\u001b[0mchaintype\u001b[0m\u001b[0;34m,\u001b[0m\u001b[0mchainNum\u001b[0m\u001b[0;34m,\u001b[0m\u001b[0mxoldC\u001b[0m\u001b[0;34m,\u001b[0m\u001b[0myoldC\u001b[0m\u001b[0;34m,\u001b[0m\u001b[0mzoldC\u001b[0m\u001b[0;34m-\u001b[0m\u001b[0mzLengthCO\u001b[0m\u001b[0;34m,\u001b[0m\u001b[0mtotalpos\u001b[0m\u001b[0;34m,\u001b[0m\u001b[0mindexO\u001b[0m\u001b[0;34m,\u001b[0m\u001b[0mindexH\u001b[0m\u001b[0;34m)\u001b[0m\u001b[0;34m\u001b[0m\u001b[0m\n\u001b[0m\u001b[1;32m     36\u001b[0m \u001b[0;34m\u001b[0m\u001b[0m\n\u001b[1;32m     37\u001b[0m         \u001b[0;32melif\u001b[0m \u001b[0matomtype\u001b[0m \u001b[0;34m==\u001b[0m \u001b[0;34m'C'\u001b[0m\u001b[0;34m:\u001b[0m    \u001b[0;31m#CARBON CHAIN parameters\u001b[0m\u001b[0;34m\u001b[0m\u001b[0m\n",
      "\u001b[0;31mNameError\u001b[0m: name 'writeOH' is not defined"
     ]
    }
   ],
   "source": [
    "# WARNING!!!! THIS CELL HAS TO RUN 2 TIMES TO GET THE CORRECT VALUES (see comment of zbox)\n",
    "\n",
    "%cd /Users/burbol2/Desktop/\n",
    "#############################################  PDB FILE WRITTING    ###################################################\n",
    "xbox = round(xPos.max()-xPos.min()+(a0*0.5),3)\n",
    "ybox = round(yPos.max()-yPos.min()+Wy,3)\n",
    "zbox = round(zPos,3)-zlastPos.min() #zlastPos doesn't get a value until the end of this cell => run 2 times!\n",
    "title = 'sam ' + str(int(pc*100)) + '% OH-coverage'\n",
    "f = open('start' + str(int(pc*100)) + '.pdb','w')\n",
    "# save the particle types and positions\n",
    "f.write('TITLE     ' + title + '\\n')\n",
    "f.write('REMARK    THIS IS A SIMULATION BOX' + '\\n')\n",
    "f.write(\"CRYST1  %3.3f  %3.3f  %3.3f  90.00  90.00  90.00 P 1           1\"%(xbox,ybox,zbox) + '\\n')\n",
    "f.write('MODEL        1' + '\\n')\n",
    "\n",
    "# We start all the counters\n",
    "chainlength = 65\n",
    "totalpos=1\n",
    "chainNum = 0\n",
    "\n",
    "# First we write the top Head Group\n",
    "for i in range(Nx):\n",
    "    for j in range(Ny):   \n",
    "        chainNum = chainNum +1\n",
    "        xoldC= round(xPos[i,j],3)\n",
    "        yoldC= round(yPos[i,j],3)\n",
    "        zoldC= zPos\n",
    "        atomtype = pType[i,j]\n",
    "        indexC = 1\n",
    "        indexO = 1        \n",
    "        indexH = 1\n",
    "        if atomtype == 'O':    #OXYGEN CHAIN\n",
    "            chainlength = 63\n",
    "            chaintype='OAM' \n",
    "            xnew,ynew,znew,totalpos,indexO,indexH = writeOH(chaintype,chainNum,xoldC,yoldC,zoldC-zLengthCO,totalpos,indexO,indexH)\n",
    "            \n",
    "        elif atomtype == 'C':    #CARBON CHAIN parameters\n",
    "        #Third H atom (H3)\n",
    "            chainlength = 65\n",
    "            chaintype='SAM'\n",
    "            xnew,ynew,znew,totalpos,indexC,indexH = writeCHTOP(chaintype,chainNum,xoldC,yoldC,zoldC-zLengthCCb,totalpos,indexC,indexH)\n",
    "            \n",
    "        #here comes the \"body\" of the chain\n",
    "        for d in range(9):\n",
    " \n",
    "            ######### CHb #######\n",
    "            xnew,ynew,znew,totalpos,indexC,indexH = writeCHb(chaintype,chainNum,xnew,ynew,znew,totalpos,indexC,indexH)\n",
    "\n",
    "            ######### CHa #######\n",
    "            xnew,ynew,znew,totalpos,indexC,indexH = writeCHa(chaintype,chainNum,xnew,ynew,znew,totalpos,indexC,indexH)\n",
    "\n",
    "        # At the end of each chain we also write a last CH2 + the Head Group (BOTTOM)\n",
    "        ######### CHb #######\n",
    "        xnew,ynew,znew,totalpos,indexC,indexH = writeCHb(chaintype,chainNum,xnew,ynew,znew,totalpos,indexC,indexH)\n",
    "        \n",
    "        ######### CHBottom #######\n",
    "        xnew,ynew,znew,totalpos,indexC,indexH = writeCHBOTTOM(chaintype,chainNum,xnew,ynew,znew,totalpos,indexC,indexH)\n",
    "\n"
   ]
  },
  {
   "cell_type": "code",
   "execution_count": null,
   "metadata": {
    "collapsed": true
   },
   "outputs": [],
   "source": []
  }
 ],
 "metadata": {
  "kernelspec": {
   "display_name": "Python 2",
   "language": "python",
   "name": "python2"
  },
  "language_info": {
   "codemirror_mode": {
    "name": "ipython",
    "version": 2
   },
   "file_extension": ".py",
   "mimetype": "text/x-python",
   "name": "python",
   "nbconvert_exporter": "python",
   "pygments_lexer": "ipython2",
   "version": "2.7.6"
  }
 },
 "nbformat": 4,
 "nbformat_minor": 0
}
