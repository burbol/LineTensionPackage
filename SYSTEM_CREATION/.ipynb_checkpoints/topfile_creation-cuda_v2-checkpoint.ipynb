{
 "cells": [
  {
   "cell_type": "code",
   "execution_count": 5,
   "metadata": {
    "collapsed": false
   },
   "outputs": [],
   "source": [
    "import os"
   ]
  },
  {
   "cell_type": "code",
   "execution_count": 6,
   "metadata": {
    "collapsed": false
   },
   "outputs": [],
   "source": [
    "first_text = '; Include forcefield parameters'+ '\\n' \\\n",
    "'#include \"gromos53a6.ff/forcefield.itp\"'+ '\\n' + '\\n' \\\n",
    "'; Include atomtype parameters (old T1.itp)'+ '\\n' \\\n",
    "'#include \"repelOH.itp\"'+ '\\n' + '\\n' \\\n",
    "'; Include molecule parameters'+ '\\n' \\\n",
    "'#include \"c10-oh.itp\"'+ '\\n' \\\n",
    "'#include \"c10-ch3.itp\"'+ '\\n' + '\\n' \\\n",
    "'; Include water topology'+ '\\n' \\\n",
    "'#include \"gromos53a6.ff/spce.itp\"'+ '\\n' + '\\n' \\\n",
    "'; Position restraint for each water oxygen'+ '\\n' \\\n",
    "'#ifdef POSRES_WATER'+ '\\n' \\\n",
    "'[ position_restraints ]'+ '\\n' \\\n",
    "';  i funct       fcx        fcy        fcz'+ '\\n' \\\n",
    "'   1    1       1000       1000       1000'+ '\\n' \\\n",
    "'#endif'+ '\\n' + '\\n' \\\n",
    "'[ system ]'+ '\\n' \\\n",
    "'Decanol SAM in water'+ '\\n' + '\\n' \\\n",
    "'[molecules]'+ '\\n' "
   ]
  },
  {
   "cell_type": "code",
   "execution_count": 7,
   "metadata": {
    "collapsed": false
   },
   "outputs": [
    {
     "name": "stdout",
     "output_type": "stream",
     "text": [
      "; Include forcefield parameters\n",
      "#include \"gromos53a6.ff/forcefield.itp\"\n",
      "\n",
      "; Include atomtype parameters (old T1.itp)\n",
      "#include \"repelOH.itp\"\n",
      "\n",
      "; Include molecule parameters\n",
      "#include \"c10-oh.itp\"\n",
      "#include \"c10-ch3.itp\"\n",
      "\n",
      "; Include water topology\n",
      "#include \"gromos53a6.ff/spce.itp\"\n",
      "\n",
      "; Position restraint for each water oxygen\n",
      "#ifdef POSRES_WATER\n",
      "[ position_restraints ]\n",
      ";  i funct       fcx        fcy        fcz\n",
      "   1    1       1000       1000       1000\n",
      "#endif\n",
      "\n",
      "[ system ]\n",
      "Decanol SAM in water\n",
      "\n",
      "[molecules]\n",
      "\n"
     ]
    }
   ],
   "source": [
    "print first_text"
   ]
  },
  {
   "cell_type": "code",
   "execution_count": 11,
   "metadata": {
    "collapsed": false
   },
   "outputs": [
    {
     "name": "stdout",
     "output_type": "stream",
     "text": [
      "totalSAM= 1152 totalXOH= 144 totalSOL= 5011\n",
      "lastcount: 1152 144 5011\n",
      "just created  11pc_5000.top\n"
     ]
    }
   ],
   "source": [
    "# New version using variable first_text (instead of copying from benchfile)\n",
    "#### copy bench top file to the working folder!!! ####\n",
    "\n",
    "#path to .gro files \n",
    "samsfolder = \"/Users/burbol/GitHub/LineTensionPackage/SYSTEM_CREATION/gromacs_files/DropsGroTop/NewVersion_v2/\"\n",
    "\n",
    "# All systems\n",
    "#pc = [0,11,22,33, 37, 44, 50]\n",
    "#molec = [1000, 2000, 3000, 4000, 5000, 6500, 7000, 8000, 9000, 10000]\n",
    "\n",
    "# Single system for testing\n",
    "pc = [11]\n",
    "molec = [5000]\n",
    "\n",
    "\n",
    "# VERSION 1 of the new sams 21% & 25% ==> #chain length of the rest:  CH3len2= 62, OHlen2= 63\n",
    "\n",
    "newCH3itp='c10-ch3.itp'\n",
    "newOHitp='c10-oh.itp'\n",
    "\n",
    "#chain length\n",
    "CH3len= 11     #length of chain with CH3-head groups\n",
    "OHlen= 12      #length of chain with OH-head groups\n",
    "\n",
    "\n",
    "# From here everything runs automatically...\n",
    "\n",
    "for i in pc:\n",
    "    for j in molec:\n",
    "        \n",
    "        os.chdir(samsfolder)\n",
    "        \n",
    "        # create and work in a different folder for each system\n",
    "        separatedfolder='s'+str(i)+'_w'+str(j)\n",
    "        #os.mkdir(separatedfolder)\n",
    "        os.chdir(separatedfolder)\n",
    "\n",
    "        #name of .gro files (input)\n",
    "        grofile='sam'+str(i)+'_water'+str(j)+'.gro'\n",
    "\n",
    "        #name of new .top file (output)\n",
    "        newtop= str(i)+'pc_'+str(j)+'.top'\n",
    "\n",
    "        # we create the new file by openning and closing it\n",
    "        #creating = open(newtop, 'w+')\n",
    "        #creating.close()\n",
    "\n",
    "        # count number of atoms in c10-Ch3 and c10-oh chains, and number of solvent atoms\n",
    "        f = open(samsfolder + grofile)\n",
    "        totalSAM = 0\n",
    "        totalXOH = 0\n",
    "        totalSOL = 0\n",
    "        for line in f:\n",
    "            if \"SAM\" in line:\n",
    "                totalSAM += 1\n",
    "            elif \"XOH\" in line:\n",
    "                totalXOH += 1\n",
    "            elif \"SOL\" in line:\n",
    "                totalSOL += 1\n",
    "        f.close()\n",
    "\n",
    "        # determine number of chains\n",
    "        totalSAM = int(totalSAM/CH3len)\n",
    "        totalXOH = int(totalXOH/OHlen)\n",
    "\n",
    "        # determine number of solvent molecules\n",
    "        totalSOL = int(totalSOL/3)\n",
    "\n",
    "        # print out calculated numbers\n",
    "        print \"totalSAM=\",totalSAM,\"totalXOH=\",totalXOH,\"totalSOL=\",totalSOL\n",
    "\n",
    "        # create new .top file\n",
    "        with open(newtop, 'w') as f1:\n",
    "            \n",
    "            k = 0\n",
    "            m = 0\n",
    "            f1.write(first_text)\n",
    "\n",
    "            # write into new .top file\n",
    "            with open(samsfolder + grofile, 'r') as h:\n",
    "                \n",
    "                # set counters to zero\n",
    "                lastcountsam=0\n",
    "                lastcountXOH=0\n",
    "                \n",
    "                # write one line for each carbon chain\n",
    "                for line2 in h:\n",
    "                    # write one line for each chain with CH3-head group\n",
    "                    if \"SAM\" in line2:\n",
    "                        k = k + 1\n",
    "                        if k in range(1,(totalSAM*CH3len)+1,CH3len):\n",
    "                            f1.write(\"SAM\t1\\n\")\n",
    "                            lastcountsam += 1\n",
    "                    # write one line for each chain with OH-head group\n",
    "                    elif \"XOH\" in line2:\n",
    "                        m = m + 1\n",
    "                        if m in range(1,(totalXOH*OHlen)+1,OHlen):\n",
    "                            f1.write(\"XOH\t1\\n\")\n",
    "                            lastcountXOH += 1\n",
    "                \n",
    "            # write number of water molecules at the end of file\n",
    "            f1.write(\"SOL\t\"+str(totalSOL)+\"\\n\")\n",
    "\n",
    "            # check number of chains and water molecules\n",
    "            print \"lastcount:\",lastcountsam,lastcountXOH,totalSOL\n",
    "            print \"just created \", newtop\n",
    "\n",
    "        #os.system(\"/usr/local/gromacs/bin/editconf -f %s -o %s -c\" %(startsamfile, samfile ))\n",
    "        #This last line would make the .top file include ALSO T1_new.itp\n",
    "        #os.system(\"sed -i -e 's/%s/%s/g' %s\")% (\"#include \\\"T1.itp\\\"\",\"#include \\\"T1.itp\\\"\\n#include \\\"T1_new.itp\\\"\".itp,newtop, ))"
   ]
  },
  {
   "cell_type": "code",
   "execution_count": 10,
   "metadata": {
    "collapsed": false
   },
   "outputs": [
    {
     "ename": "OSError",
     "evalue": "[Errno 2] No such file or directory: '/Users/eixeres/Dropbox/GitHub/LineTensionPackage/SYSTEM_CREATION/gromacs_files/DropsGroTop/NewVersion_v2/'",
     "output_type": "error",
     "traceback": [
      "\u001b[0;31m---------------------------------------------------------------------------\u001b[0m",
      "\u001b[0;31mOSError\u001b[0m                                   Traceback (most recent call last)",
      "\u001b[0;32m<ipython-input-10-1d8c160d5152>\u001b[0m in \u001b[0;36m<module>\u001b[0;34m()\u001b[0m\n\u001b[1;32m     32\u001b[0m         \u001b[0;31m# create and work in a different folder for each system\u001b[0m\u001b[0;34m\u001b[0m\u001b[0;34m\u001b[0m\u001b[0m\n\u001b[1;32m     33\u001b[0m         \u001b[0mseparatedfolder\u001b[0m\u001b[0;34m=\u001b[0m\u001b[0;34m's'\u001b[0m\u001b[0;34m+\u001b[0m\u001b[0mstr\u001b[0m\u001b[0;34m(\u001b[0m\u001b[0mi\u001b[0m\u001b[0;34m)\u001b[0m\u001b[0;34m+\u001b[0m\u001b[0;34m'_w'\u001b[0m\u001b[0;34m+\u001b[0m\u001b[0mstr\u001b[0m\u001b[0;34m(\u001b[0m\u001b[0mj\u001b[0m\u001b[0;34m)\u001b[0m\u001b[0;34m\u001b[0m\u001b[0m\n\u001b[0;32m---> 34\u001b[0;31m         \u001b[0mos\u001b[0m\u001b[0;34m.\u001b[0m\u001b[0mchdir\u001b[0m\u001b[0;34m(\u001b[0m\u001b[0msamsfolder\u001b[0m\u001b[0;34m)\u001b[0m\u001b[0;34m\u001b[0m\u001b[0m\n\u001b[0m\u001b[1;32m     35\u001b[0m         \u001b[0mos\u001b[0m\u001b[0;34m.\u001b[0m\u001b[0mchdir\u001b[0m\u001b[0;34m(\u001b[0m\u001b[0mseparatedfolder\u001b[0m\u001b[0;34m)\u001b[0m\u001b[0;34m\u001b[0m\u001b[0m\n\u001b[1;32m     36\u001b[0m \u001b[0;34m\u001b[0m\u001b[0m\n",
      "\u001b[0;31mOSError\u001b[0m: [Errno 2] No such file or directory: '/Users/eixeres/Dropbox/GitHub/LineTensionPackage/SYSTEM_CREATION/gromacs_files/DropsGroTop/NewVersion_v2/'"
     ]
    }
   ],
   "source": [
    "# Old version using benchfile\n",
    "#### copy bench top file to the working folder!!! ####\n",
    "\n",
    "#path to .gro files \n",
    "samsfolder = \"/Users/eixeres/Dropbox/GitHub/LineTensionPackage/SYSTEM_CREATION/gromacs_files/DropsGroTop/NewVersion_v2/\"\n",
    "\n",
    "#.top file with the right configuration for copying first lines (Alex & Matej's file)\n",
    "benchfile=\"/Users/eixeres/Dropbox/GitHub/LineTensionPackage/SYSTEM_CREATION/gromacs_files/state.top\"\n",
    "firstline=11 #first line not to copy (use the real line number, it will recalculated)\n",
    "\n",
    "# All systems\n",
    "#pc = [0,11,22,33, 37, 44, 50]\n",
    "#molec = [1000, 2000, 3000, 4000, 5000, 6500, 7000, 8000, 9000, 10000]\n",
    "\n",
    "# Single system for testing\n",
    "pc = [11]\n",
    "molec = [5000]\n",
    "\n",
    "newCH3itp='c10-ch3.itp'\n",
    "newOHitp='c10-oh.itp'\n",
    "\n",
    "#chain length\n",
    "CH3len= 11     #length of chain with CH3-head groups\n",
    "OHlen= 12      #length of chain with OH-head groups\n",
    "\n",
    "\n",
    "# From here everything runs automatically...\n",
    "\n",
    "for i in pc:\n",
    "    for j in molec:\n",
    "\n",
    "        # create and work in a different folder for each system\n",
    "        separatedfolder='s'+str(i)+'_w'+str(j)\n",
    "        os.chdir(samsfolder)\n",
    "        os.chdir(separatedfolder)\n",
    "\n",
    "        #name of .gro files (input)\n",
    "        grofile='sam'+str(i)+'_water'+str(j)+'.gro'\n",
    "\n",
    "        #name of new .top file (output)\n",
    "        newtop= str(i)+'pc_'+str(j)+'.top'\n",
    "\n",
    "        # we create the new file by openning and closing it\n",
    "        #creating = open(newtop, 'w+')\n",
    "        #creating.close()\n",
    "\n",
    "        # count number of atoms in c10-Ch3 and c10-oh chains, and number of solvent atoms\n",
    "        f = open(grofile)\n",
    "        totalSAM = 0\n",
    "        totalXOH = 0\n",
    "        totalSOL = 0\n",
    "        for line in f:\n",
    "            if \"SAM\" in line:\n",
    "                totalSAM += 1\n",
    "            elif \"XOH\" in line:\n",
    "                totalXOH += 1\n",
    "            elif \"SOL\" in line:\n",
    "                totalSOL += 1\n",
    "        f.close()\n",
    "\n",
    "        # determine number of chains\n",
    "        totalSAM = int(totalSAM/CH3len)\n",
    "        totalXOH = int(totalXOH/OHlen)\n",
    "\n",
    "        # determine number of solvent molecules\n",
    "        totalSOL = int(totalSOL/3)\n",
    "\n",
    "        # print out calculated numbers\n",
    "        print \"totalSAM=\",totalSAM,\"totalXOH=\",totalXOH,\"totalSOL=\",totalSOL\n",
    "\n",
    "        # create new .top file\n",
    "        with open(newtop, 'w') as f1:\n",
    "\n",
    "            # copy first lines from benchfile\n",
    "            with open(benchfile, 'r') as g:\n",
    "                l = 0\n",
    "                k = 0\n",
    "                m = 0\n",
    "                for line in g:\n",
    "                    if l < (firstline-1):\n",
    "                        f1.write(line)\n",
    "                    l = l + 1\n",
    "\n",
    "            # write into new .top file\n",
    "            with open(grofile, 'r') as h:\n",
    "                \n",
    "                # set counters to zero\n",
    "                lastcountsam=0\n",
    "                lastcountXOH=0\n",
    "                \n",
    "                # write one line for each carbon chain\n",
    "                for line2 in h:\n",
    "                    # write one line for each chain with CH3-head group\n",
    "                    if \"SAM\" in line2:\n",
    "                        k = k + 1\n",
    "                        if k in range(1,(totalSAM*CH3len)+1,CH3len):\n",
    "                            f1.write(\"SAM\t1\\n\")\n",
    "                            lastcountsam += 1\n",
    "                    # write one line for each chain with OH-head group\n",
    "                    elif \"XOH\" in line2:\n",
    "                        m = m + 1\n",
    "                        if m in range(1,(totalXOH*OHlen)+1,OHlen):\n",
    "                            f1.write(\"XOH\t1\\n\")\n",
    "                            lastcountXOH += 1\n",
    "                \n",
    "            # write number of water molecules at the end of file\n",
    "            f1.write(\"SOL\t\"+str(totalSOL)+\"\\n\")\n",
    "\n",
    "            # check number of chains and water molecules\n",
    "            print \"lastcount:\",lastcountsam,lastcountXOH,totalSOL\n",
    "            print \"just created \", newtop\n",
    "\n",
    "        #os.system(\"/usr/local/gromacs/bin/editconf -f %s -o %s -c\" %(startsamfile, samfile ))\n",
    "        #This last line would make the .top file include ALSO T1_new.itp\n",
    "        #os.system(\"sed -i -e 's/%s/%s/g' %s\")% (\"#include \\\"T1.itp\\\"\",\"#include \\\"T1.itp\\\"\\n#include \\\"T1_new.itp\\\"\".itp,newtop, ))"
   ]
  },
  {
   "cell_type": "code",
   "execution_count": 7,
   "metadata": {
    "collapsed": false
   },
   "outputs": [],
   "source": [
    "for i in pc:\n",
    "    for j in molec: \n",
    "        separatedfolder='s'+str(i)+'_w'+str(j)\n",
    "        os.chdir(samsfolder)\n",
    "        os.chdir(separatedfolder)\n",
    "        os.system(\"rm *.top-e\")"
   ]
  },
  {
   "cell_type": "code",
   "execution_count": 9,
   "metadata": {
    "collapsed": false
   },
   "outputs": [
    {
     "data": {
      "text/plain": [
       "0"
      ]
     },
     "execution_count": 9,
     "metadata": {},
     "output_type": "execute_result"
    }
   ],
   "source": [
    "os.system(\"mkdir reshapingfiles\")\n",
    "os.system(\"cp *_c.gro reshapingfiles/\")\n",
    "os.system(\"rm *_c.gro\")"
   ]
  },
  {
   "cell_type": "code",
   "execution_count": 2,
   "metadata": {
    "collapsed": false
   },
   "outputs": [
    {
     "ename": "IndentationError",
     "evalue": "expected an indented block (<ipython-input-2-a4fe8639cb32>, line 26)",
     "output_type": "error",
     "traceback": [
      "\u001b[0;36m  File \u001b[0;32m\"<ipython-input-2-a4fe8639cb32>\"\u001b[0;36m, line \u001b[0;32m26\u001b[0m\n\u001b[0;31m    elif i==33 and k in range(1,(totalSAM*CH3len)+1,CH3len):\u001b[0m\n\u001b[0m       ^\u001b[0m\n\u001b[0;31mIndentationError\u001b[0m\u001b[0;31m:\u001b[0m expected an indented block\n"
     ]
    }
   ],
   "source": [
    "######## THIS CELL IS FOR TESTING WHICH LINES ARE COUNTED AND THE ATOM NUMBERS #########\n",
    "samsfolder = \"/Users/burbol/Desktop/scripts/SAM_CREATION/SAMs/NEW/drop_placement\" #path to .gro files\n",
    "i=21\n",
    "j=216\n",
    "CH3len= 65     #length of chain with CH3-head groups\n",
    "CH3len2= 62\n",
    "OHlen= 63      #length of chain with OH-head groups\n",
    "OHlen2= 63\n",
    "\n",
    "#totalSAM = int(totalSAM)\n",
    "#totalXOH = int(totalXOH)\n",
    "#totalSAM2 = int(totalSAM)\n",
    "#totalXOH2 = int(totalXOH)\n",
    "#totalSOL = int(totalSOL)\n",
    "\n",
    "systfile='sam'+str(i)+'_water'+str(j)+'.gro' #name of .gro files\n",
    "os.chdir(samsfolder)\n",
    "f = open(systfile)\n",
    "k = 0\n",
    "l = 0\n",
    "m = 0\n",
    "for line in f:\n",
    "    if \"SAM\" in line:\n",
    "        k += 1\n",
    "        if i!=33 and k in range(1,(totalSAM*CH3len2)+1,CH3len2):\n",
    "            print line\n",
    "        elif i==33 and k in range(1,(totalSAM*CH3len)+1,CH3len):\n",
    "            print line\n",
    "    elif \"XOH\" in line:\n",
    "        l += 1\n",
    "        if i!=33 and l in range(1,(totalXOH*OHlen2)+1,OHlen2):\n",
    "            print line\n",
    "        elif i==33 and l in range(1,(totalXOH*OHlen)+1,OHlen):\n",
    "            print line\n",
    "    elif \"SOL\" in line:\n",
    "        print line\n",
    "        m += 1  \n",
    "    \n",
    "f.close()\n",
    "\n",
    "#k = (k)/CH3len\n",
    "#l = l/OHlen\n",
    "#k2 = (k)/CH3len2\n",
    "#l2 = l/OHlen2\n",
    "m = m/3\n",
    "print \"last molec count:\",totalSAM,totalXOH,totalSOL\n",
    "print \"new count:\", k,l,m"
   ]
  },
  {
   "cell_type": "code",
   "execution_count": null,
   "metadata": {
    "collapsed": false
   },
   "outputs": [],
   "source": [
    " "
   ]
  }
 ],
 "metadata": {
  "kernelspec": {
   "display_name": "Python 2",
   "language": "python",
   "name": "python2"
  },
  "language_info": {
   "codemirror_mode": {
    "name": "ipython",
    "version": 2
   },
   "file_extension": ".py",
   "mimetype": "text/x-python",
   "name": "python",
   "nbconvert_exporter": "python",
   "pygments_lexer": "ipython2",
   "version": "2.7.11"
  }
 },
 "nbformat": 4,
 "nbformat_minor": 0
}
