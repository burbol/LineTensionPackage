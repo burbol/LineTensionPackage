{
 "cells": [
  {
   "cell_type": "code",
   "execution_count": 1,
   "metadata": {
    "collapsed": false
   },
   "outputs": [
    {
     "name": "stdout",
     "output_type": "stream",
     "text": [
      "Populating the interactive namespace from numpy and matplotlib\n"
     ]
    }
   ],
   "source": [
    "# Testing configuration of upper interface of SAMs with different OH- headgroups percentages\n",
    "# (polarities). The surface is configured as a grid of atoms (C and O)\n",
    "import numpy as np\n",
    "import math\n",
    "import matplotlib.pyplot as plt\n",
    "import sys\n",
    "\n",
    "%pylab inline"
   ]
  },
  {
   "cell_type": "code",
   "execution_count": 2,
   "metadata": {
    "collapsed": false
   },
   "outputs": [],
   "source": [
    "########################### SET PARAMETERS FOR THE SIZE ###############################\n",
    "xcopies = 1\n",
    "ycopies = 1\n",
    "\n",
    "Nx = 10 # number of gridpoints in x-direction (carbons)\n",
    "Ny = 10 # number of gridpoints in y-direction (carbons)\n",
    "\n",
    "Nx = Nx*xcopies # number of gridpoints in x-direction (carbons)\n",
    "Ny = Ny*ycopies # number of gridpoints in y-direction (carbons)\n",
    "\n",
    "a0 = 5.0 #"
   ]
  },
  {
   "cell_type": "code",
   "execution_count": 3,
   "metadata": {
    "collapsed": true
   },
   "outputs": [],
   "source": [
    "########################### FUNCTION SET ALL PARTICLE TYPES TO 'C' ###############################\n",
    "\n",
    "def C_restart(Nx,Ny):\n",
    "    pType = np.zeros([Nx,Ny],dtype=str) # particle type\n",
    "\n",
    "    # set standard particle type as Carbon\n",
    "    for i in range(Nx):\n",
    "        for j in range(Ny):\n",
    "            pType[i,j] = 'C'\n",
    "    return pType"
   ]
  },
  {
   "cell_type": "code",
   "execution_count": 4,
   "metadata": {
    "collapsed": false
   },
   "outputs": [],
   "source": [
    "########################### FUNCTION TO CREATE GRID ###########################\n",
    "def creategrid(a0):\n",
    "    # set particle x- and y- coordinates\n",
    "    # !!!! later move to create_top_surface.ipynb !!!\n",
    "\n",
    "\n",
    "    # First basis vector V = (Vx,Vy)\n",
    "    Vx = a0\n",
    "    Vy = 0\n",
    "    # Second basis vector W = (Wx,Wy) \n",
    "    Wx = a0*np.sin(np.pi/6)\n",
    "    Wy = a0*np.cos(np.pi/6)\n",
    "\n",
    "    # create arrays that hold particle positions\n",
    "    xPos = np.zeros([Nx,Ny],dtype=float) # x positions of particles\n",
    "    yPos = np.zeros([Nx,Ny],dtype=float) # y positions of particles\n",
    "    zlastPos = np.zeros([Nx,Ny],dtype=float) # zlastPos ONLY will serve to calculate the box height (z)\n",
    "    \n",
    "    ########################### TYPE 1 OF GRID #############################################\n",
    "\n",
    "    for j in range(Ny):\n",
    "        for i in range(Nx):\n",
    "            xPos[i,j] = i*Vx + j*Wx\n",
    "            yPos[i,j] = i*Vy + j*Wy \n",
    "            \n",
    "    for j in range(1,Ny):\n",
    "        for i in range(Nx):  # Here we move the last particles of almost each line to get a more rectangular surface shape\n",
    "            if xPos[i,j]>xPos[-1,1]:\n",
    "                xPos[i,j] = xPos[i-Nx+1,j-2]\n",
    "\n",
    "    return xPos, yPos, zlastPos"
   ]
  },
  {
   "cell_type": "code",
   "execution_count": 5,
   "metadata": {
    "collapsed": false
   },
   "outputs": [],
   "source": [
    "################################## FUNCTION TO PLOT GRID  ######################################\n",
    "def plotgrid(pType, a0):\n",
    "    \n",
    "    xPos, yPos, zlastPos = creategrid(a0)\n",
    "    \n",
    "    SizeOfDots = 8\n",
    "    fig, ax = plt.subplots()\n",
    "    for i in range(Nx):\n",
    "        for j in range(Ny):\n",
    "            if pType[i,j] == 'O':\n",
    "                ax.plot([xPos[i,j]],[yPos[i,j]],marker='o',markersize=SizeOfDots,color='blue')\n",
    "            else:\n",
    "                ax.plot([xPos[i,j]],[yPos[i,j]],marker='o',markersize=SizeOfDots,color='green')\n",
    "    text = '%, Grid '+ str(Nx)+'x'+str(Ny)    \n",
    "    pc = float(n_oxys)/float(Nx*Ny)\n",
    "    plt.title(\"Percentage = \" + str(int(pc*100))+text, fontsize= 14)\n",
    "    plt.grid()\n",
    "    plt.show()\n",
    "    #fig.savefig('output_' + str(Percentage) + '_positions.pdf',format='pdf')"
   ]
  },
  {
   "cell_type": "code",
   "execution_count": 6,
   "metadata": {
    "collapsed": false
   },
   "outputs": [],
   "source": [
    "################################## FUNCTION TO PLOT HEAT MAP  ######################################\n",
    "def plotheat(pType):\n",
    "    # HEATMAP\n",
    "    #   create array with 0s where there is O\n",
    "    #   and ones where there is C:\n",
    "    Z = np.zeros([Nx,Ny],dtype=int)\n",
    "    for i in range(Nx):\n",
    "        for j in range(Ny):\n",
    "            if pType[i,j] == 'C':\n",
    "                Z[i,j] = 1\n",
    "    \n",
    "    # plot the heatmap\n",
    "    fig, ax = plt.subplots()\n",
    "    ax.imshow(Z, cmap=plt.cm.winter, interpolation='nearest')\n",
    "    #fig.savefig('output_' + str(Percentage) + '_heatmap.pdf',format='pdf')"
   ]
  },
  {
   "cell_type": "code",
   "execution_count": 7,
   "metadata": {
    "collapsed": true
   },
   "outputs": [],
   "source": [
    "########################### EXCHANGE CARBONS WITH OXYGENS #############################"
   ]
  },
  {
   "cell_type": "code",
   "execution_count": 10,
   "metadata": {
    "collapsed": false
   },
   "outputs": [],
   "source": [
    "########################### TYPE 1 OF LOOP #############################################\n",
    "\n",
    "pc = 8 # Good!\n",
    "xinterval = 3\n",
    "yinterval = 3\n",
    "\n",
    "pc = 21\n",
    "xinterval = 2\n",
    "yinterval = 1\n",
    "    \n",
    "pc=  13\n",
    "xinterval = 2\n",
    "yinterval = 2\n",
    "\n",
    "pc = 35 #(not evenly distributed)\n",
    "xinterval = 1\n",
    "yinterval = 2\n",
    "\n",
    "pc = 14 #(not evenly distributed)\n",
    "xinterval = 3\n",
    "yinterval = 1\n",
    "\n",
    "pc = 50\n",
    "xinterval = 1\n",
    "yinterval = 1\n",
    "\n",
    "pc = 10 #(not evenly distributed)\n",
    "xinterval = 3\n",
    "yinterval = 2\n",
    "\n",
    "pType = C_restart(Nx,Ny)\n",
    "n_oxys = 0\n",
    "for k in range(0,Nx,yinterval*2):\n",
    "    for l in range(0,Ny,xinterval*2):\n",
    "        pType[k,l] = 'O' \n",
    "        n_oxys = n_oxys + 1\n",
    "for k in range(yinterval,Nx,xinterval*2):\n",
    "    for l in range(xinterval,Ny,xinterval*2):\n",
    "        pType[k,l] = 'O' \n",
    "        n_oxys = n_oxys + 1"
   ]
  },
  {
   "cell_type": "code",
   "execution_count": 11,
   "metadata": {
    "collapsed": false
   },
   "outputs": [
    {
     "data": {
      "image/png": "[encoded data removed]",
      "text/plain": [
       "<matplotlib.figure.Figure at 0x10e6c5550>"
      ]
     },
     "metadata": {},
     "output_type": "display_data"
    },
    {
     "data": {
      "image/png": "[encoded data removed]",
      "text/plain": [
       "<matplotlib.figure.Figure at 0x10e6c5490>"
      ]
     },
     "metadata": {},
     "output_type": "display_data"
    }
   ],
   "source": [
    "plotgrid(pType, a0)\n",
    "plotheat(pType)"
   ]
  },
  {
   "cell_type": "code",
   "execution_count": 98,
   "metadata": {
    "collapsed": true
   },
   "outputs": [],
   "source": [
    "########################### TYPE 2 OF LOOP #############################################\n",
    "        \n",
    "pc = 12 #(not evenly distributed)\n",
    "xinterval = 4\n",
    "yinterval = 4\n",
    "\n",
    "pc = 15 #(not evenly distributed)\n",
    "xinterval = 3\n",
    "yinterval = 4\n",
    "\n",
    "pc = 25 #(not evenly distributed)\n",
    "xinterval = 3\n",
    "yinterval = 2\n",
    "\n",
    "pc = 20 #Good!\n",
    "xinterval = 3\n",
    "yinterval = 3\n",
    "\n",
    "pType = C_restart(Nx,Ny)\n",
    "n_oxys = 0\n",
    "for l in range(0,Ny,yinterval):\n",
    "    for k in range(0,Nx,xinterval-1):\n",
    "        pType[k,l] = 'O' \n",
    "        n_oxys = n_oxys + 1"
   ]
  },
  {
   "cell_type": "code",
   "execution_count": 99,
   "metadata": {
    "collapsed": false
   },
   "outputs": [
    {
     "data": {
      "image/png": "[encoded data removed]",
      "text/plain": [
       "<matplotlib.figure.Figure at 0x10eae3b90>"
      ]
     },
     "metadata": {},
     "output_type": "display_data"
    },
    {
     "data": {
      "image/png": "[encoded data removed]",
      "text/plain": [
       "<matplotlib.figure.Figure at 0x10e697710>"
      ]
     },
     "metadata": {},
     "output_type": "display_data"
    }
   ],
   "source": [
    "plotgrid(pType, a0)\n",
    "plotheat(pType)"
   ]
  },
  {
   "cell_type": "code",
   "execution_count": 100,
   "metadata": {
    "collapsed": true
   },
   "outputs": [],
   "source": [
    "########################### TYPE 3 OF LOOP (NEW) #######################################\n",
    "\n",
    "pc = 20 # Good!\n",
    "xinterval = 2\n",
    "yinterval = 2\n",
    "\n",
    "pc = 15 # not evenly distributed\n",
    "xinterval = 4\n",
    "yinterval = 2\n",
    "\n",
    "pc = 16 # not evenly distributed\n",
    "xinterval = 3\n",
    "yinterval = 3\n",
    "\n",
    "pc = 20 # not evenly distributed\n",
    "xinterval = 3\n",
    "yinterval = 2\n",
    "\n",
    "pc = 30 # not evenly distributed\n",
    "xinterval = 4\n",
    "yinterval = 1\n",
    "\n",
    "pc = 40 # not evenly distributed\n",
    "xinterval = 3\n",
    "yinterval = 1\n",
    "\n",
    "pc = 20 #Good!\n",
    "xinterval = 2\n",
    "yinterval = 3\n",
    "\n",
    "# exchange Carbons with oxygens\n",
    "pType = C_restart(Nx,Ny)\n",
    "n_oxys =0\n",
    "for l in range(0,Ny,yinterval):\n",
    "    for k in range(0,Nx,xinterval):\n",
    "        pType[k,l] = 'O' \n",
    "        n_oxys = n_oxys +1"
   ]
  },
  {
   "cell_type": "code",
   "execution_count": 101,
   "metadata": {
    "collapsed": false
   },
   "outputs": [
    {
     "data": {
      "image/png": "[encoded data removed]",
      "text/plain": [
       "<matplotlib.figure.Figure at 0x10d75ddd0>"
      ]
     },
     "metadata": {},
     "output_type": "display_data"
    },
    {
     "data": {
      "image/png": "[encoded data removed]",
      "text/plain": [
       "<matplotlib.figure.Figure at 0x10f21d5d0>"
      ]
     },
     "metadata": {},
     "output_type": "display_data"
    }
   ],
   "source": [
    "plotgrid(pType, a0)\n",
    "plotheat(pType)"
   ]
  },
  {
   "cell_type": "code",
   "execution_count": 105,
   "metadata": {
    "collapsed": false
   },
   "outputs": [
    {
     "ename": "NameError",
     "evalue": "name 'Vx' is not defined",
     "output_type": "error",
     "traceback": [
      "\u001b[0;31m---------------------------------------------------------------------------\u001b[0m",
      "\u001b[0;31mNameError\u001b[0m                                 Traceback (most recent call last)",
      "\u001b[0;32m<ipython-input-105-56cbd8e705b1>\u001b[0m in \u001b[0;36m<module>\u001b[0;34m()\u001b[0m\n\u001b[1;32m      6\u001b[0m     \u001b[0mx_shift\u001b[0m \u001b[0;34m=\u001b[0m \u001b[0mj\u001b[0m \u001b[0;34m-\u001b[0m \u001b[0mcounter\u001b[0m\u001b[0;34m\u001b[0m\u001b[0m\n\u001b[1;32m      7\u001b[0m     \u001b[0;32mfor\u001b[0m \u001b[0mi\u001b[0m \u001b[0;32min\u001b[0m \u001b[0mrange\u001b[0m\u001b[0;34m(\u001b[0m\u001b[0mNx\u001b[0m\u001b[0;34m)\u001b[0m\u001b[0;34m:\u001b[0m\u001b[0;34m\u001b[0m\u001b[0m\n\u001b[0;32m----> 8\u001b[0;31m         \u001b[0mxPos\u001b[0m\u001b[0;34m[\u001b[0m\u001b[0mi\u001b[0m\u001b[0;34m,\u001b[0m\u001b[0mj\u001b[0m\u001b[0;34m]\u001b[0m \u001b[0;34m=\u001b[0m \u001b[0;34m(\u001b[0m\u001b[0mi\u001b[0m\u001b[0;34m-\u001b[0m \u001b[0mx_shift\u001b[0m\u001b[0;34m)\u001b[0m\u001b[0;34m*\u001b[0m\u001b[0mVx\u001b[0m \u001b[0;34m+\u001b[0m \u001b[0mj\u001b[0m\u001b[0;34m*\u001b[0m\u001b[0mWx\u001b[0m\u001b[0;34m\u001b[0m\u001b[0m\n\u001b[0m\u001b[1;32m      9\u001b[0m         \u001b[0myPos\u001b[0m\u001b[0;34m[\u001b[0m\u001b[0mi\u001b[0m\u001b[0;34m,\u001b[0m\u001b[0mj\u001b[0m\u001b[0;34m]\u001b[0m \u001b[0;34m=\u001b[0m \u001b[0mi\u001b[0m\u001b[0;34m*\u001b[0m\u001b[0mVy\u001b[0m \u001b[0;34m+\u001b[0m \u001b[0mj\u001b[0m\u001b[0;34m*\u001b[0m\u001b[0mWy\u001b[0m\u001b[0;34m\u001b[0m\u001b[0m\n\u001b[1;32m     10\u001b[0m     \u001b[0;32mif\u001b[0m \u001b[0;34m(\u001b[0m\u001b[0mj\u001b[0m\u001b[0;34m%\u001b[0m\u001b[0;36m2\u001b[0m\u001b[0;34m)\u001b[0m\u001b[0;34m:\u001b[0m\u001b[0;34m\u001b[0m\u001b[0m\n",
      "\u001b[0;31mNameError\u001b[0m: name 'Vx' is not defined"
     ]
    }
   ],
   "source": [
    "########################### TYPE 2 OF GRID (to include in function creategrid) ################################\n",
    "\n",
    "# set particle x- and y- coordinates\n",
    "counter = 0\n",
    "for j in range(Ny):\n",
    "    x_shift = j - counter\n",
    "    for i in range(Nx):\n",
    "        xPos[i,j] = (i- x_shift)*Vx + j*Wx\n",
    "        yPos[i,j] = i*Vy + j*Wy\n",
    "    if (j%2):\n",
    "        counter = counter + 1"
   ]
  },
  {
   "cell_type": "code",
   "execution_count": 106,
   "metadata": {
    "collapsed": false
   },
   "outputs": [
    {
     "name": "stdout",
     "output_type": "stream",
     "text": [
      "20 100\n",
      "20\n",
      "0.2\n"
     ]
    }
   ],
   "source": [
    "print Nx*Ny\n",
    "print n_oxys\n",
    "pc = float(n_oxys)/float(Nx*Ny)\n",
    "print pc "
   ]
  },
  {
   "cell_type": "code",
   "execution_count": null,
   "metadata": {
    "collapsed": true
   },
   "outputs": [],
   "source": []
  }
 ],
 "metadata": {
  "kernelspec": {
   "display_name": "Python 2",
   "language": "python",
   "name": "python2"
  },
  "language_info": {
   "codemirror_mode": {
    "name": "ipython",
    "version": 2
   },
   "file_extension": ".py",
   "mimetype": "text/x-python",
   "name": "python",
   "nbconvert_exporter": "python",
   "pygments_lexer": "ipython2",
   "version": "2.7.6"
  }
 },
 "nbformat": 4,
 "nbformat_minor": 0
}
