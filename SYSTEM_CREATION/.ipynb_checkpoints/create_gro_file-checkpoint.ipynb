{
 "cells": [
  {
   "cell_type": "code",
   "execution_count": 2,
   "metadata": {
    "collapsed": true
   },
   "outputs": [],
   "source": [
    "# CREATE GROMACS version 5 .gro FILE of SAM CONSITING OF \n",
    "# CARBON CHAINS WITH  CH3- AND OH- HEAD GROUPS\n",
    "# C1 AND O1 AT THE SAME z-LEVEL\n",
    "# CH2 and CH3 TREATED AS SINGLE MOLECULES (GROUP COORDINATES)"
   ]
  },
  {
   "cell_type": "code",
   "execution_count": 1,
   "metadata": {
    "collapsed": false
   },
   "outputs": [
    {
     "name": "stdout",
     "output_type": "stream",
     "text": [
      "Populating the interactive namespace from numpy and matplotlib\n"
     ]
    }
   ],
   "source": [
    "%pylab inline"
   ]
  },
  {
   "cell_type": "code",
   "execution_count": 2,
   "metadata": {
    "collapsed": true
   },
   "outputs": [],
   "source": [
    "#!/usr/bin/env python\n",
    "\n",
    "import numpy as np\n",
    "import math\n",
    "import matplotlib.pyplot as plt\n",
    "import sys"
   ]
  },
  {
   "cell_type": "code",
   "execution_count": 87,
   "metadata": {
    "collapsed": true
   },
   "outputs": [],
   "source": [
    "xcopies = 1\n",
    "ycopies = 1\n",
    "\n",
    "Nx = 10 # number of gridpoints in x-direction (carbons)\n",
    "Ny = 10 # number of gridpoints in y-direction (carbons)\n",
    "\n",
    "Nx = Nx*xcopies # number of gridpoints in x-direction (carbons)\n",
    "Ny = Ny*ycopies # number of gridpoints in y-direction (carbons)\n",
    "\n",
    "a0 = 5.0\n",
    "zPos = 21.680\n",
    "\n",
    "xinterval = 2\n",
    "yinterval = 2"
   ]
  },
  {
   "cell_type": "code",
   "execution_count": 91,
   "metadata": {
    "collapsed": false
   },
   "outputs": [
    {
     "name": "stdout",
     "output_type": "stream",
     "text": [
      "oxygens 25\n",
      "carbons 100\n",
      "pc=  25\n"
     ]
    },
    {
     "data": {
      "image/png": "[encoded data removed]",
      "text/plain": [
       "<matplotlib.figure.Figure at 0x10ea18d50>"
      ]
     },
     "metadata": {},
     "output_type": "display_data"
    }
   ],
   "source": [
    "pType = np.zeros([Nx,Ny],dtype=str) # particle type\n",
    "\n",
    "# set standard particle type as Carbon\n",
    "for i in range(Nx):\n",
    "  for j in range(Ny):\n",
    "    pType[i,j] = 'C' \n",
    "\n",
    "# exchange Carbons with oxygens\n",
    "n = 0\n",
    "for l in range(0,Ny,yinterval):\n",
    "    for k in range(0,Nx,xinterval):\n",
    "        pType[k,l] = 'O' \n",
    "        n = n+1\n",
    "        \n",
    "print \"oxygens\",n\n",
    "print \"carbons\", Nx*Ny\n",
    "pc = n/(float(Nx)*float(Ny))\n",
    "print \"pc= \", int(pc*100)\n",
    "\n",
    "\n",
    "################################## PLOT HEAT MAP  ######################################\n",
    "#   create array with 0s where there is O and ones where there is C:\n",
    "Z = np.zeros([Nx,Ny],dtype=int)\n",
    "for i in range(Nx):\n",
    "  for j in range(Ny):\n",
    "    if pType[i,j] == 'C':\n",
    "      Z[i,j] = 1\n",
    "      \n",
    "#    PLOT as heatmap\n",
    "fig, ax = plt.subplots()\n",
    "ax.imshow(Z, cmap=plt.cm.winter, interpolation='nearest')\n",
    "ax.grid()\n",
    "plt.show()\n",
    "#fig.savefig('output_' + str(Percentage) + '_heatmap.pdf',format='pdf')"
   ]
  },
  {
   "cell_type": "code",
   "execution_count": 96,
   "metadata": {
    "collapsed": false
   },
   "outputs": [
    {
     "name": "stdout",
     "output_type": "stream",
     "text": [
      "oxygens 25\n",
      "carbons 100\n",
      "pc=  25\n"
     ]
    },
    {
     "data": {
      "image/png": "[encoded data removed]",
      "text/plain": [
       "<matplotlib.figure.Figure at 0x10f1a1d90>"
      ]
     },
     "metadata": {},
     "output_type": "display_data"
    }
   ],
   "source": [
    "#V = (Vx,Vy) first basis vector \n",
    "Vx = a0\n",
    "Vy = 0\n",
    "# W = (Wx,Wy) second basis vector \n",
    "Wx = a0*np.sin(np.pi/6)\n",
    "Wy = a0*np.cos(np.pi/6)\n",
    "\n",
    "# create arrays that hold particle positions\n",
    "xPos = np.zeros([Nx,Ny],dtype=float) # x positions of particles\n",
    "yPos = np.zeros([Nx,Ny],dtype=float) # y positions of particles\n",
    "zlastPos = np.zeros([Nx,Ny],dtype=float) # zlastPos ONLY will serve to calculate the box height (z)\n",
    "\n",
    "\n",
    "# set particle positions\n",
    "for j in range(Ny):\n",
    "    x_shift = j - counter\n",
    "    for i in range(Nx):\n",
    "        xPos[i,j] = i*Vx + j*Wx\n",
    "        yPos[i,j] = i*Vy + j*Wy\n",
    "\n",
    "n=0\n",
    "for k in range(0,Nx,yinterval):\n",
    "    for l in range(0,Ny,xinterval):\n",
    "        pType[k,l] = 'O' \n",
    "        n = n+1\n",
    "for k in range(yinterval,Nx,xinterval*2):\n",
    "    for l in range(xinterval,Ny,xinterval*2):\n",
    "        if pType[k,l] != 'O':\n",
    "            pType[k,l] = 'O' \n",
    "            n = n+1\n",
    "\n",
    "print \"oxygens\",n\n",
    "print \"carbons\", Nx*Ny\n",
    "pc = n/(float(Nx)*float(Ny))\n",
    "print \"pc= \", int(pc*100)\n",
    "\n",
    "# move last atoms of every row (except lowest) to the left to get a rectangular shape\n",
    "for j in range(Ny):\n",
    "    for i in range(Nx):\n",
    "        if xPos[i,j]>xPos[-1,1]:\n",
    "           xPos[i,j] = xPos[(i-Nx+1),j-2]\n",
    "        \n",
    "\n",
    "################################## PLOT GRID  ######################################\n",
    "SizeOfDots = 8\n",
    "fig, ax = plt.subplots()\n",
    "for i in range(Nx):\n",
    "  for j in range(Ny):\n",
    "    if pType[i,j] == 'O':\n",
    "      ax.plot([xPos[i,j]],[yPos[i,j]],marker='o',markersize=SizeOfDots,color='blue')\n",
    "    else:\n",
    "      ax.plot([xPos[i,j]],[yPos[i,j]],marker='o',markersize=SizeOfDots,color='green')\n",
    "text = ', Grid '+ str(Nx)+'x'+str(Ny)    \n",
    "plt.title(\"Percentage = \" + str(int(pc*100))+text, fontsize= 14)\n",
    "plt.grid()\n",
    "plt.show()\n",
    "#fig.savefig('output_' + str(Percentage) + '_positions.pdf',format='pdf')"
   ]
  },
  {
   "cell_type": "code",
   "execution_count": 99,
   "metadata": {
    "collapsed": false
   },
   "outputs": [
    {
     "name": "stdout",
     "output_type": "stream",
     "text": [
      "oxygens 100\n",
      "carbons 100\n",
      "pc=  100\n"
     ]
    },
    {
     "data": {
      "image/png": "[encoded data removed]",
      "text/plain": [
       "<matplotlib.figure.Figure at 0x10fbb5610>"
      ]
     },
     "metadata": {},
     "output_type": "display_data"
    }
   ],
   "source": [
    "counter = 0\n",
    "# set particle positions\n",
    "for j in range(Ny):\n",
    "    x_shift = j - counter\n",
    "    for i in range(Nx):\n",
    "        xPos[i,j] = i*Vx + j*Wx - x_shift*Vx\n",
    "        yPos[i,j] = i*Vy + j*Wy\n",
    "        n = n + 1\n",
    "    if (j%2):\n",
    "        counter = counter + 1\n",
    "\n",
    "################################## PLOT GRID  ######################################\n",
    "SizeOfDots = 8\n",
    "fig, ax = plt.subplots()\n",
    "for i in range(Nx):\n",
    "  for j in range(Ny):\n",
    "    if pType[i,j] == 'O':\n",
    "      ax.plot([xPos[i,j]],[yPos[i,j]],marker='o',markersize=SizeOfDots,color='blue')\n",
    "    else:\n",
    "      ax.plot([xPos[i,j]],[yPos[i,j]],marker='o',markersize=SizeOfDots,color='green')\n",
    "text = ', Grid '+ str(Nx)+'x'+str(Ny)    \n",
    "plt.title(\"Percentage = \" + str(int(pc*100))+text, fontsize= 14)\n",
    "plt.grid()\n",
    "plt.show()\n",
    "#fig.savefig('output_' + str(Percentage) + '_positions.pdf',format='pdf')"
   ]
  },
  {
   "cell_type": "code",
   "execution_count": null,
   "metadata": {
    "collapsed": true
   },
   "outputs": [],
   "source": []
  }
 ],
 "metadata": {
  "kernelspec": {
   "display_name": "Python 2",
   "language": "python",
   "name": "python2"
  },
  "language_info": {
   "codemirror_mode": {
    "name": "ipython",
    "version": 2
   },
   "file_extension": ".py",
   "mimetype": "text/x-python",
   "name": "python",
   "nbconvert_exporter": "python",
   "pygments_lexer": "ipython2",
   "version": "2.7.6"
  }
 },
 "nbformat": 4,
 "nbformat_minor": 0
}
