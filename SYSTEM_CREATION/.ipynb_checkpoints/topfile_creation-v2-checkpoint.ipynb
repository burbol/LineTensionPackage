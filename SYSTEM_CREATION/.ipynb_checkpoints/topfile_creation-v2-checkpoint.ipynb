{
 "cells": [
  {
   "cell_type": "code",
   "execution_count": null,
   "metadata": {
    "collapsed": true
   },
   "outputs": [],
   "source": [
    "# For ptensor uncomment marked lines (!!!)"
   ]
  },
  {
   "cell_type": "code",
   "execution_count": 2,
   "metadata": {
    "collapsed": false
   },
   "outputs": [],
   "source": [
    "import os\n",
    "import shutil"
   ]
  },
  {
   "cell_type": "code",
   "execution_count": 3,
   "metadata": {
    "collapsed": false
   },
   "outputs": [],
   "source": [
    "first_text = '; Include forcefield parameters'+ '\\n' \\\n",
    "'#include \"gromos53a6.ff/forcefield.itp\"'+ '\\n' + '\\n' \\\n",
    "'; Set non-bonded interactions to zero'+ '\\n' \\\n",
    "'#include \"pairtypes.itp\"'+ '\\n' + '\\n' \\\n",
    "'; Include molecule parameters'+ '\\n' \\\n",
    "'#include \"c10-oh.itp\"'+ '\\n' \\\n",
    "'#include \"c10-ch3.itp\"'+ '\\n' + '\\n' \\\n",
    "'; Include water topology'+ '\\n' \\\n",
    "'#include \"gromos53a6.ff/spce.itp\"'+ '\\n' + '\\n' \\\n",
    "'[ system ]'+ '\\n' \\"
   ]
  },
  {
   "cell_type": "code",
   "execution_count": 4,
   "metadata": {
    "collapsed": false
   },
   "outputs": [],
   "source": [
    "# SAM with 0% doesn't need \n",
    "first_text_s0 = '; Include forcefield parameters'+ '\\n' \\\n",
    "'#include \"gromos53a6.ff/forcefield.itp\"'+ '\\n' + '\\n' \\\n",
    "'; Set non-bonded interactions to zero'+ '\\n' \\\n",
    "'#include \"pairtypes.itp\"'+ '\\n' + '\\n' \\\n",
    "'; Include molecule parameters'+ '\\n' \\\n",
    "'#include \"c10-ch3.itp\"'+ '\\n' + '\\n' \\\n",
    "'; Include water topology'+ '\\n' \\\n",
    "'#include \"gromos53a6.ff/spce.itp\"'+ '\\n' + '\\n' \\\n",
    "'[ system ]'+ '\\n' \\"
   ]
  },
  {
   "cell_type": "code",
   "execution_count": 7,
   "metadata": {
    "collapsed": true
   },
   "outputs": [],
   "source": [
    "# Uncomment for ptensor (!!!)\n",
    "#scnd_text = 'Droplet on SAM'+ '\\n' + '\\n' \\\n",
    "scnd_text = 'Bilayer Water-SAM'+ '\\n' + '\\n' \\\n",
    "'[molecules]'+ '\\n' "
   ]
  },
  {
   "cell_type": "code",
   "execution_count": 8,
   "metadata": {
    "collapsed": false
   },
   "outputs": [
    {
     "name": "stdout",
     "output_type": "stream",
     "text": [
      "; Include forcefield parameters\n",
      "#include \"gromos53a6.ff/forcefield.itp\"\n",
      "\n",
      "; Set non-bonded interactions to zero\n",
      "#include \"pairtypes.itp\"\n",
      "\n",
      "; Include molecule parameters\n",
      "#include \"c10-oh.itp\"\n",
      "#include \"c10-ch3.itp\"\n",
      "\n",
      "; Include water topology\n",
      "#include \"gromos53a6.ff/spce.itp\"\n",
      "\n",
      "[ system ]\n",
      "Bilayer Water-SAM\n",
      "\n",
      "[molecules]\n",
      "\n"
     ]
    }
   ],
   "source": [
    "print first_text + scnd_text"
   ]
  },
  {
   "cell_type": "code",
   "execution_count": 9,
   "metadata": {
    "collapsed": false
   },
   "outputs": [
    {
     "name": "stdout",
     "output_type": "stream",
     "text": [
      "; Include forcefield parameters\n",
      "#include \"gromos53a6.ff/forcefield.itp\"\n",
      "\n",
      "; Set non-bonded interactions to zero\n",
      "#include \"pairtypes.itp\"\n",
      "\n",
      "; Include molecule parameters\n",
      "#include \"c10-ch3.itp\"\n",
      "\n",
      "; Include water topology\n",
      "#include \"gromos53a6.ff/spce.itp\"\n",
      "\n",
      "[ system ]\n",
      "Bilayer Water-SAM\n",
      "\n",
      "[molecules]\n",
      "\n"
     ]
    }
   ],
   "source": [
    "print first_text_s0 + scnd_text"
   ]
  },
  {
   "cell_type": "code",
   "execution_count": 12,
   "metadata": {
    "collapsed": true
   },
   "outputs": [],
   "source": [
    "# New version using variable first_text (instead of copying from benchfile)\n",
    "#### copy bench top file to the working folder!!! ####\n",
    "\n",
    "#path to .gro files\n",
    "\n",
    "# Uncomment for ptensor (!!!)\n",
    "\n",
    "# At home (!!!)\n",
    "#samsfolder = \"/Users/burbol2/GitHub/LineTensionPackage/SYSTEM_CREATION/gromacs_files/SAM_startfiles_v2_36x36/NewVersion_v2/\"\n",
    "samsfolder = \"/Users/burbol2/GitHub/LineTensionPackage/SYSTEM_CREATION/gromacs_files/SAM_startfiles_v2_12x12/NewVersion_v2/\"\n",
    "\n",
    "# In the university (!!!)\n",
    "#samsfolder = \"/Users/eixeres/Dropbox/GitHub/LineTensionPackage/SYSTEM_CREATION/gromacs_files/SAM_startfiles_v2_36x36/NewVersion_v2/\"\n",
    "#samsfolder = \"/Users/eixeres/Dropbox/GitHub/LineTensionPackage/SYSTEM_CREATION/gromacs_files/SAM_startfiles_v2_12x12/NewVersion_v2/\"\n",
    "\n",
    "# All systems \n",
    "pc = [0, 11,22,33, 37, 44, 50]\n",
    "\n",
    "# For ptesor leave only one single molec (!!!)\n",
    "molec = [1000]\n",
    "#molec = [1000, 2000, 3000, 4000, 5000, 6500, 7000, 8000, 9000, 10000]\n",
    "\n",
    "# Single system for testing\n",
    "#pc = [0]\n",
    "#molec = [7000]"
   ]
  },
  {
   "cell_type": "code",
   "execution_count": 16,
   "metadata": {
    "collapsed": false
   },
   "outputs": [],
   "source": [
    "# Move .gro files to separatedfolder (1 folder for each system)\n",
    "import shutil\n",
    "\n",
    "os.chdir(samsfolder)\n",
    "\n",
    "for i in pc:\n",
    "    for j in molec:\n",
    "        \n",
    "        # Uncomment for ptensor (!!!)\n",
    "        #separatedfolder='s'+str(i)+'_w'+str(j)\n",
    "        separatedfolder='s'+str(i)\n",
    "        \n",
    "        # if folder does not exists, create it\n",
    "        if not os.path.isdir(separatedfolder):\n",
    "            os.mkdir(separatedfolder)\n",
    "        \n",
    "        # Uncomment for ptensor (!!!)\n",
    "        #grofile='sam'+str(i)+'_water'+str(j)+'.gro'\n",
    "        grofile='sam'+str(i)+'_water_ptensor_v2.gro'\n",
    "        \n",
    "        shutil.move(grofile, separatedfolder + '/' + grofile)"
   ]
  },
  {
   "cell_type": "code",
   "execution_count": 23,
   "metadata": {
    "collapsed": false
   },
   "outputs": [
    {
     "name": "stdout",
     "output_type": "stream",
     "text": [
      "totalSAM= 1296 totalXOH= 0 totalSOL= 10052\n",
      "lastcount: 1296 0 10052\n",
      "just created  0pc_10000.top\n"
     ]
    }
   ],
   "source": [
    "newCH3itp='c10-ch3.itp'\n",
    "newOHitp='c10-oh.itp'\n",
    "\n",
    "#chain length\n",
    "CH3len= 11     #length of chain with CH3-head groups\n",
    "OHlen= 12      #length of chain with OH-head groups\n",
    "\n",
    "\n",
    "# From here everything runs automatically...\n",
    "\n",
    "for i in pc:\n",
    "    for j in molec:\n",
    "        \n",
    "        os.chdir(samsfolder)\n",
    "        \n",
    "        # Uncomment for ptensor (!!!)       \n",
    "        # work in a different folder for each system\n",
    "        #separatedfolder='s'+str(i)+'_w'+str(j)\n",
    "        separatedfolder='s'+str(i)\n",
    "            \n",
    "        os.chdir(separatedfolder)\n",
    "\n",
    "        # Uncomment for ptensor (!!!)\n",
    "        #name of .gro files (input) \n",
    "        grofile='sam'+str(i)+'_water_ptensor_v2.gro'\n",
    "        #grofile='sam'+str(i)+'_water'+str(j)+'.gro'\n",
    "\n",
    "        # Uncomment for ptensor (!!!)\n",
    "        #name of new .top file (output)\n",
    "        newtop= str(i)+'pc_ptensor_v2.top'\n",
    "        #newtop= str(i)+'pc_'+str(j)+'.top'\n",
    "\n",
    "        # we create the new file by openning and closing it\n",
    "        #creating = open(newtop, 'w+')\n",
    "        #creating.close()\n",
    "\n",
    "        # count number of atoms in c10-Ch3 and c10-oh chains, and number of solvent atoms\n",
    "        f = open(samsfolder + separatedfolder +'/'+ grofile)\n",
    "        totalSAM = 0\n",
    "        totalXOH = 0\n",
    "        totalSOL = 0\n",
    "        for line in f:\n",
    "            if \"SAM\" in line:\n",
    "                totalSAM += 1\n",
    "            elif \"XOH\" in line:\n",
    "                totalXOH += 1\n",
    "            elif \"SOL\" in line:\n",
    "                totalSOL += 1\n",
    "        f.close()\n",
    "\n",
    "        # determine number of chains\n",
    "        totalSAM = int(totalSAM/CH3len)\n",
    "        totalXOH = int(totalXOH/OHlen)\n",
    "\n",
    "        # determine number of solvent molecules\n",
    "        totalSOL = int(totalSOL/3)\n",
    "\n",
    "        # print out calculated numbers\n",
    "        print \"totalSAM=\",totalSAM,\"totalXOH=\",totalXOH,\"totalSOL=\",totalSOL\n",
    "\n",
    "        # create new .top file\n",
    "        with open(newtop, 'w') as f1:\n",
    "            \n",
    "            k = 0\n",
    "            m = 0\n",
    "            # Write first lines of .top file (for 0% different text)\n",
    "            if i==0:\n",
    "                f1.write(first_text_s0 + scnd_text)\n",
    "            else:\n",
    "                f1.write(first_text + scnd_text)\n",
    "\n",
    "            # write into new .top file\n",
    "            with open(samsfolder + separatedfolder +'/'+ grofile, 'r') as h:\n",
    "                \n",
    "                # set counters to zero\n",
    "                lastcountsam=0\n",
    "                lastcountXOH=0\n",
    "                \n",
    "                # write one line for each carbon chain\n",
    "                for line2 in h:\n",
    "                    # write one line for each chain with CH3-head group\n",
    "                    if \"SAM\" in line2:\n",
    "                        k = k + 1\n",
    "                        if k in range(2,(totalSAM*CH3len)+1,CH3len):\n",
    "                            #print k\n",
    "                            #print line2\n",
    "                            f1.write(\"SAM\t1\\n\")\n",
    "                            lastcountsam += 1\n",
    "                    # write one line for each chain with OH-head group\n",
    "                    elif \"XOH\" in line2:\n",
    "                        m = m + 1\n",
    "                        if m in range(1,(totalXOH*OHlen)+1,OHlen):\n",
    "                            #print m\n",
    "                            #print line2\n",
    "                            f1.write(\"XOH\t1\\n\")\n",
    "                            lastcountXOH += 1\n",
    "                \n",
    "            # write number of water molecules at the end of file\n",
    "            f1.write(\"SOL\t\"+str(totalSOL)+\"\\n\")\n",
    "\n",
    "            # check number of chains and water molecules\n",
    "            print \"lastcount:\",lastcountsam,lastcountXOH,totalSOL\n",
    "            print \"just created \", newtop"
   ]
  },
  {
   "cell_type": "code",
   "execution_count": 22,
   "metadata": {
    "collapsed": false
   },
   "outputs": [],
   "source": [
    "# Copy .itp files to separatedfolder\n",
    "\n",
    "gromacsfolder = \"/Users/eixeres/Dropbox/GitHub/LineTensionPackage/SYSTEM_CREATION/gromacs_files/\"\n",
    "os.chdir(gromacsfolder)\n",
    "\n",
    "for i in pc:\n",
    "    for j in molec:\n",
    "        separatedfolder='s'+str(i)+'_w'+str(j)\n",
    "        shutil.copy2('c10-oh.itp', samsfolder+separatedfolder + '/' )\n",
    "        shutil.copy2('c10-ch3.itp', samsfolder+separatedfolder + '/' )\n",
    "        shutil.copy2('pairtypes.itp', samsfolder+separatedfolder + '/' )\n",
    "        shutil.copy2('NVT_100ns_v2.mdp', samsfolder+separatedfolder + '/' )\n",
    "        shutil.copy2('NVT_80ns_v2.mdp', samsfolder+separatedfolder + '/' )\n",
    "        shutil.copy2('NVT_60ns_v2.mdp', samsfolder+separatedfolder + '/' )\n",
    "        shutil.copy2('NVT_40ns_v2.mdp', samsfolder+separatedfolder + '/' )\n",
    "        shutil.copy2('NVT_20ns_v2.mdp', samsfolder+separatedfolder + '/' )\n",
    "        #shutil.copy2('Mini_v2.mdp', samsfolder+separatedfolder + '/' )"
   ]
  },
  {
   "cell_type": "code",
   "execution_count": 21,
   "metadata": {
    "collapsed": false
   },
   "outputs": [],
   "source": [
    "# Remove files\n",
    "gromacsfolder = \"/Users/eixeres/Dropbox/GitHub/LineTensionPackage/SYSTEM_CREATION/gromacs_files/\"\n",
    "os.chdir(gromacsfolder)\n",
    "\n",
    "for i in pc:\n",
    "    for j in molec:\n",
    "        separatedfolder='s'+str(i)+'_w'+str(j)\n",
    "        my_file = samsfolder+separatedfolder + '/' +\"repelOH.itp\"\n",
    "        if os.path.exists(my_file):\n",
    "            os.remove(my_file)"
   ]
  },
  {
   "cell_type": "code",
   "execution_count": null,
   "metadata": {
    "collapsed": true
   },
   "outputs": [],
   "source": []
  }
 ],
 "metadata": {
  "kernelspec": {
   "display_name": "Python 2",
   "language": "python",
   "name": "python2"
  },
  "language_info": {
   "codemirror_mode": {
    "name": "ipython",
    "version": 2
   },
   "file_extension": ".py",
   "mimetype": "text/x-python",
   "name": "python",
   "nbconvert_exporter": "python",
   "pygments_lexer": "ipython2",
   "version": "2.7.11"
  }
 },
 "nbformat": 4,
 "nbformat_minor": 0
}
