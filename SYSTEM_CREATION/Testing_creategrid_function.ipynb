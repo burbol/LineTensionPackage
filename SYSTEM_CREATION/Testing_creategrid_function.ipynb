{
 "cells": [
  {
   "cell_type": "code",
   "execution_count": 1,
   "metadata": {
    "collapsed": true
   },
   "outputs": [],
   "source": [
    "import numpy as np\n",
    "import matplotlib.pyplot as plt"
   ]
  },
  {
   "cell_type": "code",
   "execution_count": 2,
   "metadata": {
    "collapsed": false
   },
   "outputs": [
    {
     "name": "stdout",
     "output_type": "stream",
     "text": [
      "Populating the interactive namespace from numpy and matplotlib\n"
     ]
    }
   ],
   "source": [
    "%pylab inline"
   ]
  },
  {
   "cell_type": "code",
   "execution_count": null,
   "metadata": {
    "collapsed": false
   },
   "outputs": [],
   "source": [
    "########################### OLD FUNCTION TO CREATE GRID: NEEDS CORRECTION! ###########################\n",
    "def creategrid(a0, Nx, Ny):\n",
    "    # set particle x- and y- coordinates\n",
    "    # !!!! later move to create_top_surface.ipynb !!!\n",
    "\n",
    "\n",
    "    # First basis vector V = (Vx,Vy)\n",
    "    Vx = a0\n",
    "    Vy = 0\n",
    "    # Second basis vector W = (Wx,Wy)\n",
    "    Wx = a0*np.sin(np.pi/6)\n",
    "    Wy = a0*np.cos(np.pi/6)\n",
    "\n",
    "    # create arrays that hold particle positions\n",
    "    xPos = np.zeros([Nx,Ny],dtype=float) # x positions of particles\n",
    "    yPos = np.zeros([Nx,Ny],dtype=float) # y positions of particles\n",
    "\n",
    "    ################# TYPE 1 OF GRID ################\n",
    "\n",
    "    for j in range(Ny):\n",
    "        for i in range(Nx):\n",
    "            xPos[i,j] = i*Vx + j*Wx\n",
    "            yPos[i,j] = i*Vy + j*Wy\n",
    "                if xPos[i,j]>xPos[-1,1]:\n",
    "                    xPos[i,j] = i-(Nx-1)*Vx + j*Wx\n",
    "\n",
    "    for j in range(1,Ny):\n",
    "        for i in range(Nx):  # Here we move the last particles of almost each line to get a more rectangular surface shape\n",
    "            if xPos[i,j]>xPos[-1,1]:\n",
    "                xPos[i,j] = xPos[i-(Nx-1),j-2]\n",
    "\n",
    "    return xPos, yPos"
   ]
  },
  {
   "cell_type": "code",
   "execution_count": 27,
   "metadata": {
    "collapsed": false
   },
   "outputs": [],
   "source": [
    "########################### CORRECTED FUNCTION TO CREATE GRID ###########################\n",
    "def creategrid(a0, Nx, Ny):\n",
    "\n",
    "    # First basis vector V = (Vx,Vy)\n",
    "    Vx = a0\n",
    "    Vy = 0\n",
    "    # Second basis vector W = (Wx,Wy)\n",
    "    Wx = a0*np.sin(np.pi/6)\n",
    "    Wy = a0*np.cos(np.pi/6)\n",
    "\n",
    "    # Create arrays that hold particle positions\n",
    "    xPos = np.zeros([Nx,Ny],dtype=float) # x positions of particles\n",
    "    yPos = np.zeros([Nx,Ny],dtype=float) # y positions of particles\n",
    "\n",
    "    # Move last particles of (almost) each line to get rectangular grid shape\n",
    "    for j in range(Ny):\n",
    "        for i in range(Nx):\n",
    "            xPos[i,j] = i*Vx + j*Wx\n",
    "            yPos[i,j] = i*Vy + j*Wy\n",
    "            if xPos[i,j]>((Nx-1)*Vx + Wx):\n",
    "                print \"i=\", i, \"j=\", j, \"x=\", xPos[i,j], \"Xlim =\", ((Nx-1)*Vx + Wx)\n",
    "                xPos[i,j] = xPos[i,j] - (Nx*Vx)\n",
    "\n",
    "    return xPos, yPos"
   ]
  },
  {
   "cell_type": "code",
   "execution_count": 28,
   "metadata": {
    "collapsed": false
   },
   "outputs": [
    {
     "name": "stdout",
     "output_type": "stream",
     "text": [
      "i= 9 j= 2 x= 50.0 Xlim = 47.5\n",
      "i= 9 j= 3 x= 52.5 Xlim = 47.5\n",
      "i= 8 j= 4 x= 50.0 Xlim = 47.5\n",
      "i= 9 j= 4 x= 55.0 Xlim = 47.5\n",
      "i= 8 j= 5 x= 52.5 Xlim = 47.5\n",
      "i= 9 j= 5 x= 57.5 Xlim = 47.5\n",
      "i= 7 j= 6 x= 50.0 Xlim = 47.5\n",
      "i= 8 j= 6 x= 55.0 Xlim = 47.5\n",
      "i= 9 j= 6 x= 60.0 Xlim = 47.5\n",
      "i= 7 j= 7 x= 52.5 Xlim = 47.5\n",
      "i= 8 j= 7 x= 57.5 Xlim = 47.5\n",
      "i= 9 j= 7 x= 62.5 Xlim = 47.5\n",
      "i= 6 j= 8 x= 50.0 Xlim = 47.5\n",
      "i= 7 j= 8 x= 55.0 Xlim = 47.5\n",
      "i= 8 j= 8 x= 60.0 Xlim = 47.5\n",
      "i= 9 j= 8 x= 65.0 Xlim = 47.5\n",
      "i= 6 j= 9 x= 52.5 Xlim = 47.5\n",
      "i= 7 j= 9 x= 57.5 Xlim = 47.5\n",
      "i= 8 j= 9 x= 62.5 Xlim = 47.5\n",
      "i= 9 j= 9 x= 67.5 Xlim = 47.5\n"
     ]
    }
   ],
   "source": [
    "Nx = 10 # number of gridpoints in x-direction (carbons)\n",
    "Ny = 10 # number of gridpoints in y-direction (carbons)\n",
    "a0 = 5.0 # set lattice vector length\n",
    "\n",
    "xPos, yPos = creategrid(a0, Nx, Ny)"
   ]
  },
  {
   "cell_type": "code",
   "execution_count": 29,
   "metadata": {
    "collapsed": false
   },
   "outputs": [
    {
     "data": {
      "image/png": "[encoded data removed]",
      "text/plain": [
       "<matplotlib.figure.Figure at 0x10ea9a690>"
      ]
     },
     "metadata": {},
     "output_type": "display_data"
    }
   ],
   "source": [
    "plt.plot(xPos, yPos, 'o')\n",
    "plt.show()"
   ]
  },
  {
   "cell_type": "code",
   "execution_count": null,
   "metadata": {
    "collapsed": true
   },
   "outputs": [],
   "source": [
    "############ COPY OF FUNCTION TO PLOT GRID FOR TESTING creategrid()############\n",
    "def plotgrid(pType, a0, pc, Nx, Ny, text, loop):\n",
    "    \n",
    "    xPos, yPos = creategrid(a0, Nx, Ny)\n",
    "    \n",
    "    SizeOfDots = 8\n",
    "    fig, ax = plt.subplots()\n",
    "    for i in range(Nx):\n",
    "        for j in range(Ny):\n",
    "            if pType[i,j] == 'O':\n",
    "                ax.plot([xPos[i,j]],[yPos[i,j]],marker='o',markersize=SizeOfDots,color='blue')\n",
    "            else:\n",
    "                ax.plot([xPos[i,j]],[yPos[i,j]],marker='o',markersize=SizeOfDots,color='yellow')\n",
    "                \n",
    "    plt.title(\"Pc = \" + str(int(pc*100)) + text, fontsize= 14)\n",
    "    plt.grid()\n",
    "    plt.show()\n",
    "    myfile = 'pc' + str(int(pc*100)) + '_grid_'+ str(loop) +'.pdf'\n",
    "    n = 1\n",
    "    while os.path.isfile(myfile): # If file exists, change file name\n",
    "        myfile = 'pc' + str(int(pc*100)) + '_grid_'+ str(loop) +'_'+ str(n) + '.pdf'\n",
    "        n = n + 1\n",
    "    #fig.savefig(myfile ,format='pdf')"
   ]
  },
  {
   "cell_type": "code",
   "execution_count": null,
   "metadata": {
    "collapsed": true
   },
   "outputs": [],
   "source": [
    "############ COPY OF FUNCTION JUST FOR TESTING creategrid()############\n",
    "def C_restart(Nx,Ny):\n",
    "    pType = np.zeros([Nx,Ny],dtype=str) # particle type\n",
    "\n",
    "    # set standard particle type as Carbon\n",
    "    for i in range(Nx):\n",
    "        for j in range(Ny):\n",
    "            pType[i,j] = 'C'\n",
    "    return pType"
   ]
  },
  {
   "cell_type": "code",
   "execution_count": null,
   "metadata": {
    "collapsed": true
   },
   "outputs": [],
   "source": [
    "############ COPY OF FUNCTION JUST FOR TESTING creategrid()############\n",
    "def loop1(xinterval,yinterval, Nx, Ny):\n",
    "    pType = C_restart(Nx,Ny)\n",
    "    n_oxys = 0\n",
    "    for k in range(0,Nx,yinterval*2):\n",
    "        for l in range(0,Ny,xinterval*2):\n",
    "            if pType[k,l]=='C':\n",
    "                pType[k,l] = 'O' \n",
    "                n_oxys = n_oxys + 1\n",
    "    for k in range(yinterval,Nx,xinterval*2):\n",
    "        for l in range(xinterval,Ny,xinterval*2):\n",
    "            if pType[k,l]=='C':\n",
    "                pType[k,l] = 'O' \n",
    "                n_oxys = n_oxys + 1\n",
    "    pc = float(n_oxys)/float(Nx*Ny)\n",
    "    return pType, pc"
   ]
  },
  {
   "cell_type": "code",
   "execution_count": null,
   "metadata": {
    "collapsed": false
   },
   "outputs": [],
   "source": [
    "xinterval = 2\n",
    "yinterval = 2\n",
    "loop = 'test'\n",
    "pType, pc = loop1(xinterval,yinterval, Nx, Ny)\n",
    "mytext = ', Loop1, Xint='+ str(xinterval)+', Yint='+str(yinterval)\n",
    "plotgrid(pType, a0, pc, Nx, Ny, mytext, loop)"
   ]
  },
  {
   "cell_type": "code",
   "execution_count": null,
   "metadata": {
    "collapsed": false
   },
   "outputs": [],
   "source": [
    "print xPos"
   ]
  },
  {
   "cell_type": "code",
   "execution_count": null,
   "metadata": {
    "collapsed": true
   },
   "outputs": [],
   "source": []
  }
 ],
 "metadata": {
  "kernelspec": {
   "display_name": "Python 2",
   "language": "python",
   "name": "python2"
  },
  "language_info": {
   "codemirror_mode": {
    "name": "ipython",
    "version": 2
   },
   "file_extension": ".py",
   "mimetype": "text/x-python",
   "name": "python",
   "nbconvert_exporter": "python",
   "pygments_lexer": "ipython2",
   "version": "2.7.11"
  }
 },
 "nbformat": 4,
 "nbformat_minor": 0
}
