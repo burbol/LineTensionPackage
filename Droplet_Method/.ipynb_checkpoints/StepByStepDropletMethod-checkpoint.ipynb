{
 "cells": [
  {
   "cell_type": "code",
   "execution_count": 1,
   "metadata": {
    "collapsed": false
   },
   "outputs": [],
   "source": [
    "# type first on the shell \"source /usr/local/gromacs/bin/GMXRC\"\n",
    "import gromacs\n",
    "gromacs.config.setup()"
   ]
  },
  {
   "cell_type": "code",
   "execution_count": 2,
   "metadata": {
    "collapsed": false
   },
   "outputs": [
    {
     "name": "stdout",
     "output_type": "stream",
     "text": [
      "Populating the interactive namespace from numpy and matplotlib\n"
     ]
    }
   ],
   "source": [
    "%pylab inline"
   ]
  },
  {
   "cell_type": "code",
   "execution_count": 3,
   "metadata": {
    "collapsed": false
   },
   "outputs": [],
   "source": [
    "rcParams['text.usetex'] = True\n",
    "matplotlib.rcParams['legend.markerscale'] = 0\n",
    "matplotlib.rcParams['legend.handletextpad'] = 0.3\n",
    "#matplotlib.rcParams['legend.markerscale'] = 1 \n",
    "matplotlib.rcParams['legend.numpoints'] = 1\n",
    "matplotlib.rcParams['legend.handlelength'] = 0.5\n",
    "matplotlib.rcParams['font.family'] = 'Times New Roman Bold' \n",
    "pyplot.rcParams.update({'legend.labelspacing':0.25})\n",
    "\n",
    "#Direct input \n",
    "plt.rcParams['text.latex.preamble']=[r\"\\usepackage{lmodern}\"]\n",
    "#Options\n",
    "params = {\n",
    "          'text.latex.unicode': True,\n",
    "          }\n",
    "plt.rcParams.update(params) "
   ]
  },
  {
   "cell_type": "code",
   "execution_count": 4,
   "metadata": {
    "collapsed": false
   },
   "outputs": [],
   "source": [
    "import matplotlib \n",
    "import matplotlib.pyplot as plt\n",
    "from scipy.optimize import curve_fit\n",
    "from scipy import optimize\n",
    "from scipy import odr"
   ]
  },
  {
   "cell_type": "code",
   "execution_count": 58,
   "metadata": {
    "collapsed": false
   },
   "outputs": [],
   "source": [
    ">>> import numpy as np\n",
    ">>> import gromacs.formats\n",
    ">>> xvg = gromacs.formats.XVG()"
   ]
  },
  {
   "cell_type": "code",
   "execution_count": 65,
   "metadata": {
    "collapsed": false
   },
   "outputs": [
    {
     "name": "stdout",
     "output_type": "stream",
     "text": [
      "/Volumes/Version_v2/Version_v2.2/radial_densmaps_Version_v2.2\n"
     ]
    }
   ],
   "source": [
    "%cd \"/Volumes/Version_v2/Version_v2.2/radial_densmaps_Version_v2.2\"\n",
    "#%cd /Volumes/UNI/SHELDON/files_for_laila/g_rad_densmaps_all\n",
    "#%cd /Volumes/UNI/SHELDON/g_rad_densmaps_s33s50"
   ]
  },
  {
   "cell_type": "code",
   "execution_count": 66,
   "metadata": {
    "collapsed": false
   },
   "outputs": [
    {
     "name": "stdout",
     "output_type": "stream",
     "text": [
      "/Volumes/Version_v2/Version_v2.2/radial_densmaps_Version_v2.2/s11_w4000\n",
      "26.0 26.5\n",
      "Just read: g_rad_dmap_11pc_w4000_26.0ns_26.5ns.xvg\n",
      "/Volumes/Version_v2/Version_v2.2/radial_densmaps_Version_v2.2\n"
     ]
    }
   ],
   "source": [
    "%cd s11_w4000\n",
    "b=11\n",
    "c=4000\n",
    "starttime = 26.0\n",
    "\n",
    "endtime = starttime +0.5\n",
    "print str(starttime),str(endtime)\n",
    "\n",
    "xvg.read(\"g_rad_dmap_\"+str(b)+\"pc_w\"+str(c)+\"_\"+str(starttime)+\"ns_\"+str(endtime)+\"ns.xvg\")\n",
    "print \"Just read: g_rad_dmap_\"+str(b)+\"pc_w\"+str(c)+\"_\"+str(starttime)+\"ns_\"+str(endtime)+\"ns.xvg\"\n",
    "\n",
    "%cd \"/Volumes/Version_v2/Version_v2.2/radial_densmaps_Version_v2.2\""
   ]
  },
  {
   "cell_type": "code",
   "execution_count": 67,
   "metadata": {
    "collapsed": false
   },
   "outputs": [],
   "source": [
    "#plotsfolder=\"/Users/burbol2/Dropbox/Apps/Texpad/PaperPics/\"\n",
    "#plotsfolder=\"/Users/burbol2/Dropbox/Apps/Texpad/Diplom/DiplomThesis/subfiles/Methods/Images/\"\n",
    "plotsfolder=\"/Users/eixeres/Downloads/\"\n",
    "circleplot='circle_fit_s'+str(b)+'_w'+str(c)+'_'+str(starttime)+'ns.eps' \n",
    "sigmoidplot='sigmoid_fit_s'+str(b)+'_w'+str(c)+'_'+str(starttime)+'ns.eps' "
   ]
  },
  {
   "cell_type": "code",
   "execution_count": 68,
   "metadata": {
    "collapsed": false
   },
   "outputs": [
    {
     "name": "stdout",
     "output_type": "stream",
     "text": [
      "b= 11 c= 4000\n",
      "shift= 1.44123\n"
     ]
    }
   ],
   "source": [
    "SAMs=[0,11,22,33,37,44]\n",
    "waters=[1000, 2000, 3000, 4000, 5000, 6500, 7000, 8000, 9000, 10000]\n",
    "#Here we read from a file the positions of the first water peaks of each system and save them in the array \"peak\"\n",
    "#peak = np.loadtxt('/Users/burbol2/Dropbox/Apps/Computable/Definitions_Interface/All_systems_without66/WaterPeaksFinal.txt', skiprows=1)\n",
    "peak = np.loadtxt('GDS.txt', skiprows=1)\n",
    "\n",
    "# We create the dictionary \"systems\" which relates the systems with the positions of the array \"peakcount\". \n",
    "# For example: \"systems[(11, 3000)]\" would give back the position 22, which can be used to call \"peakcount[22]\" \n",
    "# and get back the shift value of the system with a SAM  with 11% OH- coverage and a water droplet of 3000 molecules.\n",
    "# This is done for the case of using this script with only a subgroup of systems\n",
    "peakpos = 0\n",
    "systems={}\n",
    "for b2 in SAMs:\n",
    "    for c2 in waters:\n",
    "        z = b2, c2\n",
    "        systems[z] = peakpos\n",
    "        peakpos = peakpos + 1\n",
    "\n",
    "#We substitute the values \"b\" and \"c\" to get the corresponding shift value\n",
    "print \"b=\",b,\"c=\",c\n",
    "peakcount = systems[(b, c)]\n",
    "shift = peak[peakcount]\n",
    "print \"shift=\", shift"
   ]
  },
  {
   "cell_type": "code",
   "execution_count": 69,
   "metadata": {
    "collapsed": false
   },
   "outputs": [
    {
     "name": "stdout",
     "output_type": "stream",
     "text": [
      "b= 11 c= 4000\n",
      "shift2= 1.44123\n"
     ]
    }
   ],
   "source": [
    "#Here we read from a file the positions of the first water peaks of each system and save them in the array \"peak\"\n",
    "peak2 = np.loadtxt('/Users/eixeres/Dropbox/GitHub/LineTensionPackage/Analyze_trajectories/InterfacePositions/NewNames/GDS.txt', skiprows=1)\n",
    "#peak2 = np.loadtxt('/Users/burbol2/Dropbox/Apps/Computable/Definitions_Interface/All_systems_without66/GDS_positions_CORRECTED.txt', skiprows=1)iprows=1)\n",
    "\n",
    "# We create the dictionary \"systems\" which relates the systems with the positions of the array \"peakcount\". \n",
    "# For example: \"systems[(11, 3000)]\" would give back the position 22, which can be used to call \"peakcount[22]\" \n",
    "# and get back the shift value of the system with a SAM  with 11% OH- coverage and a water droplet of 3000 molecules.\n",
    "# This is done for the case of using this script with only a subgroup of systems\n",
    "peakpos = 0\n",
    "systems2={}\n",
    "for b2 in SAMs:\n",
    "    for c2 in waters:\n",
    "        z = b2, c2\n",
    "        systems2[z] = peakpos\n",
    "        peakpos = peakpos + 1\n",
    "\n",
    "#We substitute the values \"b\" and \"c\" to get the corresponding shift value\n",
    "print \"b=\",b,\"c=\",c\n",
    "peakcount = systems2[(b, c)]\n",
    "shift2 = peak2[peakcount]\n",
    "print \"shift2=\", shift2"
   ]
  },
  {
   "cell_type": "code",
   "execution_count": 70,
   "metadata": {
    "collapsed": false
   },
   "outputs": [
    {
     "name": "stdout",
     "output_type": "stream",
     "text": [
      "b= 11 c= 4000\n",
      "shift3= 1.0950001\n"
     ]
    }
   ],
   "source": [
    "#Here we read from a file the positions of the first water peaks of each system and save them in the array \"peak\"\n",
    "peak3 = np.loadtxt('/Users/eixeres/Dropbox/GitHub/LineTensionPackage/Analyze_trajectories/InterfacePositions/NewNames/SAM_last_C_atom.txt', skiprows=1)\n",
    "#peak3 = np.loadtxt('/Users/burbol2/Dropbox/Apps/Computable/Definitions_Interface/All_systems_without66/SAMPeaks.txt', skiprows=1)\n",
    "\n",
    "# We create the dictionary \"systems\" which relates the systems with the positions of the array \"peakcount\". \n",
    "# For example: \"systems[(11, 3000)]\" would give back the position 22, which can be used to call \"peakcount[22]\" \n",
    "# and get back the shift value of the system with a SAM  with 11% OH- coverage and a water droplet of 3000 molecules.\n",
    "# This is done for the case of using this script with only a subgroup of systems\n",
    "peakpos = 0\n",
    "systems3={}\n",
    "for b2 in SAMs:\n",
    "    for c2 in waters:\n",
    "        z = b2, c2\n",
    "        systems3[z] = peakpos\n",
    "        peakpos = peakpos + 1\n",
    "\n",
    "#We substitute the values \"b\" and \"c\" to get the corresponding shift value\n",
    "print \"b=\",b,\"c=\",c\n",
    "peakcount = systems3[(b, c)]\n",
    "shift3 = peak3[peakcount]\n",
    "print \"shift3=\", shift3"
   ]
  },
  {
   "cell_type": "code",
   "execution_count": 71,
   "metadata": {
    "collapsed": false
   },
   "outputs": [
    {
     "name": "stdout",
     "output_type": "stream",
     "text": [
      "1.44123 1.44123 1.0950001\n"
     ]
    }
   ],
   "source": [
    "#print shift-shift2\n",
    "#shift3=shift - ((shift-shift2)/2)\n",
    "print shift,shift2,shift3"
   ]
  },
  {
   "cell_type": "code",
   "execution_count": 72,
   "metadata": {
    "collapsed": false
   },
   "outputs": [
    {
     "data": {
      "image/png": "[encoded data removed]",
      "text/plain": [
       "<matplotlib.figure.Figure at 0x10b079810>"
      ]
     },
     "metadata": {},
     "output_type": "display_data"
    }
   ],
   "source": [
    "xvg.plot()"
   ]
  },
  {
   "cell_type": "code",
   "execution_count": 73,
   "metadata": {
    "collapsed": false
   },
   "outputs": [
    {
     "data": {
      "image/png": "[encoded data removed]",
      "text/plain": [
       "<matplotlib.figure.Figure at 0x10f8a6990>"
      ]
     },
     "metadata": {},
     "output_type": "display_data"
    }
   ],
   "source": [
    "#colclass = matplotlib.colors.Colormap(jet, N=256)\n",
    "#matplotlib.cm.register_cmap(name='jet', cmap='colclass')\n",
    "#matplotlib.colors.ListedColormap([0,0,0], name='jet', N=None)\n",
    "#mycolor = matplotlib.cm.get_cmap(name='jet', lut=None)\n",
    "xvg.plot(columns=[0,58], maxpoints=None, alpha=1)"
   ]
  },
  {
   "cell_type": "code",
   "execution_count": 74,
   "metadata": {
    "collapsed": false
   },
   "outputs": [
    {
     "data": {
      "image/png": "[encoded data removed]",
      "text/plain": [
       "<matplotlib.figure.Figure at 0x10ef3a3d0>"
      ]
     },
     "metadata": {},
     "output_type": "display_data"
    }
   ],
   "source": [
    "xvg.errorbar(columns=[0,100,1], maxpoints=1000, color=\"red\")"
   ]
  },
  {
   "cell_type": "code",
   "execution_count": 75,
   "metadata": {
    "collapsed": false
   },
   "outputs": [],
   "source": [
    "input = xvg.array"
   ]
  },
  {
   "cell_type": "code",
   "execution_count": 76,
   "metadata": {
    "collapsed": false
   },
   "outputs": [
    {
     "name": "stdout",
     "output_type": "stream",
     "text": [
      "len(input)= 201 len(x)= 1000\n",
      "slice= 100 , x[slice]= 2.84605 , y[0]= 2.14962 , y[slice]= 0.0\n"
     ]
    }
   ],
   "source": [
    "# Checking values\n",
    "x = input[0]\n",
    "print \"len(input)=\",len(input),\"len(x)=\", len(x)\n",
    "slice = 100\n",
    "y = input[slice]\n",
    "print \"slice=\", slice, \", x[slice]=\", x[slice],\", y[0]=\", y[0],\", y[slice]=\", y[slice]"
   ]
  },
  {
   "cell_type": "code",
   "execution_count": 77,
   "metadata": {
    "collapsed": false
   },
   "outputs": [
    {
     "name": "stdout",
     "output_type": "stream",
     "text": [
      "S= 0.06  is the height of each slice\n",
      "first coordinates of zcoord -1.44123 -1.38123 -1.32123 10.49877\n"
     ]
    }
   ],
   "source": [
    "# Here we create the array \"zcoord\" with the z-coordinates of the slices with the shift value already subtracted. \n",
    "# The system total length in the z-direction is ZLENGTH=12.0 nm. Change this value if necessary.\n",
    "ZLENGTH = 12.0\n",
    "slicestotal = len(input) - 1\n",
    "S = ZLENGTH/ slicestotal\n",
    "print \"S=\", S, \" is the height of each slice\"\n",
    "zcoord = np.zeros(len(input)-1)\n",
    "for i in range(1,len(input)): \n",
    "    zcoord[i-1] = (S *(i-1))-shift\n",
    "print \"first coordinates of zcoord\", zcoord[0], zcoord[1], zcoord[2], zcoord[-1]"
   ]
  },
  {
   "cell_type": "code",
   "execution_count": 78,
   "metadata": {
    "collapsed": false
   },
   "outputs": [],
   "source": [
    "# Searching for initian guess for the first parameter of the fit\n",
    "def guess(y):\n",
    "    m = max(y)\n",
    "    m2 = min(y)\n",
    "    third = (m - m2)/3\n",
    "    bottom = m - third\n",
    "    tot = 0\n",
    "    count = 0\n",
    "    for i in range(0, len(y)):\n",
    "        if y[i] >= bottom:\n",
    "            tot = tot + y[i]\n",
    "            count = count + 1\n",
    "    At = tot / count\n",
    "    return At"
   ]
  },
  {
   "cell_type": "code",
   "execution_count": 79,
   "metadata": {
    "collapsed": false
   },
   "outputs": [],
   "source": [
    "def func(r, ro, R, d):\n",
    "    return (ro/2)*(1-np.tanh(2*(r-R)/d))"
   ]
  },
  {
   "cell_type": "code",
   "execution_count": 80,
   "metadata": {
    "collapsed": false
   },
   "outputs": [],
   "source": [
    "# THE FUNCTION waterbulk() DETERMINES THE BULK VALUE OF WATER DENSITY\n",
    "# It takes 3 arguments: \n",
    "# input: all the data of the density map of one system (type: list with total length=1000, and length of each element input[i]=201)\n",
    "# zcoord: the z-coordinates of the slices of the system (type: list with length=200)\n",
    "# func: sigmoidal function used to fit the density data of one slice (type: function)\n",
    "def waterbulk(input, zcoord, func):\n",
    "    print \"WE ARE INSIDE THE FUNCTION WATERBULK\"\n",
    "    x = input[0]\n",
    "    densmean = np.zeros(200)\n",
    "    i = 0\n",
    "    start = 0\n",
    "    for slice in range(1,200):\n",
    "        ymean = input[slice]\n",
    "        At = guess(ymean) \n",
    "        #k = At\n",
    "        popt, pcov = curve_fit(func, x, ymean,[At, 2, 1], maxfev=10000)\n",
    "        k = func(0,*popt)\n",
    "        densmean[slice]=k\n",
    "        if k > 800:\n",
    "           start = slice - i\n",
    "           i = i + 1\n",
    "           end = start + i\n",
    "           densmean2 = np.zeros(i + 1)\n",
    "           i2 = 0\n",
    "    for slice2 in range(0,200):\n",
    "        ymean = input[slice2]\n",
    "        At = guess(ymean)\n",
    "        #k = At\n",
    "        popt, pcov = curve_fit(func, x, ymean,[At, 2, 1], maxfev=10000)\n",
    "        k = func(0,*popt)\n",
    "        if k > 800:\n",
    "            densmean2[i2] = k\n",
    "            i2 = i2 + 1\n",
    "    print \"WE ARE IN THE LAST LINE OF THE FUNCTION WATERBULK\"\n",
    "    return np.median(densmean2)\n",
    "#for slice in range(100,110):\n",
    "    #ymean = input[slice]\n",
    "    #print guess(ymean*2)"
   ]
  },
  {
   "cell_type": "code",
   "execution_count": 81,
   "metadata": {
    "collapsed": false
   },
   "outputs": [
    {
     "name": "stdout",
     "output_type": "stream",
     "text": [
      "WE ARE INSIDE THE FUNCTION WATERBULK\n",
      "WE ARE IN THE LAST LINE OF THE FUNCTION WATERBULK\n",
      "996.147392785\n"
     ]
    }
   ],
   "source": [
    "bulk=waterbulk(input, zcoord, func)\n",
    "print bulk"
   ]
  },
  {
   "cell_type": "code",
   "execution_count": 82,
   "metadata": {
    "collapsed": false
   },
   "outputs": [
    {
     "name": "stdout",
     "output_type": "stream",
     "text": [
      "[  9.06731742e+00   5.56208115e-01   5.50757969e-03] [[  2.18719273e-01  -2.66991300e-05  -5.33160454e-06]\n",
      " [ -2.66991300e-05  -2.04532157e+15   9.85024035e+14]\n",
      " [  0.00000000e+00   9.85024035e+14  -4.74386210e+14]]\n"
     ]
    },
    {
     "data": {
      "image/png": "[encoded data removed]",
      "text/plain": [
       "<matplotlib.figure.Figure at 0x10ee1cb90>"
      ]
     },
     "metadata": {},
     "output_type": "display_data"
    }
   ],
   "source": [
    "slice = 100\n",
    "y = input[slice]\n",
    "pos = zcoord[slice]\n",
    "\n",
    "popt, pcov = curve_fit(func, x, y,[1000, 3, 1])\n",
    "print popt, pcov\n",
    "linex=popt[1]*np.ones(40)\n",
    "liney=np.linspace(0,1800,40)\n",
    "\n",
    "plt.plot(x, func(x, *popt),'r-',label='fitted density profile',linewidth=4)\n",
    "plt.plot(x,y,'k.',label='average radial density')\n",
    "plt.plot(linex,liney, lw=2, label='LG-interface')\n",
    "\n",
    "plt.xlabel('Radius [nm]',fontsize=22)\n",
    "#plt.ylabel(r' [nm]',fontsize=22)\n",
    "plt.ylabel(r'Density [$\\frac{kg}{m^3}$]',fontsize=27)\n",
    "rcParams['legend.numpoints'] = 1\n",
    "fig = matplotlib.pyplot.gcf()\n",
    "fig.set_size_inches(7,5)\n",
    "\n",
    "matplotlib.rcParams['legend.markerscale'] = 1.5\n",
    "first_legend = plt.legend(loc=0,handletextpad=0.3,borderpad=0.3,fontsize=16)\n",
    "\n",
    "xticks(fontsize=16)\n",
    "yticks(fontsize=16)\n",
    "\n",
    "titletext = r'$\\Phi = \\ $' +str(b)+ '\\%, $n_{W}=\\ $' +str(c)+ ', $z = \\ $' +str(pos)+'nm, $t_0 = \\ $'+ str(int(starttime))+'ns'\n",
    "thetitle = plt.suptitle(titletext,fontsize=20,fontweight='bold')\n",
    "\n",
    "plt.savefig(plotsfolder+sigmoidplot, bbox_inches='tight',dpi=400)"
   ]
  },
  {
   "cell_type": "code",
   "execution_count": 83,
   "metadata": {
    "collapsed": false
   },
   "outputs": [
    {
     "name": "stdout",
     "output_type": "stream",
     "text": [
      "9.06731741766\n"
     ]
    }
   ],
   "source": [
    "k = func(0,*popt)\n",
    "print k"
   ]
  },
  {
   "cell_type": "code",
   "execution_count": 84,
   "metadata": {
    "collapsed": false
   },
   "outputs": [],
   "source": [
    "def checkslice(s, t, bulk):\n",
    "    popt, pcov = curve_fit(func, x, s,[t, 2, 1],maxfev=10000)\n",
    "    k = func(0,*popt)\n",
    "    bulklimit = 0.9*bulk\n",
    "    if k > bulklimit:\n",
    "        return True\n",
    "    else: \n",
    "        return False"
   ]
  },
  {
   "cell_type": "code",
   "execution_count": 85,
   "metadata": {
    "collapsed": false
   },
   "outputs": [
    {
     "name": "stdout",
     "output_type": "stream",
     "text": [
      "24\n"
     ]
    }
   ],
   "source": [
    "slicemin = 0\n",
    "for slice in range(0,150):\n",
    "    y = input[slice]\n",
    "    At = guess(y)\n",
    "    if checkslice(y, At, bulk):\n",
    "       slicemin = slice\n",
    "       print slicemin\n",
    "       break\n",
    "    else: continue"
   ]
  },
  {
   "cell_type": "code",
   "execution_count": 86,
   "metadata": {
    "collapsed": false
   },
   "outputs": [
    {
     "name": "stdout",
     "output_type": "stream",
     "text": [
      "88\n"
     ]
    }
   ],
   "source": [
    "slicemax = 0\n",
    "for slice in range(200,0,-1):\n",
    "    y = input[slice]\n",
    "    At = guess(y)\n",
    "    if checkslice(y, At, bulk):\n",
    "       slicemax = slice\n",
    "       print slicemax\n",
    "       break\n",
    "    else: continue"
   ]
  },
  {
   "cell_type": "code",
   "execution_count": 87,
   "metadata": {
    "collapsed": false
   },
   "outputs": [
    {
     "name": "stdout",
     "output_type": "stream",
     "text": [
      "zeroslice= 25\n",
      "shift= 1.44123 , zcoord[zeroslice-1]= -0.00123 , zcoord[zeroslice]= 1.42302\n"
     ]
    }
   ],
   "source": [
    "# We set the number of the first slice as \"zeroslice\", which will be used later for leaving the first 8nm above the surface out of the fitted data.  \n",
    "zeroslice = 0\n",
    "cnt = 0\n",
    "for slicepos in zcoord:\n",
    "    #print slicepos\n",
    "    if slicepos >= 0.0: \n",
    "        zeroslice = cnt\n",
    "        break\n",
    "    cnt = cnt + 1\n",
    "print \"zeroslice=\", zeroslice\n",
    "print \"shift=\", shift, \", zcoord[zeroslice-1]=\", zcoord[zeroslice-1],\", zcoord[zeroslice]=\", x[zeroslice]"
   ]
  },
  {
   "cell_type": "code",
   "execution_count": 88,
   "metadata": {
    "collapsed": false
   },
   "outputs": [
    {
     "name": "stdout",
     "output_type": "stream",
     "text": [
      "25 25 88\n",
      "shift= 1.44123\n"
     ]
    }
   ],
   "source": [
    "#We leave the slices below zero out of the fit\n",
    "if zeroslice > slicemin:\n",
    "   slicemin = zeroslice \n",
    "print zeroslice, slicemin, slicemax\n",
    "print \"shift=\", shift"
   ]
  },
  {
   "cell_type": "code",
   "execution_count": 89,
   "metadata": {
    "collapsed": false
   },
   "outputs": [],
   "source": [
    "# FUNCTION \"from_slice_circle\" to make a circle fit of some consecutive slices\n",
    "# slicemin: number of the first slice; \n",
    "# slicemax: number of the last slice\n",
    "# input: array containing all the data of the density map of all the slices \n",
    "# zcoord: list with the z-coordinates of all the slices\n",
    "# returns 7 variables: \n",
    "# xc, yc, R_2: the coordinates of the circle center and its radius (xc corresponds to the z-position and yc to the radial distance to the central axis of the drop. \n",
    "#   But yc won't be used for later calculations and has to be set it to yc=0).\n",
    "# residu, residu2: error of the circle fit and quadratic error\n",
    "# z, R: coordinates of the resulting points of the fitted radial density profile of each slice between slicemin and slicemax\n",
    "# \n",
    "def from_slice_circle(slicemax, slicemin, input, zcoord):\n",
    "   \t    \n",
    "# Now we determine R and z. \n",
    "# R comes from the fit, and z is a vector with the shifted positions of the slices.\n",
    "    dims = slicemax - slicemin + 1\n",
    "    x = input[0]\n",
    "    i=0\n",
    "    z = np.zeros(dims)\n",
    "    R = np.zeros(dims)\n",
    "    for a in range(slicemin, slicemax+1):\n",
    "        y2 = input[a]\n",
    "        i = a - slicemin\n",
    "        z[i] = zcoord[a-1] \n",
    "        At = guess(y2)\n",
    "        params, pcov2 = curve_fit(func, x, y2,[At, 2, 1], maxfev=10000)\n",
    "        R[i] = params[1]\n",
    "# Here we use part of the source code of a website, to fit points to a circle.--> \"http://wiki.scipy.org/Cookbook/Least_Squares_Circle\"\n",
    "     \n",
    "    x_m = mean(z)\n",
    "    y_m = mean(R)\n",
    "    x = z\n",
    "    y = R\n",
    "    \n",
    "    # == METHOD 3 ==\n",
    "    # Basic usage of odr with an implicit function definition\n",
    "\n",
    "    def calc_R(xc, yc):\n",
    "         \"\"\" calculate the distance of each 2D points from the center c=(xc, yc) \"\"\"\n",
    "         return sqrt((x-xc)**2 + (y-yc)**2)\n",
    "\n",
    "    def f_3(beta, x):\n",
    "         \"\"\" implicit definition of the circle \"\"\"\n",
    "         return (x[0]-beta[0])**2 + (x[1])**2 -beta[2]**2\n",
    "\n",
    "    # initial guess for parameters\n",
    "    R_m = calc_R(x_m, 0).mean()\n",
    "    beta0 = [ x_m, 0, R_m]\n",
    "\n",
    "    # for implicit function :\n",
    "    #       data.x contains both coordinates of the points\n",
    "    #       data.y is the dimensionality of the response\n",
    "    lsc_data   = odr.Data(row_stack([x, y]), y=1)\n",
    "    lsc_model  = odr.Model(f_3, implicit=True)\n",
    "    lsc_odr    = odr.ODR(lsc_data, lsc_model, beta0)\n",
    "    lsc_out    = lsc_odr.run()\n",
    "\n",
    "    xc_3, yc_3, R_3 = lsc_out.beta\n",
    "    Ri_3       = calc_R(xc_3, yc_3)\n",
    "    residu_3   = sum((Ri_3 - R_3)**2)\n",
    "    residu2_3  = sum((Ri_3**2-R_3**2)**2)\n",
    "    \n",
    "    # We translate all the circle down, so that yc=0        \n",
    "    #R = R\n",
    "    #yc = yc - yc\n",
    "\n",
    "    return xc_3, yc_3, R_3, residu_3, residu2_3, z, R"
   ]
  },
  {
   "cell_type": "code",
   "execution_count": 90,
   "metadata": {
    "collapsed": false
   },
   "outputs": [],
   "source": [
    "# The function \"distance\" calculates the distance between the fitted circle and a point. It takes 5 argumets:\n",
    "# x, y are the coordinates of the point; xc, yc are the coordinates of the circle center; R is its radius.\n",
    "def distance(x, y, xc, yc,R):\n",
    "    a = np.asarray([x,y])\n",
    "    b = np.asarray([xc,yc])\n",
    "    d = np.linalg.norm(a - b)- R\n",
    "    d = math.fabs(d)\n",
    "    return d "
   ]
  },
  {
   "cell_type": "code",
   "execution_count": 91,
   "metadata": {
    "collapsed": false
   },
   "outputs": [
    {
     "name": "stdout",
     "output_type": "stream",
     "text": [
      "xc, yc, R_2, z[-1], R[-1], residu, residu2\n",
      "0.528917570934 -0.000118068919369 3.52300793434 3.77877 1.39947031184 0.0127516141104 0.633166360325\n",
      "shift is 1.44123\n",
      "Starting the search for the best slicemin. We start with slicemin = 25\n",
      "d is bigger then epsilon: d= 0.03905205182\n",
      "added 1 to slicemin. Now slicemin= 26\n",
      "New d= 0.0283776015037\n",
      "Out of search loop! slicemin= 26 and its d= 0.0283776015037\n",
      "Starting the search for the best slicemax. We start with slicemax = 88 And slicesnr= 62\n",
      "d is smaller then epsilon: d= 0.016600798111\n",
      "added 1 to slicemax. Now slicemax= 89 And slicesnr= 64\n",
      "New d= 0.0461920499909\n",
      "We added one too much. d has become bigger then epsilon ->d= 0.0461920499909\n",
      "We subtract one slice again. Now slicemax= 88 And d= 0.016600798111\n",
      "slicemax is 88 and its d is 0.016600798111\n",
      "Once we have the correct values of slicemin and slicemax we make the circle fit again\n",
      "xc, yc, R_2, residu, residu2\n",
      "0.525363391823 0.0 3.52503324734 0.0111189921178 0.553284745476\n"
     ]
    }
   ],
   "source": [
    "xc, yc, R_2, residu, residu2, z, R= from_slice_circle(slicemax, slicemin, input, zcoord)\n",
    "print \"xc, yc, R_2, z[-1], R[-1], residu, residu2\"\n",
    "print xc, yc, R_2, z[-1], R[-1], residu, residu2\n",
    "print \"shift is\", shift\n",
    "\n",
    " # Now we search for the \"best\" slices to make the circle fit and calculate later the contact angle and base radius.\n",
    " # We look for the first and last fitted LG-interface points (related to the first and last droplet slices: slicemin and slicemax) with a distance to the circle smaller then epsilon, which we set to 0.029nm.\n",
    "                        \n",
    "epsilon = 0.03\n",
    "epsilon2 = 0.031\n",
    "# For slicemin\n",
    "print \"Starting the search for the best slicemin. We start with slicemin =\", slicemin\n",
    "xc, yc, R_2, residu, residu2, z, R= from_slice_circle(slicemax, slicemin, input, zcoord)\n",
    "d = distance(z[0], R[0], xc, yc, R_2)\n",
    "if d <= epsilon:\n",
    "    print \"d is smaller then epsilon: d=\", d\n",
    "    while d <= epsilon:\n",
    "        oldslicemin = slicemin\n",
    "        slicemin = oldslicemin - 1\n",
    "        print \"subtracted 1 from slicemin. Now slicemin=\", slicemin\n",
    "        old_d = d\n",
    "        xc, yc, R_2, residu, residu2, z, R= from_slice_circle(slicemax, slicemin, input, zcoord)\n",
    "        d = distance(z[0], R[0], xc, yc, R_2)\n",
    "        print \"New d=\", d\n",
    "elif d > epsilon:\n",
    "    print \"d is bigger then epsilon: d=\", d\n",
    "    while d > epsilon:\n",
    "        oldslicemin = slicemin\n",
    "        slicemin = oldslicemin + 1\n",
    "        print \"added 1 to slicemin. Now slicemin=\", slicemin\n",
    "        old_d = d\n",
    "        xc, yc, R_2, residu, residu2, z, R= from_slice_circle(slicemax, slicemin, input, zcoord)\n",
    "        d = distance(z[0], R[0], xc, yc, R_2)\n",
    "        print \"New d=\", d\n",
    "if d > epsilon:\n",
    "   print \"We subtracted one too much. d has become bigger then epsilon ->d=\", d\n",
    "   slicemin = oldslicemin\n",
    "   d = old_d\n",
    "   print \"We add one slice again. Now slicemin=\", slicemin, \"And d=\", d\n",
    "               \n",
    "print \"Out of search loop! slicemin=\", slicemin, \"and its d=\", d \n",
    "\n",
    "# For slicemax\n",
    "slicesnr = slicemax - slicemin\n",
    "print \"Starting the search for the best slicemax. We start with slicemax =\", slicemax, \"And slicesnr=\", slicesnr\n",
    "xc, yc, R_2, residu, residu2, z, R= from_slice_circle(slicemax, slicemin, input, zcoord)\n",
    "d = distance(z[-1], R[-1], xc, yc, R_2)\n",
    "if d <= epsilon2:\n",
    "    print \"d is smaller then epsilon: d=\", d\n",
    "    while d <= epsilon2:   \n",
    "        oldslicemax = slicemax\n",
    "        slicemax = oldslicemax + 1\n",
    "        slicesnr = slicemax - slicemin +1\n",
    "        print \"added 1 to slicemax. Now slicemax=\", slicemax, \"And slicesnr=\", slicesnr\n",
    "        old_d = d\n",
    "        xc, yc, R_2, residu, residu2, z, R= from_slice_circle(slicemax, slicemin, input, zcoord)\n",
    "        slicesnr = slicemax - slicemin - 1\n",
    "        d = distance(z[-1], R[-1], xc, yc, R_2)\n",
    "        print \"New d=\", d\n",
    "elif d > epsilon2:\n",
    "     print \"d is bigger then epsilon: d=\", d\n",
    "     while d > epsilon2:\n",
    "           oldslicemax = slicemax\n",
    "           slicemax = oldslicemax - 1\n",
    "           slicesnr = slicemax - slicemin +1\n",
    "           print \"subtracted 1 from slicemax. Now slicemax=\", slicemax, \"And slicesnr=\", slicesnr\n",
    "           old_d = d\n",
    "           xc, yc, R_2, residu, residu2, z, R= from_slice_circle(slicemax, slicemin, input, zcoord)\n",
    "           slicesnr = slicemax - slicemin -1\n",
    "           d = distance(z[-1], R[-1], xc, yc, R_2)\n",
    "           print \"New d=\", d\n",
    "if d > epsilon2:\n",
    "   print \"We added one too much. d has become bigger then epsilon ->d=\", d\n",
    "   slicemax = oldslicemax\n",
    "   d = old_d\n",
    "   print \"We subtract one slice again. Now slicemax=\", slicemax, \"And d=\", d\n",
    "                      \n",
    "print \"slicemax is\", slicemax, \"and its d is\", d        \n",
    "\n",
    "# Once we have the \"correct\" values of slicemin and slicemax we make the circle fit again\n",
    "xc, yc, R_2, residu, residu2, z, R= from_slice_circle(slicemax, slicemin, input, zcoord)\n",
    "print \"Once we have the correct values of slicemin and slicemax we make the circle fit again\"\n",
    "print \"xc, yc, R_2, residu, residu2\"\n",
    "print xc, yc, R_2, residu, residu2"
   ]
  },
  {
   "cell_type": "code",
   "execution_count": 92,
   "metadata": {
    "collapsed": false
   },
   "outputs": [
    {
     "name": "stdout",
     "output_type": "stream",
     "text": [
      "25 26 88\n",
      "shift= 1.44123\n"
     ]
    }
   ],
   "source": [
    "#We leave the slices below zero out of the fit\n",
    "if zeroslice > slicemin:\n",
    "   slicemin = zeroslice \n",
    "print zeroslice, slicemin, slicemax\n",
    "print \"shift=\", shift"
   ]
  },
  {
   "cell_type": "code",
   "execution_count": 98,
   "metadata": {
    "collapsed": false
   },
   "outputs": [
    {
     "name": "stdout",
     "output_type": "stream",
     "text": [
      "xc, yc, R_2, residu, residu2, z, R= from_slice_circle(slicemax, slicemin, input, zcoord)\n",
      "0.525363391823 0.0 3.52503324734 0.0111189921178 0.553284745476\n",
      "slicemax d= 0.016600798111 (slicemax=) 88\n",
      "slicemin d= 0.0283776015037 (slicemin=) 26\n"
     ]
    },
    {
     "data": {
      "text/plain": [
       "<matplotlib.text.Text at 0x10b0ea710>"
      ]
     },
     "execution_count": 98,
     "metadata": {},
     "output_type": "execute_result"
    },
    {
     "data": {
      "image/png": "[encoded data removed]",
      "text/plain": [
       "<matplotlib.figure.Figure at 0x10ee73e10>"
      ]
     },
     "metadata": {},
     "output_type": "display_data"
    }
   ],
   "source": [
    "#slicemin=44\n",
    "#slicemax=156\n",
    "xc, yc, R_2, residu,residiu2, z, R= from_slice_circle(slicemax, slicemin, input, zcoord)\n",
    "print \"xc, yc, R_2, residu, residu2, z, R= from_slice_circle(slicemax, slicemin, input, zcoord)\"\n",
    "print xc, yc, R_2, residu, residu2\n",
    "slicesnr = slicemax - slicemin\n",
    "d = distance(z[-1], R[-1], xc, yc, R_2)\n",
    "print \"slicemax d=\", d, \"(slicemax=)\", slicemax\n",
    "d = distance(z[0], R[0], xc, yc, R_2)\n",
    "print \"slicemin d=\", d, \"(slicemin=)\", slicemin\n",
    "theta_fit = linspace(-pi, pi, 180)\n",
    "x_fit2 = xc + R_2*cos(theta_fit)\n",
    "y_fit2 = yc + R_2*sin(theta_fit)\n",
    "plt.plot(x_fit2, y_fit2, color=\"blue\", label='method', lw=4)\n",
    "# plot(X, C, color=\"blue\", linewidth=2.5, linestyle=\"-\")\n",
    "#Set x limits\n",
    "xlim(0,7)\n",
    "# Set y limits\n",
    "ylim(0,7)\n",
    "plt.plot(z, R, 'k.', markersize=10)\n",
    "plt.ylabel('z [nm]',fontsize=22)\n",
    "plt.xlabel('R [nm]',fontsize=22)"
   ]
  },
  {
   "cell_type": "code",
   "execution_count": 94,
   "metadata": {
    "collapsed": false
   },
   "outputs": [
    {
     "name": "stdout",
     "output_type": "stream",
     "text": [
      "63\n"
     ]
    }
   ],
   "source": [
    "print len(R)"
   ]
  },
  {
   "cell_type": "code",
   "execution_count": 95,
   "metadata": {
    "collapsed": false
   },
   "outputs": [],
   "source": [
    "def angle(R, m):\n",
    "    t = m / np.sqrt(R**2 - m**2)\n",
    "    t2 = math.degrees(np.arctan(t)) + 90\n",
    "    return t2"
   ]
  },
  {
   "cell_type": "code",
   "execution_count": 96,
   "metadata": {
    "collapsed": false
   },
   "outputs": [],
   "source": [
    "def radius(R, m):\n",
    "    r = np.sqrt(R**2 - m**2)\n",
    "    return r"
   ]
  },
  {
   "cell_type": "code",
   "execution_count": 97,
   "metadata": {
    "collapsed": false
   },
   "outputs": [
    {
     "name": "stdout",
     "output_type": "stream",
     "text": [
      "The Contact Angle is   98.5711729394\n",
      "The base radius is   3.48566388244\n",
      "The circle paremeters are xc= 0.525363391823  Radius= 3.52503324734\n"
     ]
    }
   ],
   "source": [
    "theta = angle(R_2, xc)\n",
    "base_r = radius(R_2, xc)\n",
    "print \"The Contact Angle is  \", theta\n",
    "print \"The base radius is  \", base_r\n",
    "print \"The circle paremeters are xc=\",xc,\" Radius=\",R_2"
   ]
  },
  {
   "cell_type": "code",
   "execution_count": 39,
   "metadata": {
    "collapsed": false
   },
   "outputs": [
    {
     "name": "stdout",
     "output_type": "stream",
     "text": [
      "1.44123\n"
     ]
    }
   ],
   "source": [
    "print shift"
   ]
  },
  {
   "cell_type": "code",
   "execution_count": 40,
   "metadata": {
    "collapsed": false
   },
   "outputs": [],
   "source": [
    "# HERE WE CREATE TWO VECTORS WITH ALL THE FITTED POINTS RESULTING FROM THE SIGMOIDAL FIT APLLIED TO THE DENSITY DATA. THE RESULTING \n",
    "# VECTORS ARE Rprime and Zprime, where we save the coorsinates R and Z, which can be used later to choose the best points \n",
    "# for the circle fit. Rprime comes from the fit, and Zprime is a vector with the shifted positions of the slices.\n",
    "def fit_all(zcoord, input):\n",
    "    slicemin = 1\n",
    "    slicemax = 200\n",
    "    dims = slicemax - slicemin + 1\n",
    "    x = input[0]\n",
    "    i=0\n",
    "    Zprime = np.zeros(dims)\n",
    "    Rprime = np.zeros(dims)\n",
    "    #w = np.zeros(dims)\n",
    "    for a in range(slicemin, slicemax-1):\n",
    "        y2 = input[a]\n",
    "        i = a - slicemin\n",
    "        i = a\n",
    "        Zprime[i] = zcoord[a-1] \n",
    "    #    w[i] = 0.05*(a - 1) - 5.0 - shift -> Ahother way to determine z\n",
    "        At = guess(y2)\n",
    "        params, pcov2 = curve_fit(func, x, y2,[At, 2, 1], maxfev=10000)\n",
    "        Rprime[i] = params[1]\n",
    "    return Zprime, Rprime"
   ]
  },
  {
   "cell_type": "code",
   "execution_count": 41,
   "metadata": {
    "collapsed": false
   },
   "outputs": [
    {
     "data": {
      "image/png": "[encoded data removed]",
      "text/plain": [
       "<matplotlib.figure.Figure at 0x10facac50>"
      ]
     },
     "metadata": {},
     "output_type": "display_data"
    }
   ],
   "source": [
    "# WE PLOT Rprime and Zprime\n",
    "Zprime, Rprime = fit_all(zcoord, input)\n",
    "#fig = pl.figure()                  \n",
    "plt.plot(Rprime,Zprime, 'k.')\n",
    "#fig.suptitle(filename)\n",
    "plt.ylim(-3,9)\n",
    "plt.xlim(0,8)\n",
    "plt.ylabel('z [nm]')\n",
    "plt.xlabel('R [nm]')\n",
    "plt.grid(True)\n",
    "#x_fit2-xc"
   ]
  },
  {
   "cell_type": "code",
   "execution_count": 45,
   "metadata": {
    "collapsed": false
   },
   "outputs": [],
   "source": [
    "Rdummy =[]\n",
    "Zdummy =[]\n",
    "Rdummy = list(Rprime[0:slicemin+1])+list(Rprime[slicemax:-1])\n",
    "Zdummy = list(Zprime[0:slicemin+1])+list(Zprime[slicemax:-1])"
   ]
  },
  {
   "cell_type": "code",
   "execution_count": 46,
   "metadata": {
    "collapsed": false
   },
   "outputs": [
    {
     "name": "stdout",
     "output_type": "stream",
     "text": [
      "Traceback (most recent call last):\n",
      "  File \"/Users/eixeres/anaconda/lib/python2.7/site-packages/IPython/core/ultratb.py\", line 1118, in get_records\n",
      "    return _fixed_getinnerframes(etb, number_of_lines_of_context, tb_offset)\n",
      "  File \"/Users/eixeres/anaconda/lib/python2.7/site-packages/IPython/core/ultratb.py\", line 300, in wrapped\n",
      "    return f(*args, **kwargs)\n",
      "  File \"/Users/eixeres/anaconda/lib/python2.7/site-packages/IPython/core/ultratb.py\", line 345, in _fixed_getinnerframes\n",
      "    records = fix_frame_records_filenames(inspect.getinnerframes(etb, context))\n",
      "  File \"/Users/eixeres/anaconda/lib/python2.7/inspect.py\", line 1049, in getinnerframes\n",
      "    framelist.append((tb.tb_frame,) + getframeinfo(tb, context))\n",
      "  File \"/Users/eixeres/anaconda/lib/python2.7/inspect.py\", line 1009, in getframeinfo\n",
      "    filename = getsourcefile(frame) or getfile(frame)\n",
      "  File \"/Users/eixeres/anaconda/lib/python2.7/inspect.py\", line 454, in getsourcefile\n",
      "    if hasattr(getmodule(object, filename), '__loader__'):\n",
      "  File \"/Users/eixeres/anaconda/lib/python2.7/inspect.py\", line 483, in getmodule\n",
      "    file = getabsfile(object, _filename)\n",
      "  File \"/Users/eixeres/anaconda/lib/python2.7/inspect.py\", line 467, in getabsfile\n",
      "    return os.path.normcase(os.path.abspath(_filename))\n",
      "  File \"/Users/eixeres/anaconda/lib/python2.7/posixpath.py\", line 364, in abspath\n",
      "    cwd = os.getcwd()\n",
      "OSError: [Errno 2] No such file or directory\n"
     ]
    },
    {
     "name": "stderr",
     "output_type": "stream",
     "text": [
      "ERROR: Internal Python error in the inspect module.\n",
      "Below is the traceback from this internal error.\n",
      "\n",
      "\n",
      "Unfortunately, your original traceback can not be constructed.\n",
      "\n"
     ]
    },
    {
     "ename": "IndexError",
     "evalue": "string index out of range",
     "output_type": "error",
     "traceback": [
      "\u001b[0;31m---------------------------------------------------------------------------\u001b[0m",
      "\u001b[0;31mIndexError\u001b[0m                                Traceback (most recent call last)",
      "\u001b[0;32m/Users/eixeres/anaconda/lib/python2.7/site-packages/IPython/core/interactiveshell.pyc\u001b[0m in \u001b[0;36mrun_code\u001b[0;34m(self, code_obj, result)\u001b[0m\n\u001b[1;32m   2900\u001b[0m             \u001b[0;32mif\u001b[0m \u001b[0mresult\u001b[0m \u001b[0;32mis\u001b[0m \u001b[0;32mnot\u001b[0m \u001b[0mNone\u001b[0m\u001b[0;34m:\u001b[0m\u001b[0;34m\u001b[0m\u001b[0m\n\u001b[1;32m   2901\u001b[0m                 \u001b[0mresult\u001b[0m\u001b[0;34m.\u001b[0m\u001b[0merror_in_exec\u001b[0m \u001b[0;34m=\u001b[0m \u001b[0msys\u001b[0m\u001b[0;34m.\u001b[0m\u001b[0mexc_info\u001b[0m\u001b[0;34m(\u001b[0m\u001b[0;34m)\u001b[0m\u001b[0;34m[\u001b[0m\u001b[0;36m1\u001b[0m\u001b[0;34m]\u001b[0m\u001b[0;34m\u001b[0m\u001b[0m\n\u001b[0;32m-> 2902\u001b[0;31m             \u001b[0mself\u001b[0m\u001b[0;34m.\u001b[0m\u001b[0mshowtraceback\u001b[0m\u001b[0;34m(\u001b[0m\u001b[0;34m)\u001b[0m\u001b[0;34m\u001b[0m\u001b[0m\n\u001b[0m\u001b[1;32m   2903\u001b[0m         \u001b[0;32melse\u001b[0m\u001b[0;34m:\u001b[0m\u001b[0;34m\u001b[0m\u001b[0m\n\u001b[1;32m   2904\u001b[0m             \u001b[0moutflag\u001b[0m \u001b[0;34m=\u001b[0m \u001b[0;36m0\u001b[0m\u001b[0;34m\u001b[0m\u001b[0m\n",
      "\u001b[0;32m/Users/eixeres/anaconda/lib/python2.7/site-packages/IPython/core/interactiveshell.pyc\u001b[0m in \u001b[0;36mshowtraceback\u001b[0;34m(self, exc_tuple, filename, tb_offset, exception_only)\u001b[0m\n\u001b[1;32m   1828\u001b[0m                     \u001b[0;32mexcept\u001b[0m \u001b[0mException\u001b[0m\u001b[0;34m:\u001b[0m\u001b[0;34m\u001b[0m\u001b[0m\n\u001b[1;32m   1829\u001b[0m                         stb = self.InteractiveTB.structured_traceback(etype,\n\u001b[0;32m-> 1830\u001b[0;31m                                             value, tb, tb_offset=tb_offset)\n\u001b[0m\u001b[1;32m   1831\u001b[0m \u001b[0;34m\u001b[0m\u001b[0m\n\u001b[1;32m   1832\u001b[0m                     \u001b[0mself\u001b[0m\u001b[0;34m.\u001b[0m\u001b[0m_showtraceback\u001b[0m\u001b[0;34m(\u001b[0m\u001b[0metype\u001b[0m\u001b[0;34m,\u001b[0m \u001b[0mvalue\u001b[0m\u001b[0;34m,\u001b[0m \u001b[0mstb\u001b[0m\u001b[0;34m)\u001b[0m\u001b[0;34m\u001b[0m\u001b[0m\n",
      "\u001b[0;32m/Users/eixeres/anaconda/lib/python2.7/site-packages/IPython/core/ultratb.pyc\u001b[0m in \u001b[0;36mstructured_traceback\u001b[0;34m(self, etype, value, tb, tb_offset, number_of_lines_of_context)\u001b[0m\n\u001b[1;32m   1390\u001b[0m         \u001b[0mself\u001b[0m\u001b[0;34m.\u001b[0m\u001b[0mtb\u001b[0m \u001b[0;34m=\u001b[0m \u001b[0mtb\u001b[0m\u001b[0;34m\u001b[0m\u001b[0m\n\u001b[1;32m   1391\u001b[0m         return FormattedTB.structured_traceback(\n\u001b[0;32m-> 1392\u001b[0;31m             self, etype, value, tb, tb_offset, number_of_lines_of_context)\n\u001b[0m\u001b[1;32m   1393\u001b[0m \u001b[0;34m\u001b[0m\u001b[0m\n\u001b[1;32m   1394\u001b[0m \u001b[0;34m\u001b[0m\u001b[0m\n",
      "\u001b[0;32m/Users/eixeres/anaconda/lib/python2.7/site-packages/IPython/core/ultratb.pyc\u001b[0m in \u001b[0;36mstructured_traceback\u001b[0;34m(self, etype, value, tb, tb_offset, number_of_lines_of_context)\u001b[0m\n\u001b[1;32m   1298\u001b[0m             \u001b[0;31m# Verbose modes need a full traceback\u001b[0m\u001b[0;34m\u001b[0m\u001b[0;34m\u001b[0m\u001b[0m\n\u001b[1;32m   1299\u001b[0m             return VerboseTB.structured_traceback(\n\u001b[0;32m-> 1300\u001b[0;31m                 \u001b[0mself\u001b[0m\u001b[0;34m,\u001b[0m \u001b[0metype\u001b[0m\u001b[0;34m,\u001b[0m \u001b[0mvalue\u001b[0m\u001b[0;34m,\u001b[0m \u001b[0mtb\u001b[0m\u001b[0;34m,\u001b[0m \u001b[0mtb_offset\u001b[0m\u001b[0;34m,\u001b[0m \u001b[0mnumber_of_lines_of_context\u001b[0m\u001b[0;34m\u001b[0m\u001b[0m\n\u001b[0m\u001b[1;32m   1301\u001b[0m             )\n\u001b[1;32m   1302\u001b[0m         \u001b[0;32melse\u001b[0m\u001b[0;34m:\u001b[0m\u001b[0;34m\u001b[0m\u001b[0m\n",
      "\u001b[0;32m/Users/eixeres/anaconda/lib/python2.7/site-packages/IPython/core/ultratb.pyc\u001b[0m in \u001b[0;36mstructured_traceback\u001b[0;34m(self, etype, evalue, etb, tb_offset, number_of_lines_of_context)\u001b[0m\n\u001b[1;32m   1182\u001b[0m                 \u001b[0mstructured_traceback_parts\u001b[0m \u001b[0;34m+=\u001b[0m \u001b[0mformatted_exception\u001b[0m\u001b[0;34m\u001b[0m\u001b[0m\n\u001b[1;32m   1183\u001b[0m         \u001b[0;32melse\u001b[0m\u001b[0;34m:\u001b[0m\u001b[0;34m\u001b[0m\u001b[0m\n\u001b[0;32m-> 1184\u001b[0;31m             \u001b[0mstructured_traceback_parts\u001b[0m \u001b[0;34m+=\u001b[0m \u001b[0mformatted_exception\u001b[0m\u001b[0;34m[\u001b[0m\u001b[0;36m0\u001b[0m\u001b[0;34m]\u001b[0m\u001b[0;34m\u001b[0m\u001b[0m\n\u001b[0m\u001b[1;32m   1185\u001b[0m \u001b[0;34m\u001b[0m\u001b[0m\n\u001b[1;32m   1186\u001b[0m         \u001b[0;32mreturn\u001b[0m \u001b[0mstructured_traceback_parts\u001b[0m\u001b[0;34m\u001b[0m\u001b[0m\n",
      "\u001b[0;31mIndexError\u001b[0m: string index out of range"
     ]
    },
    {
     "data": {
      "image/png": "[encoded data removed]",
      "text/plain": [
       "<matplotlib.figure.Figure at 0x10febf550>"
      ]
     },
     "metadata": {},
     "output_type": "display_data"
    }
   ],
   "source": [
    "zeroline_x = np.linspace(0, 7.0, num=300)\n",
    "zeroline_y = np.zeros(300) \n",
    "line1, = plt.plot(zeroline_x,zeroline_y, '-',color=\"orange\",lw=2,label='SL-position used') #orange is better!!!\n",
    "\n",
    "zeroline_y2 = np.zeros(300)- abs(shift-shift2)\n",
    "line2, = plt.plot(zeroline_x,zeroline_y2, '-',color=\"black\",lw=2,label='GDS')\n",
    "\n",
    "zeroline_y3 = np.zeros(300)- abs(shift-shift3)\n",
    "line3, = plt.plot(zeroline_x,zeroline_y3, '-',color=\"green\",lw=2,label='SAM peak')\n",
    "\n",
    "\n",
    "theta_fit = linspace(-pi, pi, 180)\n",
    "x_fit2 = R_2*cos(theta_fit)\n",
    "y_fit2 = xc+R_2*sin(theta_fit)\n",
    "rcParams['legend.numpoints'] = 2\n",
    "circle1, = plt.plot(x_fit2, y_fit2,'--',color=\"brown\", label='Circle fit', lw=2)\n",
    "rcParams['legend.numpoints'] = 1\n",
    "# plot(X, C, color=\"blue\", linewidth=2.5, linestyle=\"-\")\n",
    "#Set x limits\n",
    "xlim(-5,5)\n",
    "# Set y limits\n",
    "ylim(-0.5,6.55)\n",
    "plt.ylabel('z [nm]',fontsize=22)\n",
    "plt.xlabel('Circle radius [nm]',fontsize=22)\n",
    "# WE PLOT Rprime and Zprime\n",
    "Zprime, Rprime = fit_all(zcoord, input)                 \n",
    "#circle2, = plt.plot(Rprime,Zprime, 'r.', label='All Points',markersize=7)\n",
    "circle2, = plt.plot(Rdummy,Zdummy, 'b.', label='Points dismissed',markersize=7)\n",
    "circle3, = plt.plot(R,z, '.',color=\"orange\",label='Points used for fit', markersize=7)\n",
    "plt.legend(handles=[circle1, circle3, circle2, line1,line2, line3],loc=2,fontsize=16)\n",
    "#plt.legend(loc=2, fontsize=16)\n",
    "fig = matplotlib.pyplot.gcf()\n",
    "\n",
    "xticks(fontsize=16)\n",
    "yticks(fontsize=16)\n",
    "\n",
    "titletext = r'$\\Phi = \\ $' +str(b)+ '\\%, $n_{W}=\\ $' +str(c)+ ', $t_0 = \\ $'+ str(int(starttime))+'ns'\n",
    "plt.suptitle(titletext,fontsize=20,fontweight='bold')\n",
    "\n",
    "fig.set_size_inches(7,5)\n",
    "plt.savefig(plotsfolder+circleplot, bbox_inches='tight',dpi=400)"
   ]
  },
  {
   "cell_type": "code",
   "execution_count": 47,
   "metadata": {
    "collapsed": false
   },
   "outputs": [
    {
     "name": "stdout",
     "output_type": "stream",
     "text": [
      "Traceback (most recent call last):\n",
      "  File \"/Users/eixeres/anaconda/lib/python2.7/site-packages/IPython/core/ultratb.py\", line 1118, in get_records\n",
      "    return _fixed_getinnerframes(etb, number_of_lines_of_context, tb_offset)\n",
      "  File \"/Users/eixeres/anaconda/lib/python2.7/site-packages/IPython/core/ultratb.py\", line 300, in wrapped\n",
      "    return f(*args, **kwargs)\n",
      "  File \"/Users/eixeres/anaconda/lib/python2.7/site-packages/IPython/core/ultratb.py\", line 345, in _fixed_getinnerframes\n",
      "    records = fix_frame_records_filenames(inspect.getinnerframes(etb, context))\n",
      "  File \"/Users/eixeres/anaconda/lib/python2.7/inspect.py\", line 1049, in getinnerframes\n",
      "    framelist.append((tb.tb_frame,) + getframeinfo(tb, context))\n",
      "  File \"/Users/eixeres/anaconda/lib/python2.7/inspect.py\", line 1009, in getframeinfo\n",
      "    filename = getsourcefile(frame) or getfile(frame)\n",
      "  File \"/Users/eixeres/anaconda/lib/python2.7/inspect.py\", line 454, in getsourcefile\n",
      "    if hasattr(getmodule(object, filename), '__loader__'):\n",
      "  File \"/Users/eixeres/anaconda/lib/python2.7/inspect.py\", line 483, in getmodule\n",
      "    file = getabsfile(object, _filename)\n",
      "  File \"/Users/eixeres/anaconda/lib/python2.7/inspect.py\", line 467, in getabsfile\n",
      "    return os.path.normcase(os.path.abspath(_filename))\n",
      "  File \"/Users/eixeres/anaconda/lib/python2.7/posixpath.py\", line 364, in abspath\n",
      "    cwd = os.getcwd()\n",
      "OSError: [Errno 2] No such file or directory\n"
     ]
    },
    {
     "name": "stderr",
     "output_type": "stream",
     "text": [
      "ERROR: Internal Python error in the inspect module.\n",
      "Below is the traceback from this internal error.\n",
      "\n",
      "\n",
      "Unfortunately, your original traceback can not be constructed.\n",
      "\n"
     ]
    },
    {
     "ename": "IndexError",
     "evalue": "string index out of range",
     "output_type": "error",
     "traceback": [
      "\u001b[0;31m---------------------------------------------------------------------------\u001b[0m",
      "\u001b[0;31mIndexError\u001b[0m                                Traceback (most recent call last)",
      "\u001b[0;32m/Users/eixeres/anaconda/lib/python2.7/site-packages/IPython/core/interactiveshell.pyc\u001b[0m in \u001b[0;36mrun_code\u001b[0;34m(self, code_obj, result)\u001b[0m\n\u001b[1;32m   2900\u001b[0m             \u001b[0;32mif\u001b[0m \u001b[0mresult\u001b[0m \u001b[0;32mis\u001b[0m \u001b[0;32mnot\u001b[0m \u001b[0mNone\u001b[0m\u001b[0;34m:\u001b[0m\u001b[0;34m\u001b[0m\u001b[0m\n\u001b[1;32m   2901\u001b[0m                 \u001b[0mresult\u001b[0m\u001b[0;34m.\u001b[0m\u001b[0merror_in_exec\u001b[0m \u001b[0;34m=\u001b[0m \u001b[0msys\u001b[0m\u001b[0;34m.\u001b[0m\u001b[0mexc_info\u001b[0m\u001b[0;34m(\u001b[0m\u001b[0;34m)\u001b[0m\u001b[0;34m[\u001b[0m\u001b[0;36m1\u001b[0m\u001b[0;34m]\u001b[0m\u001b[0;34m\u001b[0m\u001b[0m\n\u001b[0;32m-> 2902\u001b[0;31m             \u001b[0mself\u001b[0m\u001b[0;34m.\u001b[0m\u001b[0mshowtraceback\u001b[0m\u001b[0;34m(\u001b[0m\u001b[0;34m)\u001b[0m\u001b[0;34m\u001b[0m\u001b[0m\n\u001b[0m\u001b[1;32m   2903\u001b[0m         \u001b[0;32melse\u001b[0m\u001b[0;34m:\u001b[0m\u001b[0;34m\u001b[0m\u001b[0m\n\u001b[1;32m   2904\u001b[0m             \u001b[0moutflag\u001b[0m \u001b[0;34m=\u001b[0m \u001b[0;36m0\u001b[0m\u001b[0;34m\u001b[0m\u001b[0m\n",
      "\u001b[0;32m/Users/eixeres/anaconda/lib/python2.7/site-packages/IPython/core/interactiveshell.pyc\u001b[0m in \u001b[0;36mshowtraceback\u001b[0;34m(self, exc_tuple, filename, tb_offset, exception_only)\u001b[0m\n\u001b[1;32m   1828\u001b[0m                     \u001b[0;32mexcept\u001b[0m \u001b[0mException\u001b[0m\u001b[0;34m:\u001b[0m\u001b[0;34m\u001b[0m\u001b[0m\n\u001b[1;32m   1829\u001b[0m                         stb = self.InteractiveTB.structured_traceback(etype,\n\u001b[0;32m-> 1830\u001b[0;31m                                             value, tb, tb_offset=tb_offset)\n\u001b[0m\u001b[1;32m   1831\u001b[0m \u001b[0;34m\u001b[0m\u001b[0m\n\u001b[1;32m   1832\u001b[0m                     \u001b[0mself\u001b[0m\u001b[0;34m.\u001b[0m\u001b[0m_showtraceback\u001b[0m\u001b[0;34m(\u001b[0m\u001b[0metype\u001b[0m\u001b[0;34m,\u001b[0m \u001b[0mvalue\u001b[0m\u001b[0;34m,\u001b[0m \u001b[0mstb\u001b[0m\u001b[0;34m)\u001b[0m\u001b[0;34m\u001b[0m\u001b[0m\n",
      "\u001b[0;32m/Users/eixeres/anaconda/lib/python2.7/site-packages/IPython/core/ultratb.pyc\u001b[0m in \u001b[0;36mstructured_traceback\u001b[0;34m(self, etype, value, tb, tb_offset, number_of_lines_of_context)\u001b[0m\n\u001b[1;32m   1390\u001b[0m         \u001b[0mself\u001b[0m\u001b[0;34m.\u001b[0m\u001b[0mtb\u001b[0m \u001b[0;34m=\u001b[0m \u001b[0mtb\u001b[0m\u001b[0;34m\u001b[0m\u001b[0m\n\u001b[1;32m   1391\u001b[0m         return FormattedTB.structured_traceback(\n\u001b[0;32m-> 1392\u001b[0;31m             self, etype, value, tb, tb_offset, number_of_lines_of_context)\n\u001b[0m\u001b[1;32m   1393\u001b[0m \u001b[0;34m\u001b[0m\u001b[0m\n\u001b[1;32m   1394\u001b[0m \u001b[0;34m\u001b[0m\u001b[0m\n",
      "\u001b[0;32m/Users/eixeres/anaconda/lib/python2.7/site-packages/IPython/core/ultratb.pyc\u001b[0m in \u001b[0;36mstructured_traceback\u001b[0;34m(self, etype, value, tb, tb_offset, number_of_lines_of_context)\u001b[0m\n\u001b[1;32m   1298\u001b[0m             \u001b[0;31m# Verbose modes need a full traceback\u001b[0m\u001b[0;34m\u001b[0m\u001b[0;34m\u001b[0m\u001b[0m\n\u001b[1;32m   1299\u001b[0m             return VerboseTB.structured_traceback(\n\u001b[0;32m-> 1300\u001b[0;31m                 \u001b[0mself\u001b[0m\u001b[0;34m,\u001b[0m \u001b[0metype\u001b[0m\u001b[0;34m,\u001b[0m \u001b[0mvalue\u001b[0m\u001b[0;34m,\u001b[0m \u001b[0mtb\u001b[0m\u001b[0;34m,\u001b[0m \u001b[0mtb_offset\u001b[0m\u001b[0;34m,\u001b[0m \u001b[0mnumber_of_lines_of_context\u001b[0m\u001b[0;34m\u001b[0m\u001b[0m\n\u001b[0m\u001b[1;32m   1301\u001b[0m             )\n\u001b[1;32m   1302\u001b[0m         \u001b[0;32melse\u001b[0m\u001b[0;34m:\u001b[0m\u001b[0;34m\u001b[0m\u001b[0m\n",
      "\u001b[0;32m/Users/eixeres/anaconda/lib/python2.7/site-packages/IPython/core/ultratb.pyc\u001b[0m in \u001b[0;36mstructured_traceback\u001b[0;34m(self, etype, evalue, etb, tb_offset, number_of_lines_of_context)\u001b[0m\n\u001b[1;32m   1182\u001b[0m                 \u001b[0mstructured_traceback_parts\u001b[0m \u001b[0;34m+=\u001b[0m \u001b[0mformatted_exception\u001b[0m\u001b[0;34m\u001b[0m\u001b[0m\n\u001b[1;32m   1183\u001b[0m         \u001b[0;32melse\u001b[0m\u001b[0;34m:\u001b[0m\u001b[0;34m\u001b[0m\u001b[0m\n\u001b[0;32m-> 1184\u001b[0;31m             \u001b[0mstructured_traceback_parts\u001b[0m \u001b[0;34m+=\u001b[0m \u001b[0mformatted_exception\u001b[0m\u001b[0;34m[\u001b[0m\u001b[0;36m0\u001b[0m\u001b[0;34m]\u001b[0m\u001b[0;34m\u001b[0m\u001b[0m\n\u001b[0m\u001b[1;32m   1185\u001b[0m \u001b[0;34m\u001b[0m\u001b[0m\n\u001b[1;32m   1186\u001b[0m         \u001b[0;32mreturn\u001b[0m \u001b[0mstructured_traceback_parts\u001b[0m\u001b[0;34m\u001b[0m\u001b[0m\n",
      "\u001b[0;31mIndexError\u001b[0m: string index out of range"
     ]
    }
   ],
   "source": [
    "print abs(shift-shift2)\n",
    "print abs(shift-shift3)\n",
    "print shift, shift2, shift3"
   ]
  },
  {
   "cell_type": "code",
   "execution_count": 48,
   "metadata": {
    "collapsed": false
   },
   "outputs": [
    {
     "name": "stdout",
     "output_type": "stream",
     "text": [
      "Traceback (most recent call last):\n",
      "  File \"/Users/eixeres/anaconda/lib/python2.7/site-packages/IPython/core/ultratb.py\", line 1118, in get_records\n",
      "    return _fixed_getinnerframes(etb, number_of_lines_of_context, tb_offset)\n",
      "  File \"/Users/eixeres/anaconda/lib/python2.7/site-packages/IPython/core/ultratb.py\", line 300, in wrapped\n",
      "    return f(*args, **kwargs)\n",
      "  File \"/Users/eixeres/anaconda/lib/python2.7/site-packages/IPython/core/ultratb.py\", line 345, in _fixed_getinnerframes\n",
      "    records = fix_frame_records_filenames(inspect.getinnerframes(etb, context))\n",
      "  File \"/Users/eixeres/anaconda/lib/python2.7/inspect.py\", line 1049, in getinnerframes\n",
      "    framelist.append((tb.tb_frame,) + getframeinfo(tb, context))\n",
      "  File \"/Users/eixeres/anaconda/lib/python2.7/inspect.py\", line 1009, in getframeinfo\n",
      "    filename = getsourcefile(frame) or getfile(frame)\n",
      "  File \"/Users/eixeres/anaconda/lib/python2.7/inspect.py\", line 454, in getsourcefile\n",
      "    if hasattr(getmodule(object, filename), '__loader__'):\n",
      "  File \"/Users/eixeres/anaconda/lib/python2.7/inspect.py\", line 483, in getmodule\n",
      "    file = getabsfile(object, _filename)\n",
      "  File \"/Users/eixeres/anaconda/lib/python2.7/inspect.py\", line 467, in getabsfile\n",
      "    return os.path.normcase(os.path.abspath(_filename))\n",
      "  File \"/Users/eixeres/anaconda/lib/python2.7/posixpath.py\", line 364, in abspath\n",
      "    cwd = os.getcwd()\n",
      "OSError: [Errno 2] No such file or directory\n"
     ]
    },
    {
     "name": "stderr",
     "output_type": "stream",
     "text": [
      "ERROR: Internal Python error in the inspect module.\n",
      "Below is the traceback from this internal error.\n",
      "\n",
      "\n",
      "Unfortunately, your original traceback can not be constructed.\n",
      "\n"
     ]
    },
    {
     "ename": "IndexError",
     "evalue": "string index out of range",
     "output_type": "error",
     "traceback": [
      "\u001b[0;31m---------------------------------------------------------------------------\u001b[0m",
      "\u001b[0;31mIndexError\u001b[0m                                Traceback (most recent call last)",
      "\u001b[0;32m/Users/eixeres/anaconda/lib/python2.7/site-packages/IPython/core/interactiveshell.pyc\u001b[0m in \u001b[0;36mrun_code\u001b[0;34m(self, code_obj, result)\u001b[0m\n\u001b[1;32m   2900\u001b[0m             \u001b[0;32mif\u001b[0m \u001b[0mresult\u001b[0m \u001b[0;32mis\u001b[0m \u001b[0;32mnot\u001b[0m \u001b[0mNone\u001b[0m\u001b[0;34m:\u001b[0m\u001b[0;34m\u001b[0m\u001b[0m\n\u001b[1;32m   2901\u001b[0m                 \u001b[0mresult\u001b[0m\u001b[0;34m.\u001b[0m\u001b[0merror_in_exec\u001b[0m \u001b[0;34m=\u001b[0m \u001b[0msys\u001b[0m\u001b[0;34m.\u001b[0m\u001b[0mexc_info\u001b[0m\u001b[0;34m(\u001b[0m\u001b[0;34m)\u001b[0m\u001b[0;34m[\u001b[0m\u001b[0;36m1\u001b[0m\u001b[0;34m]\u001b[0m\u001b[0;34m\u001b[0m\u001b[0m\n\u001b[0;32m-> 2902\u001b[0;31m             \u001b[0mself\u001b[0m\u001b[0;34m.\u001b[0m\u001b[0mshowtraceback\u001b[0m\u001b[0;34m(\u001b[0m\u001b[0;34m)\u001b[0m\u001b[0;34m\u001b[0m\u001b[0m\n\u001b[0m\u001b[1;32m   2903\u001b[0m         \u001b[0;32melse\u001b[0m\u001b[0;34m:\u001b[0m\u001b[0;34m\u001b[0m\u001b[0m\n\u001b[1;32m   2904\u001b[0m             \u001b[0moutflag\u001b[0m \u001b[0;34m=\u001b[0m \u001b[0;36m0\u001b[0m\u001b[0;34m\u001b[0m\u001b[0m\n",
      "\u001b[0;32m/Users/eixeres/anaconda/lib/python2.7/site-packages/IPython/core/interactiveshell.pyc\u001b[0m in \u001b[0;36mshowtraceback\u001b[0;34m(self, exc_tuple, filename, tb_offset, exception_only)\u001b[0m\n\u001b[1;32m   1828\u001b[0m                     \u001b[0;32mexcept\u001b[0m \u001b[0mException\u001b[0m\u001b[0;34m:\u001b[0m\u001b[0;34m\u001b[0m\u001b[0m\n\u001b[1;32m   1829\u001b[0m                         stb = self.InteractiveTB.structured_traceback(etype,\n\u001b[0;32m-> 1830\u001b[0;31m                                             value, tb, tb_offset=tb_offset)\n\u001b[0m\u001b[1;32m   1831\u001b[0m \u001b[0;34m\u001b[0m\u001b[0m\n\u001b[1;32m   1832\u001b[0m                     \u001b[0mself\u001b[0m\u001b[0;34m.\u001b[0m\u001b[0m_showtraceback\u001b[0m\u001b[0;34m(\u001b[0m\u001b[0metype\u001b[0m\u001b[0;34m,\u001b[0m \u001b[0mvalue\u001b[0m\u001b[0;34m,\u001b[0m \u001b[0mstb\u001b[0m\u001b[0;34m)\u001b[0m\u001b[0;34m\u001b[0m\u001b[0m\n",
      "\u001b[0;32m/Users/eixeres/anaconda/lib/python2.7/site-packages/IPython/core/ultratb.pyc\u001b[0m in \u001b[0;36mstructured_traceback\u001b[0;34m(self, etype, value, tb, tb_offset, number_of_lines_of_context)\u001b[0m\n\u001b[1;32m   1390\u001b[0m         \u001b[0mself\u001b[0m\u001b[0;34m.\u001b[0m\u001b[0mtb\u001b[0m \u001b[0;34m=\u001b[0m \u001b[0mtb\u001b[0m\u001b[0;34m\u001b[0m\u001b[0m\n\u001b[1;32m   1391\u001b[0m         return FormattedTB.structured_traceback(\n\u001b[0;32m-> 1392\u001b[0;31m             self, etype, value, tb, tb_offset, number_of_lines_of_context)\n\u001b[0m\u001b[1;32m   1393\u001b[0m \u001b[0;34m\u001b[0m\u001b[0m\n\u001b[1;32m   1394\u001b[0m \u001b[0;34m\u001b[0m\u001b[0m\n",
      "\u001b[0;32m/Users/eixeres/anaconda/lib/python2.7/site-packages/IPython/core/ultratb.pyc\u001b[0m in \u001b[0;36mstructured_traceback\u001b[0;34m(self, etype, value, tb, tb_offset, number_of_lines_of_context)\u001b[0m\n\u001b[1;32m   1298\u001b[0m             \u001b[0;31m# Verbose modes need a full traceback\u001b[0m\u001b[0;34m\u001b[0m\u001b[0;34m\u001b[0m\u001b[0m\n\u001b[1;32m   1299\u001b[0m             return VerboseTB.structured_traceback(\n\u001b[0;32m-> 1300\u001b[0;31m                 \u001b[0mself\u001b[0m\u001b[0;34m,\u001b[0m \u001b[0metype\u001b[0m\u001b[0;34m,\u001b[0m \u001b[0mvalue\u001b[0m\u001b[0;34m,\u001b[0m \u001b[0mtb\u001b[0m\u001b[0;34m,\u001b[0m \u001b[0mtb_offset\u001b[0m\u001b[0;34m,\u001b[0m \u001b[0mnumber_of_lines_of_context\u001b[0m\u001b[0;34m\u001b[0m\u001b[0m\n\u001b[0m\u001b[1;32m   1301\u001b[0m             )\n\u001b[1;32m   1302\u001b[0m         \u001b[0;32melse\u001b[0m\u001b[0;34m:\u001b[0m\u001b[0;34m\u001b[0m\u001b[0m\n",
      "\u001b[0;32m/Users/eixeres/anaconda/lib/python2.7/site-packages/IPython/core/ultratb.pyc\u001b[0m in \u001b[0;36mstructured_traceback\u001b[0;34m(self, etype, evalue, etb, tb_offset, number_of_lines_of_context)\u001b[0m\n\u001b[1;32m   1182\u001b[0m                 \u001b[0mstructured_traceback_parts\u001b[0m \u001b[0;34m+=\u001b[0m \u001b[0mformatted_exception\u001b[0m\u001b[0;34m\u001b[0m\u001b[0m\n\u001b[1;32m   1183\u001b[0m         \u001b[0;32melse\u001b[0m\u001b[0;34m:\u001b[0m\u001b[0;34m\u001b[0m\u001b[0m\n\u001b[0;32m-> 1184\u001b[0;31m             \u001b[0mstructured_traceback_parts\u001b[0m \u001b[0;34m+=\u001b[0m \u001b[0mformatted_exception\u001b[0m\u001b[0;34m[\u001b[0m\u001b[0;36m0\u001b[0m\u001b[0;34m]\u001b[0m\u001b[0;34m\u001b[0m\u001b[0m\n\u001b[0m\u001b[1;32m   1185\u001b[0m \u001b[0;34m\u001b[0m\u001b[0m\n\u001b[1;32m   1186\u001b[0m         \u001b[0;32mreturn\u001b[0m \u001b[0mstructured_traceback_parts\u001b[0m\u001b[0;34m\u001b[0m\u001b[0m\n",
      "\u001b[0;31mIndexError\u001b[0m: string index out of range"
     ]
    }
   ],
   "source": [
    "zeroline_x = np.linspace(0, 7.0, num=300)\n",
    "\n",
    "zeroline_y3 = np.zeros(300)+ abs(shift-shift3)\n",
    "plt.plot(zeroline_x,zeroline_y3, '-',color=\"orange\",label='First Water Position',lw=2)\n",
    "\n",
    "zeroline_y2 = np.zeros(300)+ abs(shift-shift2)\n",
    "plt.plot(zeroline_x,zeroline_y2, 'b-', label='GDS position')\n",
    "\n",
    "zeroline_y = np.zeros(300) \n",
    "plt.plot(zeroline_x,zeroline_y, 'g-', label='Last SAM Peak Postition',lw=2)\n",
    "\n",
    "\n",
    "theta_fit = linspace(-pi, pi, 180)\n",
    "x_fit2 = R_2*cos(theta_fit)\n",
    "y_fit2 = xc+R_2*sin(theta_fit)\n",
    "#x_fit222 = R_222*cos(theta_fit)\n",
    "#y_fit222 = xc22+R_222*sin(theta_fit)\n",
    "plt.plot(x_fit2, y_fit2,'-',color=\"orange\", lw=2)\n",
    "plt.plot(x_fit222, y_fit222,'-',color=\"green\", lw=2)\n",
    "#plt.plot(x_fit2, y_fit2,'-',color=\"black\", label='Last SAM Peak as z=0', lw=2)\n",
    "#plt.plot(x_fit222, y_fit222,'-',color=\"black\", label='First Water Peak as z=0', lw=2)\n",
    "#Set x limits\n",
    "xlim(0,7)\n",
    "# Set y limits\n",
    "ylim(-1,8)\n",
    "plt.ylabel('z [nm]',fontsize=22)\n",
    "plt.xlabel('R [nm]',fontsize=22)\n",
    "# WE PLOT Rprime and Zprime\n",
    "Zprime, Rprime = fit_all(zcoord, input)                 \n",
    "####plt.plot(Rdummy,Zdummy, 'r.', label='SP:Points Not Used for Fit',markersize=7)\n",
    "####plt.plot(Rdummy22,Zdummy22, 'b.', label='WP:Points Not Used for Fit',markersize=7)\n",
    "#plt.plot(R,z, 'g.',label='SP:Points Used for Fit', markersize=7)\n",
    "#plt.plot(R22,z22, '.',color=\"orange\",label='WP:Points Used for Fit', markersize=7)\n",
    "plt.plot(R,z, 'k.', markersize=7)\n",
    "plt.plot(R22,z22, 'k.',label='Points Used for Fit', markersize=7)\n",
    "rcParams['legend.numpoints'] = 1\n",
    "####plt.legend(handles=[circle1, circle3, circle2])\n",
    "plt.legend()\n",
    "fig = matplotlib.pyplot.gcf()\n",
    "fig.set_size_inches(7,5)\n",
    "#pylab.savefig(plotsfolder+'3'+circleplot, bbox_inches='tight', pad_inches=0,dpi=300)"
   ]
  },
  {
   "cell_type": "code",
   "execution_count": 49,
   "metadata": {
    "collapsed": false
   },
   "outputs": [
    {
     "name": "stdout",
     "output_type": "stream",
     "text": [
      "Traceback (most recent call last):\n",
      "  File \"/Users/eixeres/anaconda/lib/python2.7/site-packages/IPython/core/ultratb.py\", line 1118, in get_records\n",
      "    return _fixed_getinnerframes(etb, number_of_lines_of_context, tb_offset)\n",
      "  File \"/Users/eixeres/anaconda/lib/python2.7/site-packages/IPython/core/ultratb.py\", line 300, in wrapped\n",
      "    return f(*args, **kwargs)\n",
      "  File \"/Users/eixeres/anaconda/lib/python2.7/site-packages/IPython/core/ultratb.py\", line 345, in _fixed_getinnerframes\n",
      "    records = fix_frame_records_filenames(inspect.getinnerframes(etb, context))\n",
      "  File \"/Users/eixeres/anaconda/lib/python2.7/inspect.py\", line 1049, in getinnerframes\n",
      "    framelist.append((tb.tb_frame,) + getframeinfo(tb, context))\n",
      "  File \"/Users/eixeres/anaconda/lib/python2.7/inspect.py\", line 1009, in getframeinfo\n",
      "    filename = getsourcefile(frame) or getfile(frame)\n",
      "  File \"/Users/eixeres/anaconda/lib/python2.7/inspect.py\", line 454, in getsourcefile\n",
      "    if hasattr(getmodule(object, filename), '__loader__'):\n",
      "  File \"/Users/eixeres/anaconda/lib/python2.7/inspect.py\", line 483, in getmodule\n",
      "    file = getabsfile(object, _filename)\n",
      "  File \"/Users/eixeres/anaconda/lib/python2.7/inspect.py\", line 467, in getabsfile\n",
      "    return os.path.normcase(os.path.abspath(_filename))\n",
      "  File \"/Users/eixeres/anaconda/lib/python2.7/posixpath.py\", line 364, in abspath\n",
      "    cwd = os.getcwd()\n",
      "OSError: [Errno 2] No such file or directory\n"
     ]
    },
    {
     "name": "stderr",
     "output_type": "stream",
     "text": [
      "ERROR: Internal Python error in the inspect module.\n",
      "Below is the traceback from this internal error.\n",
      "\n",
      "\n",
      "Unfortunately, your original traceback can not be constructed.\n",
      "\n"
     ]
    },
    {
     "ename": "IndexError",
     "evalue": "string index out of range",
     "output_type": "error",
     "traceback": [
      "\u001b[0;31m---------------------------------------------------------------------------\u001b[0m",
      "\u001b[0;31mIndexError\u001b[0m                                Traceback (most recent call last)",
      "\u001b[0;32m/Users/eixeres/anaconda/lib/python2.7/site-packages/IPython/core/interactiveshell.pyc\u001b[0m in \u001b[0;36mrun_code\u001b[0;34m(self, code_obj, result)\u001b[0m\n\u001b[1;32m   2900\u001b[0m             \u001b[0;32mif\u001b[0m \u001b[0mresult\u001b[0m \u001b[0;32mis\u001b[0m \u001b[0;32mnot\u001b[0m \u001b[0mNone\u001b[0m\u001b[0;34m:\u001b[0m\u001b[0;34m\u001b[0m\u001b[0m\n\u001b[1;32m   2901\u001b[0m                 \u001b[0mresult\u001b[0m\u001b[0;34m.\u001b[0m\u001b[0merror_in_exec\u001b[0m \u001b[0;34m=\u001b[0m \u001b[0msys\u001b[0m\u001b[0;34m.\u001b[0m\u001b[0mexc_info\u001b[0m\u001b[0;34m(\u001b[0m\u001b[0;34m)\u001b[0m\u001b[0;34m[\u001b[0m\u001b[0;36m1\u001b[0m\u001b[0;34m]\u001b[0m\u001b[0;34m\u001b[0m\u001b[0m\n\u001b[0;32m-> 2902\u001b[0;31m             \u001b[0mself\u001b[0m\u001b[0;34m.\u001b[0m\u001b[0mshowtraceback\u001b[0m\u001b[0;34m(\u001b[0m\u001b[0;34m)\u001b[0m\u001b[0;34m\u001b[0m\u001b[0m\n\u001b[0m\u001b[1;32m   2903\u001b[0m         \u001b[0;32melse\u001b[0m\u001b[0;34m:\u001b[0m\u001b[0;34m\u001b[0m\u001b[0m\n\u001b[1;32m   2904\u001b[0m             \u001b[0moutflag\u001b[0m \u001b[0;34m=\u001b[0m \u001b[0;36m0\u001b[0m\u001b[0;34m\u001b[0m\u001b[0m\n",
      "\u001b[0;32m/Users/eixeres/anaconda/lib/python2.7/site-packages/IPython/core/interactiveshell.pyc\u001b[0m in \u001b[0;36mshowtraceback\u001b[0;34m(self, exc_tuple, filename, tb_offset, exception_only)\u001b[0m\n\u001b[1;32m   1828\u001b[0m                     \u001b[0;32mexcept\u001b[0m \u001b[0mException\u001b[0m\u001b[0;34m:\u001b[0m\u001b[0;34m\u001b[0m\u001b[0m\n\u001b[1;32m   1829\u001b[0m                         stb = self.InteractiveTB.structured_traceback(etype,\n\u001b[0;32m-> 1830\u001b[0;31m                                             value, tb, tb_offset=tb_offset)\n\u001b[0m\u001b[1;32m   1831\u001b[0m \u001b[0;34m\u001b[0m\u001b[0m\n\u001b[1;32m   1832\u001b[0m                     \u001b[0mself\u001b[0m\u001b[0;34m.\u001b[0m\u001b[0m_showtraceback\u001b[0m\u001b[0;34m(\u001b[0m\u001b[0metype\u001b[0m\u001b[0;34m,\u001b[0m \u001b[0mvalue\u001b[0m\u001b[0;34m,\u001b[0m \u001b[0mstb\u001b[0m\u001b[0;34m)\u001b[0m\u001b[0;34m\u001b[0m\u001b[0m\n",
      "\u001b[0;32m/Users/eixeres/anaconda/lib/python2.7/site-packages/IPython/core/ultratb.pyc\u001b[0m in \u001b[0;36mstructured_traceback\u001b[0;34m(self, etype, value, tb, tb_offset, number_of_lines_of_context)\u001b[0m\n\u001b[1;32m   1390\u001b[0m         \u001b[0mself\u001b[0m\u001b[0;34m.\u001b[0m\u001b[0mtb\u001b[0m \u001b[0;34m=\u001b[0m \u001b[0mtb\u001b[0m\u001b[0;34m\u001b[0m\u001b[0m\n\u001b[1;32m   1391\u001b[0m         return FormattedTB.structured_traceback(\n\u001b[0;32m-> 1392\u001b[0;31m             self, etype, value, tb, tb_offset, number_of_lines_of_context)\n\u001b[0m\u001b[1;32m   1393\u001b[0m \u001b[0;34m\u001b[0m\u001b[0m\n\u001b[1;32m   1394\u001b[0m \u001b[0;34m\u001b[0m\u001b[0m\n",
      "\u001b[0;32m/Users/eixeres/anaconda/lib/python2.7/site-packages/IPython/core/ultratb.pyc\u001b[0m in \u001b[0;36mstructured_traceback\u001b[0;34m(self, etype, value, tb, tb_offset, number_of_lines_of_context)\u001b[0m\n\u001b[1;32m   1298\u001b[0m             \u001b[0;31m# Verbose modes need a full traceback\u001b[0m\u001b[0;34m\u001b[0m\u001b[0;34m\u001b[0m\u001b[0m\n\u001b[1;32m   1299\u001b[0m             return VerboseTB.structured_traceback(\n\u001b[0;32m-> 1300\u001b[0;31m                 \u001b[0mself\u001b[0m\u001b[0;34m,\u001b[0m \u001b[0metype\u001b[0m\u001b[0;34m,\u001b[0m \u001b[0mvalue\u001b[0m\u001b[0;34m,\u001b[0m \u001b[0mtb\u001b[0m\u001b[0;34m,\u001b[0m \u001b[0mtb_offset\u001b[0m\u001b[0;34m,\u001b[0m \u001b[0mnumber_of_lines_of_context\u001b[0m\u001b[0;34m\u001b[0m\u001b[0m\n\u001b[0m\u001b[1;32m   1301\u001b[0m             )\n\u001b[1;32m   1302\u001b[0m         \u001b[0;32melse\u001b[0m\u001b[0;34m:\u001b[0m\u001b[0;34m\u001b[0m\u001b[0m\n",
      "\u001b[0;32m/Users/eixeres/anaconda/lib/python2.7/site-packages/IPython/core/ultratb.pyc\u001b[0m in \u001b[0;36mstructured_traceback\u001b[0;34m(self, etype, evalue, etb, tb_offset, number_of_lines_of_context)\u001b[0m\n\u001b[1;32m   1182\u001b[0m                 \u001b[0mstructured_traceback_parts\u001b[0m \u001b[0;34m+=\u001b[0m \u001b[0mformatted_exception\u001b[0m\u001b[0;34m\u001b[0m\u001b[0m\n\u001b[1;32m   1183\u001b[0m         \u001b[0;32melse\u001b[0m\u001b[0;34m:\u001b[0m\u001b[0;34m\u001b[0m\u001b[0m\n\u001b[0;32m-> 1184\u001b[0;31m             \u001b[0mstructured_traceback_parts\u001b[0m \u001b[0;34m+=\u001b[0m \u001b[0mformatted_exception\u001b[0m\u001b[0;34m[\u001b[0m\u001b[0;36m0\u001b[0m\u001b[0;34m]\u001b[0m\u001b[0;34m\u001b[0m\u001b[0m\n\u001b[0m\u001b[1;32m   1185\u001b[0m \u001b[0;34m\u001b[0m\u001b[0m\n\u001b[1;32m   1186\u001b[0m         \u001b[0;32mreturn\u001b[0m \u001b[0mstructured_traceback_parts\u001b[0m\u001b[0;34m\u001b[0m\u001b[0m\n",
      "\u001b[0;31mIndexError\u001b[0m: string index out of range"
     ]
    },
    {
     "data": {
      "image/png": "[encoded data removed]",
      "text/plain": [
       "<matplotlib.figure.Figure at 0x10fe72990>"
      ]
     },
     "metadata": {},
     "output_type": "display_data"
    }
   ],
   "source": [
    "zeroline_x = np.linspace(0, 7.0, num=300)\n",
    "\n",
    "\n",
    "anglelinex=(R_2-0.5)+cos(radians(theta-90))*zeroline_x\n",
    "angleliney=sin(radians(theta-90))*zeroline_x\n",
    "plt.plot(anglelinex,angleliney)\n",
    "anglelinex22=(R_222-0.7)+cos(radians(radians(theta22-90)))*zeroline_x\n",
    "angleliney22=sin(radians(theta22-90))*zeroline_x\n",
    "plt.plot(anglelinex22,angleliney22)\n",
    "\n",
    "zeroline_y3 = np.zeros(300)+ abs(shift-shift3)\n",
    "plt.plot(zeroline_x,zeroline_y3, '-',color=\"orange\",label='First Water Position',lw=2)\n",
    "\n",
    "zeroline_y2 = np.zeros(300)+ abs(shift-shift2)\n",
    "plt.plot(zeroline_x,zeroline_y2, 'k-', label='GDS position')\n",
    "\n",
    "zeroline_y = np.zeros(300) \n",
    "plt.plot(zeroline_x,zeroline_y, 'g-', label='Last SAM Peak Postition',lw=2)\n",
    "\n",
    "\n",
    "theta_fit = linspace(-pi, pi, 180)\n",
    "x_fit2 = R_2*cos(theta_fit)\n",
    "y_fit2 = xc+R_2*sin(theta_fit)\n",
    "x_fit222 = R_222*cos(theta_fit)\n",
    "y_fit222 = xc22+R_222*sin(theta_fit)\n",
    "plt.plot(x_fit2, y_fit2,'-',color=\"orange\", lw=2)\n",
    "plt.plot(x_fit222, y_fit222,'-',color=\"green\", lw=2)\n",
    "#plt.plot(x_fit2, y_fit2,'-',color=\"black\", label='Last SAM Peak as z=0', lw=2)\n",
    "#plt.plot(x_fit222, y_fit222,'-',color=\"black\", label='First Water Peak as z=0', lw=2)\n",
    "#Set x limits\n",
    "xlim(0,7)\n",
    "# Set y limits\n",
    "ylim(-1,6)\n",
    "plt.ylabel('z [nm]',fontsize=22)\n",
    "plt.xlabel('R [nm]',fontsize=22)\n",
    "# WE PLOT Rprime and Zprime\n",
    "Zprime, Rprime = fit_all(zcoord, input)                 \n",
    "####plt.plot(Rdummy,Zdummy, 'r.', label='SP:Points Not Used for Fit',markersize=7)\n",
    "####plt.plot(Rdummy22,Zdummy22, 'b.', label='WP:Points Not Used for Fit',markersize=7)\n",
    "#plt.plot(R,z, 'g.',label='SP:Points Used for Fit', markersize=7)\n",
    "#plt.plot(R22,z22, '.',color=\"orange\",label='WP:Points Used for Fit', markersize=7)\n",
    "plt.plot(R,z, 'k.', markersize=7)\n",
    "plt.plot(R22,z22, 'k.',label='Points Used for Fit', markersize=7)\n",
    "rcParams['legend.numpoints'] = 1\n",
    "####plt.legend(handles=[circle1, circle3, circle2])\n",
    "plt.legend()\n",
    "fig = matplotlib.pyplot.gcf()\n",
    "fig.set_size_inches(7,5)\n",
    "#pylab.savefig(plotsfolder+'3'+circleplot, bbox_inches='tight', pad_inches=0,dpi=300)"
   ]
  },
  {
   "cell_type": "code",
   "execution_count": 50,
   "metadata": {
    "collapsed": false
   },
   "outputs": [
    {
     "name": "stdout",
     "output_type": "stream",
     "text": [
      "200 200 7.85877\n"
     ]
    }
   ],
   "source": [
    "print len(Rprime), len(Zprime), Zprime[156]"
   ]
  },
  {
   "cell_type": "code",
   "execution_count": 51,
   "metadata": {
    "collapsed": false
   },
   "outputs": [],
   "source": [
    "# HERE WE EXTRACT FROM Zprime AND Rprime THE POINTS CORRESPONDING TO THE SLICES BETWEEN SLICEMAX AND SLICEMIN TO TEST THE CIRCLE FIT\n",
    "#slicemin = 45\n",
    "#slicemax = 156\n",
    "dims = slicemax - slicemin + 1\n",
    "i=0\n",
    "Zprime2 = np.zeros(dims)\n",
    "Rprime2 = np.zeros(dims)\n",
    "for a in range(slicemin, slicemax+1):\n",
    "        i = a - slicemin\n",
    "        Zprime2[i] = Zprime[a-1]\n",
    "        Rprime2[i] = Rprime[a-1]"
   ]
  },
  {
   "cell_type": "code",
   "execution_count": 52,
   "metadata": {
    "collapsed": false
   },
   "outputs": [
    {
     "name": "stdout",
     "output_type": "stream",
     "text": [
      "[0.0, -1.44123, -1.38123, -1.3212299999999999, -1.2612300000000001, -1.20123, -1.14123, -1.0812300000000001, -1.0212300000000001, -0.96123000000000003, -0.90122999999999998, -0.84123000000000003, -0.78123000000000009, -0.72123000000000004, -0.66122999999999998, -0.60123000000000004, -0.5412300000000001, -0.48123000000000005, -0.42122999999999999, -0.36122999999999994, -0.30123000000000011, -0.24123000000000006, -0.18123, -0.12123000000000017, -0.061230000000000118, -0.0012300000000000644, 4.1387700000000001, 4.1987699999999997, 4.2587700000000002, 4.3187699999999998, 4.3787699999999994, 4.4387699999999999, 4.4987699999999995, 4.55877, 4.6187699999999996, 4.6787700000000001, 4.7387699999999997, 4.7987700000000002, 4.8587699999999998, 4.9187699999999994, 4.9787699999999999, 5.0387699999999995, 5.09877, 5.1587699999999996, 5.2187700000000001, 5.2787699999999997, 5.3387699999999993, 5.3987699999999998, 5.4587699999999995, 5.51877, 5.5787699999999996, 5.6387700000000001, 5.6987699999999997, 5.7587699999999993, 5.8187699999999998, 5.8787699999999994, 5.9387699999999999, 5.9987699999999995, 6.05877, 6.1187699999999996, 6.1787700000000001, 6.2387699999999997, 6.2987699999999993, 6.3587699999999998, 6.4187699999999994, 6.4787699999999999, 6.5387699999999995, 6.5987699999999991, 6.6587699999999996, 6.7187700000000001, 6.7787699999999989, 6.8387699999999993, 6.8987699999999998, 6.9587700000000003, 7.0187699999999991, 7.0787699999999996, 7.1387700000000001, 7.1987700000000006, 7.2587699999999993, 7.3187699999999998, 7.3787700000000003, 7.438769999999999, 7.4987699999999995, 7.55877, 7.6187700000000005, 7.6787699999999992, 7.7387699999999997, 7.7987700000000002, 7.8587699999999989, 7.9187699999999994, 7.9787699999999999, 8.0387699999999995, 8.0987699999999982, 8.1587700000000005, 8.2187699999999992, 8.278769999999998, 8.3387700000000002, 8.398769999999999, 8.4587700000000012, 8.51877, 8.5787699999999987, 8.6387700000000009, 8.6987699999999997, 8.7587699999999984, 8.8187700000000007, 8.8787699999999994, 8.9387699999999981, 8.9987700000000004, 9.0587699999999991, 9.1187699999999978, 9.1787700000000001, 9.2387699999999988, 9.2987700000000011, 9.3587699999999998, 9.4187699999999985, 9.4787700000000008, 9.5387699999999995, 9.5987699999999982, 9.6587700000000005, 9.7187699999999992, 9.778769999999998, 9.8387700000000002, 9.898769999999999, 9.9587700000000012, 10.01877, 10.078769999999999, 10.138770000000001, 10.19877, 10.258769999999998, 10.318770000000001, 10.378769999999999]\n"
     ]
    }
   ],
   "source": [
    "print Zdummy"
   ]
  },
  {
   "cell_type": "code",
   "execution_count": 53,
   "metadata": {
    "collapsed": false
   },
   "outputs": [
    {
     "name": "stdout",
     "output_type": "stream",
     "text": [
      "[0.0, 2.0, 2.0, 2.0, 2.0, 2.0, 2.0, 2.0, 2.0, 2.0, 2.0, 2.0, 2.0, 2.0, 2.0, 2.0, 2.0, 2.0, 2.0, 3.901537099612896, 3.9147489929438124, 3.9231416809489068, 3.9146478443452883, 3.5700708852823779, 3.5385965438527034, 3.6388982511151475, 1.5533226686021295, 1.4510565593133262, 1.3421976778831908, 1.2731155476506222, 1.1601912165192636, 1.0810748903290959, 0.93335977278772697, 1.0780280147780485, 0.87313732878116779, 1.0527496692250611, 0.56167434832077745, 0.56841315586030194, 1.0992571680357801, 1.0622233918840582, 1.9999999992237718, 5.1535737563287967, 1.9999999992237718, 2.0000000006716419, 3.4031764308501922, 2.0000000006716419, 2.0000000023525173, 2.0, 6.286649525374151, 7.1313104990423648, 6.363591857582616, -5.5668308924465979, 762.50597124469402, 242.22130828852764, 2.0, 1.9999993424568647, 1.9999999992237718, 235.21450907226259, 3.2675135364044428, 1.9999999951133958, 1.9999999951695289, 1.9999999941923612, 2.0000000005175367, 2.0000000006716419, 2.0, 1.929230237264298, 1.9999892354776347, 2.0, 2.0, 2.0, 3.2051428292496955, 3.1296866528398772, 2.0000000017412018, -24.66945336992368, 1.8417769671892157, 8.8324944333329256, 1.9999999992237718, 2.0000000006716419, 2.0000000006716419, 1.9999999981543559, 1.9999999999583971, 1.9999999992237718, 1.9999999992237718, 1.9999999999583971, 1.9999999942787521, 1.9999999982551524, 2.0000000001414064, 196.55073921906779, 5.3021324473166729, 1.9999999784576457, 2.0, 1.9999999973895914, 1.9999999981442453, 105.65546772104847, 4.9939230820445539, 1.9520300780955719, 4.9046081823127077, 2.0, 2.000000000923964, 1.3632433947945704, 1.3837275298533875, 1.8857066620165124, 1.9999863921433103, 249.0393301884915, 1.999999947488512, 2.0631210358360406, 2.7265474740160975, 2.7858805418331971, 2.0, 1.9999999992237718, 2.0000000006716419, 1.9999991709086948, 2.0, 2.0, 2.0000000006716419, 1.9999998344140657, 1.9999997472710664, 1.9999997229894577, 4.5710573362466826, 3.2183868186818678, 287.13398876917142, 2.0, 2.0, 7.079099418510828, 6.5260888935757357, 1.9999998035616477, 1.9999999992237718, 1.9999999991249051, 1.9999999556960242, 1.9999999638300667, 2.0]\n"
     ]
    }
   ],
   "source": [
    "print Rdummy"
   ]
  },
  {
   "cell_type": "code",
   "execution_count": 54,
   "metadata": {
    "collapsed": false
   },
   "outputs": [
    {
     "data": {
      "text/plain": [
       "array([ 3.63889825,  3.72551583,  3.74690857,  3.70282513,  3.71245988,\n",
       "        3.70171098,  3.71873541,  3.71972817,  3.75538443,  3.73631487,\n",
       "        3.7334112 ,  3.71681881,  3.73225077,  3.7292746 ,  3.72794634,\n",
       "        3.73823166,  3.72446575,  3.71511615,  3.70542518,  3.69268716,\n",
       "        3.69873792,  3.69773589,  3.69233898,  3.65545079,  3.64904549,\n",
       "        3.6458613 ,  3.62644598,  3.62502206,  3.59150384,  3.57725805,\n",
       "        3.56104235,  3.54693551,  3.52341837,  3.51221081,  3.47211622,\n",
       "        3.47921929,  3.44983555,  3.4144202 ,  3.37237902,  3.34352661,\n",
       "        3.33988717,  3.29656919,  3.24307696,  3.24861174,  3.21109676,\n",
       "        3.17933588,  3.13438259,  3.09363224,  3.06280654,  3.0037712 ,\n",
       "        2.95805187,  2.94452727,  2.87632988,  2.79947202,  2.76758163,\n",
       "        2.70967243,  2.68632169,  2.57175599,  2.48013844,  2.4526405 ,\n",
       "        2.38077552,  2.33514335,  2.20374741,  2.14051521,  2.05395076,\n",
       "        1.98416562,  1.84818374,  1.79721229,  1.66155317,  1.55332267])"
      ]
     },
     "execution_count": 54,
     "metadata": {},
     "output_type": "execute_result"
    }
   ],
   "source": [
    "R"
   ]
  },
  {
   "cell_type": "code",
   "execution_count": 55,
   "metadata": {
    "collapsed": false
   },
   "outputs": [
    {
     "data": {
      "text/plain": [
       "array([ -1.23000000e-03,   5.87700000e-02,   1.18770000e-01,\n",
       "         1.78770000e-01,   2.38770000e-01,   2.98770000e-01,\n",
       "         3.58770000e-01,   4.18770000e-01,   4.78770000e-01,\n",
       "         5.38770000e-01,   5.98770000e-01,   6.58770000e-01,\n",
       "         7.18770000e-01,   7.78770000e-01,   8.38770000e-01,\n",
       "         8.98770000e-01,   9.58770000e-01,   1.01877000e+00,\n",
       "         1.07877000e+00,   1.13877000e+00,   1.19877000e+00,\n",
       "         1.25877000e+00,   1.31877000e+00,   1.37877000e+00,\n",
       "         1.43877000e+00,   1.49877000e+00,   1.55877000e+00,\n",
       "         1.61877000e+00,   1.67877000e+00,   1.73877000e+00,\n",
       "         1.79877000e+00,   1.85877000e+00,   1.91877000e+00,\n",
       "         1.97877000e+00,   2.03877000e+00,   2.09877000e+00,\n",
       "         2.15877000e+00,   2.21877000e+00,   2.27877000e+00,\n",
       "         2.33877000e+00,   2.39877000e+00,   2.45877000e+00,\n",
       "         2.51877000e+00,   2.57877000e+00,   2.63877000e+00,\n",
       "         2.69877000e+00,   2.75877000e+00,   2.81877000e+00,\n",
       "         2.87877000e+00,   2.93877000e+00,   2.99877000e+00,\n",
       "         3.05877000e+00,   3.11877000e+00,   3.17877000e+00,\n",
       "         3.23877000e+00,   3.29877000e+00,   3.35877000e+00,\n",
       "         3.41877000e+00,   3.47877000e+00,   3.53877000e+00,\n",
       "         3.59877000e+00,   3.65877000e+00,   3.71877000e+00,\n",
       "         3.77877000e+00,   3.83877000e+00,   3.89877000e+00,\n",
       "         3.95877000e+00,   4.01877000e+00,   4.07877000e+00,\n",
       "         4.13877000e+00])"
      ]
     },
     "execution_count": 55,
     "metadata": {},
     "output_type": "execute_result"
    }
   ],
   "source": [
    "z"
   ]
  },
  {
   "cell_type": "code",
   "execution_count": 56,
   "metadata": {
    "collapsed": false
   },
   "outputs": [],
   "source": [
    "#From here Water Peak data 22"
   ]
  },
  {
   "cell_type": "code",
   "execution_count": 57,
   "metadata": {
    "collapsed": false
   },
   "outputs": [],
   "source": [
    "Zdummy22=[0.0, -2.6640000000000001, -2.6040000000000001, -2.544, -2.484, -2.4240000000000004, -2.3640000000000003, -2.3040000000000003, -2.2440000000000002, -2.1840000000000002, -2.1240000000000001, -2.0640000000000001, -2.0040000000000004, -1.9440000000000002, -1.8840000000000001, -1.8240000000000003, -1.7640000000000002, -1.7040000000000002, -1.6440000000000001, -1.5840000000000001, -1.5240000000000002, -1.4640000000000002, -1.4040000000000001, -1.3440000000000003, -1.2840000000000003, -1.2240000000000002, -1.1640000000000001, -1.1040000000000001, -1.0440000000000003, -0.98400000000000021, -0.92400000000000015, -0.86400000000000032, -0.80400000000000027, -0.74400000000000022, -0.68400000000000016, -0.62400000000000011, -0.56400000000000006, -0.504, -0.44400000000000039, -0.38400000000000034, -0.32400000000000029, -0.26400000000000023, -0.20400000000000018, -0.14400000000000013, -0.084000000000000075, -0.024000000000000465, 0.035999999999999588, 0.095999999999999641, 4.895999999999999, 4.9559999999999995, 5.016, 5.0759999999999987, 5.1359999999999992, 5.1959999999999997, 5.2560000000000002, 5.3159999999999989, 5.3759999999999994, 5.4359999999999999, 5.4960000000000004, 5.5559999999999992, 5.6159999999999997, 5.6760000000000002, 5.7360000000000007, 5.7959999999999994, 5.8559999999999999, 5.9160000000000004, 5.9760000000000009, 6.0359999999999996, 6.0960000000000001, 6.1560000000000006, 6.2159999999999993, 6.2759999999999998, 6.3360000000000003, 6.3960000000000008, 6.4559999999999995, 6.516, 6.5760000000000005, 6.6359999999999992, 6.6959999999999997, 6.7560000000000002, 6.8160000000000007, 6.8759999999999994, 6.9359999999999999, 6.9960000000000004, 7.0559999999999992, 7.1159999999999997, 7.1760000000000002, 7.2360000000000007, 7.2959999999999994, 7.3559999999999999, 7.4160000000000004, 7.4759999999999991, 7.5359999999999996, 7.5960000000000001, 7.6560000000000006, 7.7159999999999993, 7.7759999999999998, 7.8360000000000003, 7.895999999999999, 7.9559999999999995, 8.016, 8.0760000000000005, 8.1359999999999992, 8.1959999999999997, 8.2560000000000002, 8.3160000000000007, 8.3759999999999994, 8.4359999999999999, 8.4960000000000004, 8.5559999999999992, 8.6159999999999997, 8.6760000000000002, 8.7360000000000007, 8.7959999999999994, 8.8559999999999999, 8.9160000000000004, 8.9759999999999991, 9.0359999999999996, 9.0960000000000001, 9.1560000000000006]"
   ]
  },
  {
   "cell_type": "code",
   "execution_count": 58,
   "metadata": {
    "collapsed": false
   },
   "outputs": [],
   "source": [
    "Rdummy22=[0.0, 2.0, 2.0, 2.0, 2.0, 2.0, 2.0, 2.0, 2.0, 2.0, 2.0, 2.0, 2.0, 2.0, 2.0, 2.0, 2.0, 2.0, 2.0, 2.0, 2.0, 2.0, 2.0, 2.0, 2.0, 2.0, 2.0, 2.0, 2.0, 2.0, 2.0, 2.0, 2.0, 2.0, 2.0, 2.0, 2.0, 2.0, 2.0, 3.5005239354568438, 3.9710928010113382, 3.9862762751034637, 3.9812361980502797, 3.8741010920414141, 3.8041350243064942, 3.8526749959546049, 3.9259265064504194, 3.9623983722787637, 1.364813342868989, 1.3193026802589769, 1.0857247923048241, 0.98662536439451221, 0.98507447144637672, 0.68063348425568004, 0.26201624055606743, 0.87996803113749733, 0.56835180979922761, 0.75682774134301234, 0.90007002649897505, 0.48067856189497421, 0.4756806696115623, 2.0, 2.0, 2.0, 2.0, 2.0, 2.0, 2.0, 1.9999999970875102, 1.9999999966429207, 2.0, 2.0, 2.0, 2.0, 2.0, 2.0, 2.0, 2.0, 2.0, 2.0, 2.0, 2.0, 2.0, 2.0, 2.0, 2.0, 2.0, 2.0, 1.9607146945173335, 2.0, 1.9999906777656979, 2.0, 2.0, 2.0, 2.0, 2.0, 2.0, 2.0, 2.0, 2.0, 2.0, 2.0, 2.0, 2.0, 2.0, 2.0, 2.0, 1.9999995123041323, 1.9999993584753031, 1.9999999788719249, 1.9999993794476323, 1.9999999748163499, 2.0, 2.0, 2.0, 2.0, 2.0, 2.0, 2.0, 2.0]"
   ]
  },
  {
   "cell_type": "code",
   "execution_count": 59,
   "metadata": {
    "collapsed": false
   },
   "outputs": [],
   "source": [
    "R22=array([ 3.96239837,  3.98777897,  3.97034247,  3.96232205,  4.01400388,\n",
    "        4.00707699,  4.02579194,  4.06891846,  4.05497718,  4.04803864,\n",
    "        4.03233564,  4.09761666,  4.05734268,  4.1087859 ,  4.07908085,\n",
    "        4.107631  ,  4.09222897,  4.07567488,  4.09084869,  4.08905418,\n",
    "        4.07010528,  4.07985666,  4.09493267,  4.08066578,  4.07103503,\n",
    "        4.05806488,  4.06101459,  4.04491395,  4.05038723,  4.0373375 ,\n",
    "        4.01762314,  4.01728446,  4.0179207 ,  3.99279131,  3.96382901,\n",
    "        3.9413476 ,  3.95942041,  3.91550842,  3.89017175,  3.87819716,\n",
    "        3.8314219 ,  3.84262197,  3.80677053,  3.78602367,  3.75457599,\n",
    "        3.72756439,  3.69041642,  3.66107359,  3.64707338,  3.60990955,\n",
    "        3.57351969,  3.5160614 ,  3.4814915 ,  3.45913372,  3.41848934,\n",
    "        3.35310527,  3.29141923,  3.27677836,  3.23510556,  3.17609441,\n",
    "        3.11141968,  3.0771554 ,  2.99745634,  2.97224753,  2.896079  ,\n",
    "        2.81739609,  2.70149127,  2.71306893,  2.6074497 ,  2.51678084,\n",
    "        2.44419531,  2.34516423,  2.2919071 ,  2.17966751,  2.10086283,\n",
    "        1.98756795,  1.90147324,  1.76081096,  1.5678734 ,  1.567117  ,\n",
    "        1.36481334])"
   ]
  },
  {
   "cell_type": "code",
   "execution_count": 60,
   "metadata": {
    "collapsed": false
   },
   "outputs": [],
   "source": [
    "z22=array([ 0.096,  0.156,  0.216,  0.276,  0.336,  0.396,  0.456,  0.516,\n",
    "        0.576,  0.636,  0.696,  0.756,  0.816,  0.876,  0.936,  0.996,\n",
    "        1.056,  1.116,  1.176,  1.236,  1.296,  1.356,  1.416,  1.476,\n",
    "        1.536,  1.596,  1.656,  1.716,  1.776,  1.836,  1.896,  1.956,\n",
    "        2.016,  2.076,  2.136,  2.196,  2.256,  2.316,  2.376,  2.436,\n",
    "        2.496,  2.556,  2.616,  2.676,  2.736,  2.796,  2.856,  2.916,\n",
    "        2.976,  3.036,  3.096,  3.156,  3.216,  3.276,  3.336,  3.396,\n",
    "        3.456,  3.516,  3.576,  3.636,  3.696,  3.756,  3.816,  3.876,\n",
    "        3.936,  3.996,  4.056,  4.116,  4.176,  4.236,  4.296,  4.356,\n",
    "        4.416,  4.476,  4.536,  4.596,  4.656,  4.716,  4.776,  4.836,\n",
    "        4.896])"
   ]
  },
  {
   "cell_type": "code",
   "execution_count": 61,
   "metadata": {
    "collapsed": false
   },
   "outputs": [],
   "source": [
    "theta22=104.762249968\n",
    "base_r22=3.95964613966\n",
    "xc22=1.04339314236\n",
    "R_222=4.09480973928"
   ]
  },
  {
   "cell_type": "code",
   "execution_count": 62,
   "metadata": {
    "collapsed": false
   },
   "outputs": [],
   "source": [
    "#From here GDS data 33"
   ]
  },
  {
   "cell_type": "code",
   "execution_count": 63,
   "metadata": {
    "collapsed": false
   },
   "outputs": [],
   "source": [
    "theta33=108.611448781\n",
    "base_r33=3.88067025888\n",
    "xc33= 1.3068531434  \n",
    "R_233= 4.09480973875"
   ]
  },
  {
   "cell_type": "code",
   "execution_count": null,
   "metadata": {
    "collapsed": false
   },
   "outputs": [],
   "source": []
  }
 ],
 "metadata": {
  "kernelspec": {
   "display_name": "Python 2",
   "language": "python",
   "name": "python2"
  },
  "language_info": {
   "codemirror_mode": {
    "name": "ipython",
    "version": 2
   },
   "file_extension": ".py",
   "mimetype": "text/x-python",
   "name": "python",
   "nbconvert_exporter": "python",
   "pygments_lexer": "ipython2",
   "version": "2.7.11"
  }
 },
 "nbformat": 4,
 "nbformat_minor": 0
}
